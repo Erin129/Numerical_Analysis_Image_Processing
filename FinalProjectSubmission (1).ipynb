{
 "cells": [
  {
   "cell_type": "code",
   "execution_count": 329,
   "id": "c02ddd6c-6daa-47d6-8178-68064b43580b",
   "metadata": {
    "tags": []
   },
   "outputs": [
    {
     "name": "stderr",
     "output_type": "stream",
     "text": [
      "\u001b[32m\u001b[1m   Resolving\u001b[22m\u001b[39m package versions...\n",
      "\u001b[32m\u001b[1m  No Changes\u001b[22m\u001b[39m to `~/Project.toml`\n",
      "\u001b[32m\u001b[1m  No Changes\u001b[22m\u001b[39m to `~/Manifest.toml`\n",
      "\u001b[32m\u001b[1m   Resolving\u001b[22m\u001b[39m package versions...\n",
      "\u001b[32m\u001b[1m  No Changes\u001b[22m\u001b[39m to `~/Project.toml`\n",
      "\u001b[32m\u001b[1m  No Changes\u001b[22m\u001b[39m to `~/Manifest.toml`\n",
      "\u001b[32m\u001b[1m   Resolving\u001b[22m\u001b[39m package versions...\n",
      "\u001b[32m\u001b[1m  No Changes\u001b[22m\u001b[39m to `~/Project.toml`\n",
      "\u001b[32m\u001b[1m  No Changes\u001b[22m\u001b[39m to `~/Manifest.toml`\n"
     ]
    }
   ],
   "source": [
    "import Pkg\n",
    "Pkg.add(\"Optim\")\n",
    "using Optim\n",
    "using Images\n",
    "using Distributions\n",
    "using ColorVectorSpace\n",
    "using LinearAlgebra\n",
    "Pkg.add(\"ImageShow\")\n",
    "using ImageShow\n",
    "Pkg.add(\"ForwardDiff\")\n",
    "using ForwardDiff\n",
    "using Plots"
   ]
  },
  {
   "cell_type": "code",
   "execution_count": 275,
   "id": "fb20d813-6dbf-4d99-b179-ae687932ded3",
   "metadata": {
    "tags": []
   },
   "outputs": [
    {
     "data": {
      "text/plain": [
       "create_noisy_images (generic function with 1 method)"
      ]
     },
     "execution_count": 275,
     "metadata": {},
     "output_type": "execute_result"
    }
   ],
   "source": [
    "function add_laplace_noise(image, scale=0.1) #NOISE LEVEL 0.3\n",
    "    noisy_image = image .+ scale * rand(Laplace(), size(image))\n",
    "    return clamp.(noisy_image, 0.0, 1.0)  # Clamp values between 0 and 1\n",
    "end\n",
    "\n",
    "# Function to create a matrix of images with different levels of Laplace noise\n",
    "function create_noisy_images(original_image, num_images)\n",
    "    \n",
    "    # Create a matrix to store the noisy images\n",
    "    noisy_images = zeros(size(original_image, 1),size(original_image,2), num_images)\n",
    "\n",
    "    # Add Laplace noise to the original image with different scales\n",
    "    for i in 1:num_images\n",
    "        noisy_images[:,:,i] .= add_laplace_noise(original_image)\n",
    "    end\n",
    "\n",
    "    return noisy_images\n",
    "end"
   ]
  },
  {
   "cell_type": "markdown",
   "id": "54fdca25-dd05-43bc-a1bf-72f66f77f790",
   "metadata": {},
   "source": [
    "# 1a) Supervised with BFGS algorithm"
   ]
  },
  {
   "cell_type": "code",
   "execution_count": 276,
   "id": "77dc1d33-8496-4fa0-b4c8-f153cfe3f2c0",
   "metadata": {
    "tags": []
   },
   "outputs": [
    {
     "data": {
      "image/png": "[encoded data removed]",
      "text/html": [
       "<img src=\"data:image/png;base64,iVBORw0KGgoAAAANSUhEUgAAAGQAAABkCAAAAABVicqIAAAABGdBTUEAALGPC/xhBQAAAAFzUkdCAK7OHOkAAAAgY0hSTQAAeiYAAICEAAD6AAAAgOgAAHUwAADqYAAAOpgAABdwnLpRPAAAATlJREFUaAW9wTtSw0AARMEn6cmG4orcPyMh4GN5tUQTqYpwun0nXomF+CZ+iZVYiEE8iE9CCqRACqRACqRACqRACpzEk6snsRJ3YufqgyspkAIpkAIpkAIpkAIpcBAP4iR+iMnVJBbijTgIKZACKZACKZACKZACKfDkahBPYhAncRAr8UbcCSmQAimQAimQAimQAilwcrUSEgshsRM78SAGIQVSIAVSIAVSIAVSIAUO4iQmMYmV2IiduBEPYiOkQAqkQAqkQAqkQAqkwC9iEpNYiY3/HMSN2AkpkAIpkAIpkAIpkAIp8Is4iYW4ESsxiJOYxCBOQgqkQAqkQAqkQAqkQAr8JVauXgiJhdiIJ3EQElIgBVIgBVIgBVIgBVLgxtUgDmIjJDZCQkJCCqRACqRACqRACqRACv4AE1Ev0W2GIzEAAAAASUVORK5C\">"
      ],
      "text/plain": [
       "10×10 Array{Gray{N0f8},2} with eltype Gray{N0f8}:\n",
       " Gray{N0f8}(0.361)  Gray{N0f8}(0.396)  …  Gray{N0f8}(0.259)\n",
       " Gray{N0f8}(0.357)  Gray{N0f8}(0.38)      Gray{N0f8}(0.259)\n",
       " Gray{N0f8}(0.345)  Gray{N0f8}(0.357)     Gray{N0f8}(0.298)\n",
       " Gray{N0f8}(0.337)  Gray{N0f8}(0.345)     Gray{N0f8}(0.325)\n",
       " Gray{N0f8}(0.333)  Gray{N0f8}(0.345)     Gray{N0f8}(0.314)\n",
       " Gray{N0f8}(0.322)  Gray{N0f8}(0.325)  …  Gray{N0f8}(0.325)\n",
       " Gray{N0f8}(0.282)  Gray{N0f8}(0.278)     Gray{N0f8}(0.345)\n",
       " Gray{N0f8}(0.243)  Gray{N0f8}(0.235)     Gray{N0f8}(0.325)\n",
       " Gray{N0f8}(0.216)  Gray{N0f8}(0.224)     Gray{N0f8}(0.329)\n",
       " Gray{N0f8}(0.227)  Gray{N0f8}(0.227)     Gray{N0f8}(0.353)"
      ]
     },
     "execution_count": 276,
     "metadata": {},
     "output_type": "execute_result"
    }
   ],
   "source": [
    "original_image = Gray.(load(\"reallysmallmoon.jpg\"))\n",
    "colorview(Gray, original_image)"
   ]
  },
  {
   "cell_type": "code",
   "execution_count": 277,
   "id": "f3b316c6-4517-4053-8d98-1fd9caeb8da0",
   "metadata": {
    "tags": []
   },
   "outputs": [
    {
     "data": {
      "text/plain": [
       "(100, 1, 10)"
      ]
     },
     "execution_count": 277,
     "metadata": {},
     "output_type": "execute_result"
    }
   ],
   "source": [
    "original_image= vec(original_image) #turn original image into one long vector\n",
    "noisy_images=create_noisy_images(original_image, 10) #get set of 10 images with diff noise\n",
    "size(noisy_images)"
   ]
  },
  {
   "cell_type": "markdown",
   "id": "81a141cc-7434-46ed-bcbb-871a982c5341",
   "metadata": {},
   "source": [
    "$$\n",
    "Minimize_w \\lVert X - \\sum_{i} w_i \\cdot X_i \\rVert_1\n",
    "$$"
   ]
  },
  {
   "cell_type": "markdown",
   "id": "f56f5f0d-e69a-4e04-83a9-4f450c279942",
   "metadata": {},
   "source": [
    "Here, X is the real image, Xi is the noisy images, and wi is what we are trying to minimize. Ultimately, our result is going to be wi, which should be the best image, combining all the pixels of the rest of the images. Obviously this is done with the real image so there is a good benchmark to look at for the images. With this function, we are basically trying to find a root, which is the best image we can possibly get from this formula"
   ]
  },
  {
   "cell_type": "markdown",
   "id": "ac8835b3-a870-4f44-b8f8-c65d5de1c832",
   "metadata": {},
   "source": [
    "BFGS is a second order optimization algorithm. It is a Quasi Newton method, which means it is an extension of newtons method, that approximates the hessian. This can be used to determine the direction to move. To calculate the steps it has to take, it uses a line search to determine how much to move. "
   ]
  },
  {
   "cell_type": "code",
   "execution_count": 278,
   "id": "bab089d8-f165-481a-9739-278e786a86e1",
   "metadata": {
    "tags": []
   },
   "outputs": [
    {
     "name": "stdout",
     "output_type": "stream",
     "text": [
      "  0.558686 seconds (16.15 M allocations: 461.719 MiB, 4.80% gc time, 8.70% compilation time: 47% of which was recompilation)\n"
     ]
    },
    {
     "data": {
      "text/plain": [
       " * Status: failure (reached maximum number of iterations)\n",
       "\n",
       " * Candidate solution\n",
       "    Final objective value:     3.290202e+00\n",
       "\n",
       " * Found with\n",
       "    Algorithm:     BFGS\n",
       "\n",
       " * Convergence measures\n",
       "    |x - x'|               = 1.64e-05 ≰ 0.0e+00\n",
       "    |x - x'|/|x'|          = 2.10e-05 ≰ 0.0e+00\n",
       "    |f(x) - f(x')|         = 3.20e-06 ≰ 0.0e+00\n",
       "    |f(x) - f(x')|/|f(x')| = 9.72e-07 ≰ 0.0e+00\n",
       "    |g(x)|                 = 9.40e-01 ≰ 1.0e-08\n",
       "\n",
       " * Work counters\n",
       "    Seconds run:   1  (vs limit Inf)\n",
       "    Iterations:    1000\n",
       "    f(x) calls:    11325\n",
       "    ∇f(x) calls:   11325\n"
      ]
     },
     "execution_count": 278,
     "metadata": {},
     "output_type": "execute_result"
    }
   ],
   "source": [
    "function supervised(w)\n",
    "    s=sum(w[i]*noisy_images[i] for i in 1:size(noisy_images, 3)) # follow formula for [X-sum[wi*Xi]] ->3 gets the 10 images\n",
    "    diff= norm(original_image .- s, 1) #take 1 norm of calculation\n",
    "    return sum(abs, diff)\n",
    "end\n",
    "\n",
    "∇supervised = x -> ForwardDiff.gradient(supervised, x)\n",
    "w_init = zeros(10)\n",
    "\n",
    "# Minimize the function using the Levenberg-Marquardt algorithm\n",
    "@time result = optimize(supervised, w_init, BFGS())"
   ]
  },
  {
   "cell_type": "code",
   "execution_count": 279,
   "id": "5499511b-2fc5-45c4-bf49-94af64303e62",
   "metadata": {
    "tags": []
   },
   "outputs": [
    {
     "name": "stdout",
     "output_type": "stream",
     "text": [
      "Minimum value of Supervised Formula optimized by BFGS: 3.290202360717429\n"
     ]
    }
   ],
   "source": [
    "#smallest norm value of that w vector from formula: norm(||[X-sum[wi*Xi]]||)\n",
    "println(\"Minimum value of Supervised Formula optimized by BFGS: \", Optim.minimum(result))"
   ]
  },
  {
   "cell_type": "code",
   "execution_count": 280,
   "id": "69bd6b25-7883-48c1-ac3f-7a1ae394e202",
   "metadata": {
    "tags": []
   },
   "outputs": [
    {
     "data": {
      "text/plain": [
       "10-element Vector{Float64}:\n",
       "  0.47485695906301095\n",
       "  0.18232726564132526\n",
       "  0.7640092188950128\n",
       "  0.3629091613469577\n",
       "  0.025046776094196966\n",
       " -0.021098869111764673\n",
       " -0.781110493202187\n",
       "  0.3732429030176659\n",
       "  0.21007206294956543\n",
       " -0.5614510748412402"
      ]
     },
     "execution_count": 280,
     "metadata": {},
     "output_type": "execute_result"
    }
   ],
   "source": [
    "w=Optim.minimizer(result) #gets w vector aka linear combo of images"
   ]
  },
  {
   "cell_type": "code",
   "execution_count": 281,
   "id": "03cde58f-ae50-4381-b2d4-875ec46425c5",
   "metadata": {
    "tags": []
   },
   "outputs": [
    {
     "data": {
      "image/png": "[encoded data removed]",
      "text/html": [
       "<img src=\"data:image/png;base64,iVBORw0KGgoAAAANSUhEUgAAAGQAAABkCAAAAABVicqIAAAABGdBTUEAALGPC/xhBQAAAAFzUkdCAK7OHOkAAAAgY0hSTQAAeiYAAICEAAD6AAAAgOgAAHUwAADqYAAAOpgAABdwnLpRPAAAAYJJREFUaAW9wb1KFQAAhuH3wLuoOAjl0RatKX9oKXBQAm06iy2uXUZb9yHObUFb1C5COESDDoL2RxaBGLnEGQybvlv4nseHxJC4S7wjVoknxHviJ7FMnBBSIAVSIAVSIAVSIAVS4H1iSFwQC8QU8ZH4RNwj/hEbhBRIgRRIgRRIgRRIgRR4RfwhNogb4jsxS9wmfhDnxEtCCqRACqRACqRACqRAClwkDohTYpXYJ+aICeIt8Yh4RkiBFEiBFEiBFEiBFEiBY2KT+EIcEovEgJgh7hDrxBtCCqRACqRACqRACqRACrxFTBKfib/EgFghroinxBGxRUiBFEiBFEiBFEiBFEiBR8QKsUZME7+IS2KPGBEj4gMhBVIgBVIgBVIgBVIgBX4jxsQ1MU9cEw+IHeIrsUs8JqRACqRACqRACqRACqTAIXFBbBOviHXijDgkdogp4jUhBVIgBVIgBVIgBVIgBf4mpol94jnxglgixsQEcUwsEVIgBVIgBVIgBVIgBVLwH+yGMlEoyX3/AAAAAElFTkSuQmCC\">"
      ],
      "text/plain": [
       "10×10 reinterpret(reshape, Gray{Float64}, ::Matrix{Float64}) with eltype Gray{Float64}:\n",
       " Gray{Float64}(0.20078)   …  Gray{Float64}(0.24953)\n",
       " Gray{Float64}(0.357111)     Gray{Float64}(0.486991)\n",
       " Gray{Float64}(0.298376)     Gray{Float64}(0.0311983)\n",
       " Gray{Float64}(0.421653)     Gray{Float64}(0.395401)\n",
       " Gray{Float64}(0.390356)     Gray{Float64}(0.138827)\n",
       " Gray{Float64}(0.469968)  …  Gray{Float64}(0.397665)\n",
       " Gray{Float64}(0.292668)     Gray{Float64}(0.346367)\n",
       " Gray{Float64}(0.173753)     Gray{Float64}(0.374689)\n",
       " Gray{Float64}(0.262498)     Gray{Float64}(0.195816)\n",
       " Gray{Float64}(0.190934)     Gray{Float64}(0.357718)"
      ]
     },
     "metadata": {},
     "output_type": "display_data"
    },
    {
     "data": {
      "image/png": "[encoded data removed]",
      "text/html": [
       "<img src=\"data:image/png;base64,iVBORw0KGgoAAAANSUhEUgAAAGQAAABkCAAAAABVicqIAAAABGdBTUEAALGPC/xhBQAAAAFzUkdCAK7OHOkAAAAgY0hSTQAAeiYAAICEAAD6AAAAgOgAAHUwAADqYAAAOpgAABdwnLpRPAAAAYBJREFUaAW9wTFKFgAAhuGX/BzEIJCfBgURrSBCxKHBWlocCocu4NgZuklLJwmaRBARFA1adBBTtDTQSLAUdXqv8D1P3qP/aA5toHF0jCbRGppDxygUhIJQEApCQSgIBaEgFOQGPUQX6ArtoFs0gRbRDzSJQkEoCAWhIBSEglAQCkJBJtAqmkKv0QBtoX/oI3qFXqBQEApCQSgIBaEgFISCUJAT9AEdoRU0hp6gPfQZLaDfKBSEglAQCkJBKAgFoSAUZAqto1v0FD1Al2gafUezaAeFglAQCkJBKAgFoSAUhIKMo320hZbQNnqH9tAd2kRXKBSEglAQCkJBKAgFoSAU5CsaoGX0Db1B++gcDaFhdIlCQSgIBaEgFISCUBAKQkEGaBudor9oE12jGzSDvqC3KBSEglAQCkJBKAgFoSAU5CXaRY/QCHqG/qBhdIjm0QkKBaEgFISCUBAKQkEoCAX5hJ6jM/QLzaMDNIp+osdoF4WCUBAKQkEoCAWhIBSEgnsYDTgBna7JpQAAAABJRU5ErkJg\">"
      ],
      "text/plain": [
       "10×10 reinterpret(reshape, Gray{Float64}, ::Matrix{Float64}) with eltype Gray{Float64}:\n",
       " Gray{Float64}(0.315363)  Gray{Float64}(0.292094)  …  Gray{Float64}(0.2504)\n",
       " Gray{Float64}(0.298091)  Gray{Float64}(0.337765)     Gray{Float64}(0.368526)\n",
       " Gray{Float64}(0.403048)  Gray{Float64}(0.168036)     Gray{Float64}(0.294324)\n",
       " Gray{Float64}(0.31166)   Gray{Float64}(0.563951)     Gray{Float64}(0.272571)\n",
       " Gray{Float64}(0.437048)  Gray{Float64}(0.349646)     Gray{Float64}(0.338046)\n",
       " Gray{Float64}(0.539111)  Gray{Float64}(0.310118)  …  Gray{Float64}(0.288322)\n",
       " Gray{Float64}(0.272505)  Gray{Float64}(0.350747)     Gray{Float64}(0.277067)\n",
       " Gray{Float64}(0.349041)  Gray{Float64}(0.165184)     Gray{Float64}(0.397082)\n",
       " Gray{Float64}(0.556818)  Gray{Float64}(0.20418)      Gray{Float64}(0.300055)\n",
       " Gray{Float64}(0.140246)  Gray{Float64}(0.301715)     Gray{Float64}(0.157005)"
      ]
     },
     "metadata": {},
     "output_type": "display_data"
    },
    {
     "data": {
      "image/png": "[encoded data removed]",
      "text/html": [
       "<img src=\"data:image/png;base64,iVBORw0KGgoAAAANSUhEUgAAAGQAAABkCAAAAABVicqIAAAABGdBTUEAALGPC/xhBQAAAAFzUkdCAK7OHOkAAAAgY0hSTQAAeiYAAICEAAD6AAAAgOgAAHUwAADqYAAAOpgAABdwnLpRPAAAAX9JREFUaAW9wbFKFQAAheF/+C2UCjKHi4SVIIlLKOEggosKtimtQW/RG/QsOeQTOFwEl4YI2xqC24WWUsE0GgyczuR+vs+3xF9CYkycEU+JWWJM/CSmCSmQAimQAimQAimQAilwRLwgjol54j7xhBgQP4hVYkRIgRRIgRRIgRRIgRRIgSNigVgg/hDLxAHxjFgixsQmIQVSIAVSIAVSIAVSIAW+JIbEa+I9MSAmiU3iiPhPvCOkQAqkQAqkQAqkQAqkwHNih/hMbBMHxBYxJFaIIbFBSIEUSIEUSIEUSIEUSIF3iFNilzgk3hC/iDniiJghJggpkAIpkAIpkAIpkAIpcJq4S3wkpogT4hFxxW0PiFeEFEiBFEiBFEiBFEiBFHhB/CYmiDPiHnFNXBJDYo/4QEiBFEiBFEiBFEiBFEiB34h/xHNue0x8ItaJNeIhMUNIgRRIgRRIgRRIgRRIgfPEV2KR+EJ8J7aIfWKRGBAnhBRIgRRIgRRIgRRIgRTcAKDoLxyQSK7eAAAAAElFTkSuQmCC\">"
      ],
      "text/plain": [
       "10×10 reinterpret(reshape, Gray{Float64}, ::Matrix{Float64}) with eltype Gray{Float64}:\n",
       " Gray{Float64}(0.374621)  Gray{Float64}(0.337435)  …  Gray{Float64}(0.250155)\n",
       " Gray{Float64}(0.254412)  Gray{Float64}(0.439706)     Gray{Float64}(0.270839)\n",
       " Gray{Float64}(0.134543)  Gray{Float64}(0.401077)     Gray{Float64}(0.537929)\n",
       " Gray{Float64}(0.33921)   Gray{Float64}(0.148937)     Gray{Float64}(0.0)\n",
       " Gray{Float64}(0.272344)  Gray{Float64}(0.435141)     Gray{Float64}(0.247024)\n",
       " Gray{Float64}(0.294058)  Gray{Float64}(0.359061)  …  Gray{Float64}(0.347541)\n",
       " Gray{Float64}(0.365242)  Gray{Float64}(0.394017)     Gray{Float64}(0.676352)\n",
       " Gray{Float64}(0.311121)  Gray{Float64}(0.232533)     Gray{Float64}(0.328297)\n",
       " Gray{Float64}(0.161941)  Gray{Float64}(0.128007)     Gray{Float64}(0.473127)\n",
       " Gray{Float64}(0.294033)  Gray{Float64}(0.116674)     Gray{Float64}(0.310424)"
      ]
     },
     "metadata": {},
     "output_type": "display_data"
    },
    {
     "data": {
      "image/png": "[encoded data removed]",
      "text/html": [
       "<img src=\"data:image/png;base64,iVBORw0KGgoAAAANSUhEUgAAAGQAAABkCAAAAABVicqIAAAABGdBTUEAALGPC/xhBQAAAAFzUkdCAK7OHOkAAAAgY0hSTQAAeiYAAICEAAD6AAAAgOgAAHUwAADqYAAAOpgAABdwnLpRPAAAAXhJREFUaAW9wbFKFQAAheFf+kUp1K2loAZTl3ASpEGMNgdf4S69hc/hG7j0DIm4RlaETtakgkQOcVPkqnCdznT3833uEvvENPGLeE/8I26IJ8R/4oKQAimQAimQAimQAimQAo+IMbFALBIj4pJ4R5wSM4SEFEiBFEiBFEiBFEiBFHhPjIk/xCVxRywRX4g54hkxRUiBFEiBFEiBFEiBFEiBQ+I3sUpcE2PiB/GSGBEj4jkhBVIgBVIgBVIgBVIgBc4SA+KQeEsMiQXigVgjZpkkBVIgBVIgBVIgBVIgBb4gfhLzxCdilXhFzDPpMzFDSIEUSIEUSIEUSIEUSIHHxJh4Q2wRH4jvTNohNoh1QgqkQAqkQAqkQAqkQAr8RqwRI+IpcUwMiStim1gmTggpkAIpkAIpkAIpkAIpcJG4Jc6JAbFHLBNLxAFxQkhIgRRIgRRIgRRIgRRIgV+JTeKW+Ei8Jq6Iv8QZscIkKZACKZACKZACKZACKXgEuKc0Srt04VUAAAAASUVORK5C\">"
      ],
      "text/plain": [
       "10×10 reinterpret(reshape, Gray{Float64}, ::Matrix{Float64}) with eltype Gray{Float64}:\n",
       " Gray{Float64}(0.585143)   …  Gray{Float64}(0.192578)\n",
       " Gray{Float64}(0.382316)      Gray{Float64}(0.209525)\n",
       " Gray{Float64}(0.360671)      Gray{Float64}(0.21137)\n",
       " Gray{Float64}(0.306517)      Gray{Float64}(0.298815)\n",
       " Gray{Float64}(0.335943)      Gray{Float64}(0.56612)\n",
       " Gray{Float64}(0.442627)   …  Gray{Float64}(0.321848)\n",
       " Gray{Float64}(0.267806)      Gray{Float64}(0.514275)\n",
       " Gray{Float64}(0.0682163)     Gray{Float64}(0.342825)\n",
       " Gray{Float64}(0.207589)      Gray{Float64}(0.313674)\n",
       " Gray{Float64}(0.0)           Gray{Float64}(0.361633)"
      ]
     },
     "metadata": {},
     "output_type": "display_data"
    },
    {
     "data": {
      "image/png": "[encoded data removed]",
      "text/html": [
       "<img src=\"data:image/png;base64,iVBORw0KGgoAAAANSUhEUgAAAGQAAABkCAAAAABVicqIAAAABGdBTUEAALGPC/xhBQAAAAFzUkdCAK7OHOkAAAAgY0hSTQAAeiYAAICEAAD6AAAAgOgAAHUwAADqYAAAOpgAABdwnLpRPAAAAYZJREFUaAW9wbFKFQAAheE/OpUKBaJIDkLcDPEiqIUELU0ODY69QeEztDW09Qb5BOLUJo4FYSE4yA2CSAhdhAYXTSFo+l/hfF820Qf0Es2icTRC4+gK3UJnKBSEglAQCkJBKAgFoSAUZB5tomt0gr6iN+gH+omO0QMUCkJBKAgFoSAUhIJQEAryHi2idXSAVtAI3UUb6BCdo1AQCkJBKAgFoSAUhIJQkCm0j2bQEH1CY+gf2kbP0AUKBaEgFISCUBAKQkEoCAV5ilbRJfqIhugajdAr9A7dR6EgFISCUBAKQkEoCAWhIN/QHBqgSbSE9tAjtIteowMUCkJBKAgFoSAUhIJQEAoyjx6jHbSAPqMltI+m0Qr6hUJBKAgFoSAUhIJQEApCQW6gt2gZDdBfNIueoGO0hdZQKAgFoSAUhIJQEApCQSjIGBqih2iATtEXdA/dQX/QIQoFoSAUhIJQEApCQSgIBZlAv9FttINuoit0hF6g7+g5CgWhIBSEglAQCkJBKAgF/wHiZy9nVeafKQAAAABJRU5ErkJg\">"
      ],
      "text/plain": [
       "10×10 reinterpret(reshape, Gray{Float64}, ::Matrix{Float64}) with eltype Gray{Float64}:\n",
       " Gray{Float64}(0.405392)   …  Gray{Float64}(0.242422)\n",
       " Gray{Float64}(0.543732)      Gray{Float64}(0.30615)\n",
       " Gray{Float64}(0.0843777)     Gray{Float64}(0.341337)\n",
       " Gray{Float64}(0.160682)      Gray{Float64}(0.359564)\n",
       " Gray{Float64}(0.378379)      Gray{Float64}(0.234559)\n",
       " Gray{Float64}(0.163674)   …  Gray{Float64}(0.335285)\n",
       " Gray{Float64}(0.307666)      Gray{Float64}(0.402089)\n",
       " Gray{Float64}(0.310138)      Gray{Float64}(0.538385)\n",
       " Gray{Float64}(0.341185)      Gray{Float64}(0.343209)\n",
       " Gray{Float64}(0.380666)      Gray{Float64}(0.506361)"
      ]
     },
     "metadata": {},
     "output_type": "display_data"
    },
    {
     "data": {
      "image/png": "[encoded data removed]",
      "text/html": [
       "<img src=\"data:image/png;base64,iVBORw0KGgoAAAANSUhEUgAAAGQAAABkCAAAAABVicqIAAAABGdBTUEAALGPC/xhBQAAAAFzUkdCAK7OHOkAAAAgY0hSTQAAeiYAAICEAAD6AAAAgOgAAHUwAADqYAAAOpgAABdwnLpRPAAAAX1JREFUaAW9wbFKFQAAheEf+TVwEpcu2NggeEGwQKOoVWht8AEaG+wNfBSHEGpp6gUanRxEl0BFu6khJGjgTbhNp6X9fJ9viSlC4oQYErPEiPhODIgrQgqkQAqkQAqkQAqkQArknwfEPPGL2CVeEr+JdWKD2CKkQAqkQAqkQAqkQAqkwDviOXFNHBArxDfiA/GaOCQmhBRIgRRIgRRIgRRIgRR4T0yIXULijLgk1oll/ndKSIEUSIEUSIEUSIEUSIED4oC4JZ4Rn4gXxIjYJjaJaUIKpEAKpEAKpEAKpEAKPCZmCIkhMSEuiSfEK+IjsUBIgRRIgRRIgRRIgRRIgbfEZ2KN2CEeE3vEEjFHLBJjQgqkQAqkQAqkQAqkQAq8IVaJI+IN8YcYEENiTOwTF4QUSIEUSIEUSIEUSIEUOCIeEdPEMTFHPCR+ED+JL8Q7QgqkQAqkQAqkQAqkQAqcJ8bEMvGVGBLnxFNiinhPLBFSIAVSIAVSIAVSIAVS8Bf3zzQFGE85IAAAAABJRU5ErkJg\">"
      ],
      "text/plain": [
       "10×10 reinterpret(reshape, Gray{Float64}, ::Matrix{Float64}) with eltype Gray{Float64}:\n",
       " Gray{Float64}(0.392363)  Gray{Float64}(0.40029)   …  Gray{Float64}(0.318202)\n",
       " Gray{Float64}(0.390858)  Gray{Float64}(0.426043)     Gray{Float64}(0.424338)\n",
       " Gray{Float64}(0.36509)   Gray{Float64}(0.622948)     Gray{Float64}(0.414501)\n",
       " Gray{Float64}(0.35082)   Gray{Float64}(0.618018)     Gray{Float64}(0.348465)\n",
       " Gray{Float64}(0.442919)  Gray{Float64}(0.45663)      Gray{Float64}(0.481508)\n",
       " Gray{Float64}(0.315752)  Gray{Float64}(0.339353)  …  Gray{Float64}(0.289307)\n",
       " Gray{Float64}(0.276279)  Gray{Float64}(0.0)          Gray{Float64}(0.316226)\n",
       " Gray{Float64}(0.22761)   Gray{Float64}(0.21486)      Gray{Float64}(0.204338)\n",
       " Gray{Float64}(0.124847)  Gray{Float64}(0.236497)     Gray{Float64}(0.424721)\n",
       " Gray{Float64}(0.197956)  Gray{Float64}(0.209882)     Gray{Float64}(0.610213)"
      ]
     },
     "metadata": {},
     "output_type": "display_data"
    },
    {
     "data": {
      "image/png": "[encoded data removed]",
      "text/html": [
       "<img src=\"data:image/png;base64,iVBORw0KGgoAAAANSUhEUgAAAGQAAABkCAAAAABVicqIAAAABGdBTUEAALGPC/xhBQAAAAFzUkdCAK7OHOkAAAAgY0hSTQAAeiYAAICEAAD6AAAAgOgAAHUwAADqYAAAOpgAABdwnLpRPAAAAYFJREFUaAW9wb1KFQAAhuE3eaFUcImCA0FHcNRwEbqBmt0dDLyA9kZXZwdx0qnCGziTQ9AUhODiUKQGtol0AjH/pm9y/57HJWKNGBEzPHRCTBI/iZfEiJACKZACKZACKZACKZACF4gvxBmxT2wSO8QS8ZpYJ5YJKZACKZACKZACKZACKfA/cUSsEnvEETFFjInfxFviDSEFUiAFUiAFUiAFUiAFHhD/iD1ijjgkhsRf4hOxRpwRUiAFUiAFUiAFUiAFUuCQuCKuiUvilpgl9okPxC/igJACKZACKZACKZACKZACnxFj4pKYIKaJLWKBeEQMiW1CCqRACqRACqRACqRACvxGDIjHxHPignhF3BEbxBWxQkiBFEiBFEiBFEiBFEiBM8QNcUx8J+aJF8QfYpk4J6YIKZACKZACKZACKZACKfAJMSaeEtfEIrFLvCc+EgPimJACKZACKZACKZACKZACfxDviM/EIXFDDIivxCmxSowIKZACKZACKZACKZACKbgHB/U3jHCbrJ8AAAAASUVORK5C\">"
      ],
      "text/plain": [
       "10×10 reinterpret(reshape, Gray{Float64}, ::Matrix{Float64}) with eltype Gray{Float64}:\n",
       " Gray{Float64}(0.20644)   …  Gray{Float64}(0.0)\n",
       " Gray{Float64}(0.383831)     Gray{Float64}(0.313345)\n",
       " Gray{Float64}(0.363729)     Gray{Float64}(0.585848)\n",
       " Gray{Float64}(0.182142)     Gray{Float64}(0.48798)\n",
       " Gray{Float64}(0.304649)     Gray{Float64}(0.300732)\n",
       " Gray{Float64}(0.386813)  …  Gray{Float64}(0.0812879)\n",
       " Gray{Float64}(0.186202)     Gray{Float64}(0.357477)\n",
       " Gray{Float64}(0.238298)     Gray{Float64}(0.396153)\n",
       " Gray{Float64}(0.270545)     Gray{Float64}(0.27414)\n",
       " Gray{Float64}(0.134416)     Gray{Float64}(0.293577)"
      ]
     },
     "metadata": {},
     "output_type": "display_data"
    },
    {
     "data": {
      "image/png": "[encoded data removed]",
      "text/html": [
       "<img src=\"data:image/png;base64,iVBORw0KGgoAAAANSUhEUgAAAGQAAABkCAAAAABVicqIAAAABGdBTUEAALGPC/xhBQAAAAFzUkdCAK7OHOkAAAAgY0hSTQAAeiYAAICEAAD6AAAAgOgAAHUwAADqYAAAOpgAABdwnLpRPAAAAX9JREFUaAW9wTFKFgAAhuE3eQdFCXUIBQclJLLu4KhjQ1N3cHEL/skLeIMmQWfbvUAoFIjoIv8fGTZUYqFiRtPXEb7ncYO4JpaIIfGYeEe8Jj4RE8QlIQVSIAVSIAVSIAVSIAX+IuaIM+KCmCDeEF+JV8QP4gshBVIgBVIgBVIgBVIgBT4njohHxJCYJ54RY8SA2CLOCSmQAimQAimQAimQAinwA3FLLBBviR1ijtgh1okRcUlIgRRIgRRIgRRIgRRIgePEEnFKXBDLxC5xR0wRI+KOkAIpkAIpkAIpkAIpkALXiD1ikxgQD8QJsU7MEAfEIiEFUiAFUiAFUiAFUiAFjogbYpuYJVaIFeIpMSQWiW+EFEiBFEiBFEiBFEiBFHhI/CSOiZfECTEixog/xCTxhJACKZACKZACKZACKZACr4i/xAtiljgmBsR7Ypr4THwnpEAKpEAKpEAKpEAKpED+myJuiY/EDLFP3BNXxG9ilZACKZACKZACKZACKZCCfzeNN2sJRXKjAAAAAElFTkSuQmCC\">"
      ],
      "text/plain": [
       "10×10 reinterpret(reshape, Gray{Float64}, ::Matrix{Float64}) with eltype Gray{Float64}:\n",
       " Gray{Float64}(0.427724)  Gray{Float64}(0.378349)  …  Gray{Float64}(0.148909)\n",
       " Gray{Float64}(0.381987)  Gray{Float64}(0.469526)     Gray{Float64}(0.34583)\n",
       " Gray{Float64}(0.539641)  Gray{Float64}(0.343466)     Gray{Float64}(0.323222)\n",
       " Gray{Float64}(0.332605)  Gray{Float64}(0.303693)     Gray{Float64}(0.23237)\n",
       " Gray{Float64}(0.365773)  Gray{Float64}(0.464141)     Gray{Float64}(0.203567)\n",
       " Gray{Float64}(0.642859)  Gray{Float64}(0.296571)  …  Gray{Float64}(0.330579)\n",
       " Gray{Float64}(0.525478)  Gray{Float64}(0.262974)     Gray{Float64}(0.267165)\n",
       " Gray{Float64}(0.324315)  Gray{Float64}(0.198903)     Gray{Float64}(0.30555)\n",
       " Gray{Float64}(0.265024)  Gray{Float64}(0.190362)     Gray{Float64}(0.236491)\n",
       " Gray{Float64}(0.266387)  Gray{Float64}(0.237576)     Gray{Float64}(0.480979)"
      ]
     },
     "metadata": {},
     "output_type": "display_data"
    },
    {
     "data": {
      "image/png": "[encoded data removed]",
      "text/html": [
       "<img src=\"data:image/png;base64,iVBORw0KGgoAAAANSUhEUgAAAGQAAABkCAAAAABVicqIAAAABGdBTUEAALGPC/xhBQAAAAFzUkdCAK7OHOkAAAAgY0hSTQAAeiYAAICEAAD6AAAAgOgAAHUwAADqYAAAOpgAABdwnLpRPAAAAYRJREFUaAW9wbFKFgAAhdEv/CIdgsIhhx8FmyIRJBXEoUnaHPQBWn2HxqCpF8jNBh8gmhTCChFE0EkchEIIwZaMdBJxulP7PcePxCZxSUwRP4hb4pxYJH4SB4QUSIEUSIEUSIEUSIEU+I0YIQbEH2KSWOd/y8QpMUdIgRRIgRRIgRRIgRRIgWfELSHxnZgm1ogZ4guxSPwmpEAKpEAKpEAKpEAKpMDHxAixRcwST4lrYpcYIraJMUIKpEAKpEAKpEAKpEAK/Eq8J3aIv8RnYoIYJf4Rz4lfhBRIgRRIgRRIgRRIgRT4iHhHvCI+EEfEa2KUmCOOiElCCqRACqRACqRACqRAChwQ88Qe8ZZ4QzwhrogT4j5xQUiBFEiBFEiBFEiBFEiBq8Qh8ZDYIW6IceIZsU68JC4JKZACKZACKZACKZACKXCDOCUeEAvENjFOnBEviGNiiZACKZACKZACKZACKZACZ4kJYp9YIQbECvGJGCbuESeEFEiBFEiBFEiBFEiBFNwBj/oxhf8vHoIAAAAASUVORK5C\">"
      ],
      "text/plain": [
       "10×10 reinterpret(reshape, Gray{Float64}, ::Matrix{Float64}) with eltype Gray{Float64}:\n",
       " Gray{Float64}(0.633348)  …  Gray{Float64}(0.0638816)\n",
       " Gray{Float64}(0.39408)      Gray{Float64}(0.269199)\n",
       " Gray{Float64}(0.27256)      Gray{Float64}(0.401675)\n",
       " Gray{Float64}(0.3393)       Gray{Float64}(0.305464)\n",
       " Gray{Float64}(0.095322)     Gray{Float64}(0.272915)\n",
       " Gray{Float64}(0.157015)  …  Gray{Float64}(0.407171)\n",
       " Gray{Float64}(0.267741)     Gray{Float64}(0.323054)\n",
       " Gray{Float64}(0.591322)     Gray{Float64}(0.314294)\n",
       " Gray{Float64}(0.220332)     Gray{Float64}(0.476984)\n",
       " Gray{Float64}(0.424491)     Gray{Float64}(0.320372)"
      ]
     },
     "metadata": {},
     "output_type": "display_data"
    },
    {
     "data": {
      "image/png": "[encoded data removed]",
      "text/html": [
       "<img src=\"data:image/png;base64,iVBORw0KGgoAAAANSUhEUgAAAGQAAABkCAAAAABVicqIAAAABGdBTUEAALGPC/xhBQAAAAFzUkdCAK7OHOkAAAAgY0hSTQAAeiYAAICEAAD6AAAAgOgAAHUwAADqYAAAOpgAABdwnLpRPAAAAYlJREFUaAW9wT1LFQAAheGXeCP6gIY7NFVIhIFLClFEgxC2GZQNQXPgGm5uDrb1B1wKf0Lg4FRkcGcJgkSswTDUIRsSCy5NZ2o/z+NL4gvxh3hM7BOrxA1ii5gmhoQUSIEUSIEUSIEUSIEUuEacJm4S88QcMU5MEneJZeIOIQVSIAVSIAVSIAVSIAWeELeIA2KR2CFGxDtinHhEfCekQAqkQAqkQAqkQAqkwDFiSLwg5olzxD3+d0C8Jp4RUiAFUiAFUiAFUiAFUuAh8ZN4SiwQx8RHYpbYIxaIV4QUSIEUSIEUSIEUSIEUeJHYIJ4Tu8RZ4gpxjfhNrBNPCCmQAimQAimQAimQAinwE3GfeEMsEb+Iv8SQGBEPiKuEFEiBFEiBFEiBFEiBFDhDnCEuEG+JS8QE8YG4TnwltgkpkAIpkAIpkAIpkAIpcIV4SHwjLhPHxAlxm/hBnCcGhBRIgRRIgRRIgRRIgRQ4IAbEDPGeOEUcEZvEFDEiPhNSIAVSIAVSIAVSIAVS8A/fvjR9jpapUgAAAABJRU5ErkJg\">"
      ],
      "text/plain": [
       "10×10 reinterpret(reshape, Gray{Float64}, ::Matrix{Float64}) with eltype Gray{Float64}:\n",
       " Gray{Float64}(0.525874)    …  Gray{Float64}(0.252601)\n",
       " Gray{Float64}(0.232783)       Gray{Float64}(0.337145)\n",
       " Gray{Float64}(0.202027)       Gray{Float64}(0.327512)\n",
       " Gray{Float64}(0.331998)       Gray{Float64}(0.35816)\n",
       " Gray{Float64}(0.254606)       Gray{Float64}(0.0)\n",
       " Gray{Float64}(0.315259)    …  Gray{Float64}(0.329441)\n",
       " Gray{Float64}(0.139092)       Gray{Float64}(0.567963)\n",
       " Gray{Float64}(0.405898)       Gray{Float64}(0.305679)\n",
       " Gray{Float64}(0.00978599)     Gray{Float64}(0.43628)\n",
       " Gray{Float64}(0.0823234)      Gray{Float64}(0.26888)"
      ]
     },
     "metadata": {},
     "output_type": "display_data"
    }
   ],
   "source": [
    "#for loop through each of 10 images, display using colorview\n",
    "for i in 1:10\n",
    "    display(colorview(Gray, reshape(noisy_images[:, :, i], (10, 10))))\n",
    "end"
   ]
  },
  {
   "cell_type": "code",
   "execution_count": 282,
   "id": "d0d4c6bf-0eca-47af-a294-55eba5bdc3b1",
   "metadata": {
    "tags": []
   },
   "outputs": [
    {
     "data": {
      "image/png": "[encoded data removed]",
      "text/html": [
       "<img src=\"data:image/png;base64,iVBORw0KGgoAAAANSUhEUgAAAGQAAABkCAAAAABVicqIAAAABGdBTUEAALGPC/xhBQAAAAFzUkdCAK7OHOkAAAAgY0hSTQAAeiYAAICEAAD6AAAAgOgAAHUwAADqYAAAOpgAABdwnLpRPAAAAYZJREFUaAW9wTFLFAAAhuF3eBUhsSUEQfLAwSHpbGrrBzgIQWtLo2tDi20tBU4uQtAYubYKTTY4yIlEg0PQXVMFJhISJjV9f+F7Hp8Tu8QT4iWxSDwiLol/xEdiSEiBFEiBFEiBFEiBFEiBX4hnxBHxhtgkzohD4op4R7wipEAKpEAKpEAKpEAKpMAL4piYEC+INeKSWCIktolDQgqkQAqkQAqkQAqkQAocEp+IZeIWMU98JVaIK+IvMSakQAqkQAqkQAqkQAqkwDGxRewRI2KfGBIj4iYxS2wSUiAFUiAFUiAFUiAFUuCAOCDuEa+Jh8QKcUqcExPiASEFUiAFUiAFUiAFUiAFLhA/iRvEXWKK+EH8IgbEY+KEkAIpkAIpkAIpkAIpkALfEhNimVglxsRn4g6xQ5wSc4QUSIEUSIEUSIEUSIEUeJs4ItaJGeIbsUG8J54S18R3QgqkQAqkQAqkQAqkQAqcJn4TI2KDmCWuiT/ENPGBuE9IgRRIgRRIgRRIgRRIwX+nhzdQH54YRQAAAABJRU5ErkJg\">"
      ],
      "text/plain": [
       "10×10 reinterpret(reshape, Gray{Float64}, ::Matrix{Float64}) with eltype Gray{Float64}:\n",
       " Gray{Float64}(0.489473)  …  Gray{Float64}(0.351689)\n",
       " Gray{Float64}(0.357266)     Gray{Float64}(0.331704)\n",
       " Gray{Float64}(0.304399)     Gray{Float64}(0.1195)\n",
       " Gray{Float64}(0.490815)     Gray{Float64}(-0.0838035)\n",
       " Gray{Float64}(0.370805)     Gray{Float64}(0.415859)\n",
       " Gray{Float64}(0.497977)  …  Gray{Float64}(0.586484)\n",
       " Gray{Float64}(0.595613)     Gray{Float64}(0.491235)\n",
       " Gray{Float64}(0.242809)     Gray{Float64}(0.333739)\n",
       " Gray{Float64}(0.359528)     Gray{Float64}(0.352023)\n",
       " Gray{Float64}(0.383625)     Gray{Float64}(0.433251)"
      ]
     },
     "execution_count": 282,
     "metadata": {},
     "output_type": "execute_result"
    }
   ],
   "source": [
    "less_noisy_images=[w[i] .* noisy_images[:, :, i]   for i in 1:size(noisy_images,3)] #multiply w by all the images in set\n",
    "less_noisy_images[1]\n",
    "least_noisy_image=sum(less_noisy_images)\n",
    "targetImage=reshape(least_noisy_image, (10, 10))\n",
    "colorview(Gray, targetImage) #display \"best\" denoised image"
   ]
  },
  {
   "cell_type": "code",
   "execution_count": 283,
   "id": "cf89808d-7cec-49e5-bc53-7d90907f3856",
   "metadata": {
    "tags": []
   },
   "outputs": [
    {
     "data": {
      "text/plain": [
       "10.496075526385736"
      ]
     },
     "metadata": {},
     "output_type": "display_data"
    },
    {
     "data": {
      "text/plain": [
       "8.577136603603577"
      ]
     },
     "metadata": {},
     "output_type": "display_data"
    },
    {
     "data": {
      "text/plain": [
       "8.829748530529601"
      ]
     },
     "metadata": {},
     "output_type": "display_data"
    },
    {
     "data": {
      "text/plain": [
       "7.840302600109228"
      ]
     },
     "metadata": {},
     "output_type": "display_data"
    },
    {
     "data": {
      "text/plain": [
       "10.120585570953518"
      ]
     },
     "metadata": {},
     "output_type": "display_data"
    },
    {
     "data": {
      "text/plain": [
       "10.082055239021024"
      ]
     },
     "metadata": {},
     "output_type": "display_data"
    },
    {
     "data": {
      "text/plain": [
       "10.50135053081447"
      ]
     },
     "metadata": {},
     "output_type": "display_data"
    },
    {
     "data": {
      "text/plain": [
       "9.485394616336176"
      ]
     },
     "metadata": {},
     "output_type": "display_data"
    },
    {
     "data": {
      "text/plain": [
       "11.39599927661146"
      ]
     },
     "metadata": {},
     "output_type": "display_data"
    },
    {
     "data": {
      "text/plain": [
       "11.597694677145489"
      ]
     },
     "metadata": {},
     "output_type": "display_data"
    }
   ],
   "source": [
    "for i in 1:10\n",
    "    #This will display the residuals of the noisy images compared to original\n",
    "    display(norm(reshape(original_image, (10, 10)) - reshape(noisy_images[:, :, i], (10, 10)), 1))\n",
    "end"
   ]
  },
  {
   "cell_type": "code",
   "execution_count": 284,
   "id": "3c489073-e379-4127-ac29-2dca33792023",
   "metadata": {
    "tags": []
   },
   "outputs": [
    {
     "data": {
      "text/plain": [
       "13.885470980815976"
      ]
     },
     "execution_count": 284,
     "metadata": {},
     "output_type": "execute_result"
    }
   ],
   "source": [
    "er1=norm(reshape(original_image, (10, 10)) - targetImage, 1) #calculates norm(X - X_target)"
   ]
  },
  {
   "cell_type": "markdown",
   "id": "6907d813-a902-43eb-a4f9-f593bcbb6922",
   "metadata": {},
   "source": [
    "This number is very far off, thus the BFGS supervised algorithm is not a suitiable method to find the best image. "
   ]
  },
  {
   "cell_type": "markdown",
   "id": "aac0837f-dbd7-4bbf-af92-e588b3cc6d66",
   "metadata": {
    "tags": []
   },
   "source": [
    "# 1b) Supervised w/ Conjugate Gradient method"
   ]
  },
  {
   "cell_type": "markdown",
   "id": "c6146abb-141f-4921-a8e9-395c409043f0",
   "metadata": {},
   "source": [
    "ConjugateGradient() is an optimizing function that uses linesearch. The linesearch function it uses is HagerZhang, which calculates the step that minimizes the objective function. The goal is to find a direction that is conjugate to the previous search direction, meaning that the direction vectors are orthogonal with respect to a certain matrix associated with the problem. ConjugateGradient() function can be used to solve unconstrained optimization problems where derivatives can be computed efficiently. The reason it is called ConjugateGradient() is because it uses the first order and second order method to get the solution."
   ]
  },
  {
   "cell_type": "code",
   "execution_count": 285,
   "id": "7c7c3de2-0836-42ca-ab9f-fdec17ba2d0a",
   "metadata": {
    "tags": []
   },
   "outputs": [
    {
     "name": "stdout",
     "output_type": "stream",
     "text": [
      "  0.359471 seconds (10.95 M allocations: 311.254 MiB, 6.45% gc time)\n"
     ]
    },
    {
     "data": {
      "text/plain": [
       " * Status: failure (reached maximum number of iterations)\n",
       "\n",
       " * Candidate solution\n",
       "    Final objective value:     3.290198e+00\n",
       "\n",
       " * Found with\n",
       "    Algorithm:     Conjugate Gradient\n",
       "\n",
       " * Convergence measures\n",
       "    |x - x'|               = 4.77e-07 ≰ 0.0e+00\n",
       "    |x - x'|/|x'|          = 3.41e-06 ≰ 0.0e+00\n",
       "    |f(x) - f(x')|         = 7.53e-07 ≰ 0.0e+00\n",
       "    |f(x) - f(x')|/|f(x')| = 2.29e-07 ≰ 0.0e+00\n",
       "    |g(x)|                 = 7.46e-01 ≰ 1.0e-08\n",
       "\n",
       " * Work counters\n",
       "    Seconds run:   0  (vs limit Inf)\n",
       "    Iterations:    1000\n",
       "    f(x) calls:    8140\n",
       "    ∇f(x) calls:   7685\n"
      ]
     },
     "execution_count": 285,
     "metadata": {},
     "output_type": "execute_result"
    }
   ],
   "source": [
    "w_init = zeros(10)\n",
    "\n",
    "# Minimize the function using the Conjugate Gradient method\n",
    "@time result = optimize(supervised, w_init, ConjugateGradient())"
   ]
  },
  {
   "cell_type": "code",
   "execution_count": 286,
   "id": "ddd918bc-192c-4396-9c50-31c9b3fb86b1",
   "metadata": {
    "tags": []
   },
   "outputs": [
    {
     "name": "stdout",
     "output_type": "stream",
     "text": [
      "Minimum value of Supervised Formula optimized by ConjugateGradient: 3.2901976859533457\n"
     ]
    }
   ],
   "source": [
    "println(\"Minimum value of Supervised Formula optimized by ConjugateGradient: \", Optim.minimum(result))"
   ]
  },
  {
   "cell_type": "code",
   "execution_count": 287,
   "id": "e9604d70-04f5-499b-a06b-cc8498c9243a",
   "metadata": {
    "tags": []
   },
   "outputs": [
    {
     "data": {
      "text/plain": [
       "10-element Vector{Float64}:\n",
       " 0.07000242021741292\n",
       " 0.11297280227750639\n",
       " 0.09777307088510814\n",
       " 0.12854796005279212\n",
       " 0.12113700095436515\n",
       " 0.13964685012337474\n",
       " 0.09625232493766298\n",
       " 0.06170873612176712\n",
       " 0.0880563541330908\n",
       " 0.06699656046264979"
      ]
     },
     "execution_count": 287,
     "metadata": {},
     "output_type": "execute_result"
    }
   ],
   "source": [
    "w = Optim.minimizer(result)"
   ]
  },
  {
   "cell_type": "code",
   "execution_count": 288,
   "id": "80e714ae-a1b1-4e63-b985-95b980a6220d",
   "metadata": {
    "tags": []
   },
   "outputs": [
    {
     "data": {
      "image/png": "[encoded data removed]",
      "text/html": [
       "<img src=\"data:image/png;base64,iVBORw0KGgoAAAANSUhEUgAAAGQAAABkCAAAAABVicqIAAAABGdBTUEAALGPC/xhBQAAAAFzUkdCAK7OHOkAAAAgY0hSTQAAeiYAAICEAAD6AAAAgOgAAHUwAADqYAAAOpgAABdwnLpRPAAAAV5JREFUaAW9wbFOmgEAhdGv+PUHSQFrDDI06dCH850dOtB00CIaaqFNVDpdF/Z7jjfEHTEj/hAXxBMh8UDMiTUhBVIgBVIgBVIgBVIgBe6JOad2xJEYiCmxJLbEV0IKpEAKpEAKpEAKpEAK3BLnxJIYETPijVgSO+JIjAkpkAIpkAIpkAIpkAIpkHfPxIRTd8SMWBO/iQnxj5ACKZACKZACKZACKZACp8QVcUvMiUdiTuyJS2Ig7gkpkAIpkAIpkAIpkAIpcCB+EF+ILfGN2BDXxEfiJ3EkpEAKpEAKpEAKpEAKpMAHYkxsiM/EGTEhNsSOWBFTQgqkQAqkQAqkQAqkQArk3S9OHYkDMRADIbElXggpkAIpkAIpkAIpkAIpcE8ciAWxIF6JN+KS+Es8Ex8IKZACKZACKZACKZACKXBPLIgz4jsxJT4Rj8SYWBEjQgqkQAqkQAqkQAqkQAr+AweALsHvmwBCAAAAAElFTkSuQmCC\">"
      ],
      "text/plain": [
       "10×10 reinterpret(reshape, Gray{Float64}, ::Matrix{Float64}) with eltype Gray{Float64}:\n",
       " Gray{Float64}(0.402696)  Gray{Float64}(0.313786)  …  Gray{Float64}(0.20051)\n",
       " Gray{Float64}(0.363957)  Gray{Float64}(0.369427)     Gray{Float64}(0.323275)\n",
       " Gray{Float64}(0.29299)   Gray{Float64}(0.329711)     Gray{Float64}(0.34808)\n",
       " Gray{Float64}(0.295926)  Gray{Float64}(0.281798)     Gray{Float64}(0.301305)\n",
       " Gray{Float64}(0.331547)  Gray{Float64}(0.411265)     Gray{Float64}(0.306029)\n",
       " Gray{Float64}(0.355223)  Gray{Float64}(0.298989)  …  Gray{Float64}(0.302928)\n",
       " Gray{Float64}(0.280505)  Gray{Float64}(0.309064)     Gray{Float64}(0.398046)\n",
       " Gray{Float64}(0.282351)  Gray{Float64}(0.227604)     Gray{Float64}(0.346151)\n",
       " Gray{Float64}(0.245016)  Gray{Float64}(0.193033)     Gray{Float64}(0.347284)\n",
       " Gray{Float64}(0.203986)  Gray{Float64}(0.249379)     Gray{Float64}(0.370333)"
      ]
     },
     "execution_count": 288,
     "metadata": {},
     "output_type": "execute_result"
    }
   ],
   "source": [
    "# Compute the denoised image using the optimized weights\n",
    "denoised_image = sum(w[i] .* noisy_images[:, :, i] for i in 1:size(noisy_images, 3))\n",
    "target_image = reshape(denoised_image, (10, 10))\n",
    "colorview(Gray, target_image)"
   ]
  },
  {
   "cell_type": "code",
   "execution_count": 289,
   "id": "9c319e12-9f86-4d68-8296-3510a1891ff9",
   "metadata": {
    "tags": []
   },
   "outputs": [
    {
     "name": "stdout",
     "output_type": "stream",
     "text": [
      "Difference between original and denoised image: 3.542908367785017\n"
     ]
    }
   ],
   "source": [
    "# Compute the difference between the denoised image and the original image\n",
    "er2 = norm(reshape(original_image, (10, 10)) - target_image, 1)\n",
    "println(\"Difference between original and denoised image: \", er2)"
   ]
  },
  {
   "cell_type": "markdown",
   "id": "dbaee4c4-949e-47ec-93a7-c230baab2cae",
   "metadata": {},
   "source": [
    "As you can see from the calculation above, we have indeed minimized the noise and found the \"best\" image that's the closest to the orginal."
   ]
  },
  {
   "cell_type": "markdown",
   "id": "1f6163a3-fdbd-4d23-8aa6-4ef502dcedcf",
   "metadata": {
    "tags": []
   },
   "source": [
    "# 2a) Unsupervised w/ BFGS"
   ]
  },
  {
   "cell_type": "code",
   "execution_count": 290,
   "id": "80e5f435-f790-4475-9e7e-f310eed56eef",
   "metadata": {
    "tags": []
   },
   "outputs": [
    {
     "data": {
      "image/png": "[encoded data removed]",
      "text/html": [
       "<img src=\"data:image/png;base64,iVBORw0KGgoAAAANSUhEUgAAAGQAAABkCAAAAABVicqIAAAABGdBTUEAALGPC/xhBQAAAAFzUkdCAK7OHOkAAAAgY0hSTQAAeiYAAICEAAD6AAAAgOgAAHUwAADqYAAAOpgAABdwnLpRPAAAATlJREFUaAW9wTtSw0AARMEn6cmG4orcPyMh4GN5tUQTqYpwun0nXomF+CZ+iZVYiEE8iE9CCqRACqRACqRACqRACpzEk6snsRJ3YufqgyspkAIpkAIpkAIpkAIpcBAP4iR+iMnVJBbijTgIKZACKZACKZACKZACKfDkahBPYhAncRAr8UbcCSmQAimQAimQAimQAilwcrUSEgshsRM78SAGIQVSIAVSIAVSIAVSIAUO4iQmMYmV2IiduBEPYiOkQAqkQAqkQAqkQAqkwC9iEpNYiY3/HMSN2AkpkAIpkAIpkAIpkAIp8Is4iYW4ESsxiJOYxCBOQgqkQAqkQAqkQAqkQAr8JVauXgiJhdiIJ3EQElIgBVIgBVIgBVIgBVLgxtUgDmIjJDZCQkJCCqRACqRACqRACqRACv4AE1Ev0W2GIzEAAAAASUVORK5C\">"
      ],
      "text/plain": [
       "10×10 Array{Gray{N0f8},2} with eltype Gray{N0f8}:\n",
       " Gray{N0f8}(0.361)  Gray{N0f8}(0.396)  …  Gray{N0f8}(0.259)\n",
       " Gray{N0f8}(0.357)  Gray{N0f8}(0.38)      Gray{N0f8}(0.259)\n",
       " Gray{N0f8}(0.345)  Gray{N0f8}(0.357)     Gray{N0f8}(0.298)\n",
       " Gray{N0f8}(0.337)  Gray{N0f8}(0.345)     Gray{N0f8}(0.325)\n",
       " Gray{N0f8}(0.333)  Gray{N0f8}(0.345)     Gray{N0f8}(0.314)\n",
       " Gray{N0f8}(0.322)  Gray{N0f8}(0.325)  …  Gray{N0f8}(0.325)\n",
       " Gray{N0f8}(0.282)  Gray{N0f8}(0.278)     Gray{N0f8}(0.345)\n",
       " Gray{N0f8}(0.243)  Gray{N0f8}(0.235)     Gray{N0f8}(0.325)\n",
       " Gray{N0f8}(0.216)  Gray{N0f8}(0.224)     Gray{N0f8}(0.329)\n",
       " Gray{N0f8}(0.227)  Gray{N0f8}(0.227)     Gray{N0f8}(0.353)"
      ]
     },
     "execution_count": 290,
     "metadata": {},
     "output_type": "execute_result"
    }
   ],
   "source": [
    "original_image = Gray.(load(\"reallysmallmoon.jpg\"))"
   ]
  },
  {
   "cell_type": "code",
   "execution_count": 291,
   "id": "45fb074c-c1f8-405e-8250-dffda36d3ddc",
   "metadata": {
    "tags": []
   },
   "outputs": [
    {
     "data": {
      "text/plain": [
       "10.0"
      ]
     },
     "execution_count": 291,
     "metadata": {},
     "output_type": "execute_result"
    }
   ],
   "source": [
    "original_image= vec(original_image)\n",
    "#noisy_images=create_noisy_images(original_image, 10)\n",
    "c, z, k= size(noisy_images)\n",
    "imageDim=sqrt(c)"
   ]
  },
  {
   "cell_type": "markdown",
   "id": "c6448ce4-3489-4604-bb98-ef2556c57333",
   "metadata": {},
   "source": [
    "$$\n",
    "Y^* = \\text{argmin} \\sum_{i} \\lVert Y - X_i \\rVert_1\n",
    "$$\n"
   ]
  },
  {
   "cell_type": "markdown",
   "id": "cb68c534-cdac-451c-9e95-7a0dd41509cd",
   "metadata": {},
   "source": [
    "Here, the goal of the unsupervised learning is to try and extract the best image without use of the actual image that has no noise to see where we can go with it. In the same way as the the unsupervised learning, we are trying to minimize Y here, to get the best image. Once again, the min Y is our root, and we again use rootfinding algorithms to find this value. "
   ]
  },
  {
   "cell_type": "code",
   "execution_count": 292,
   "id": "883019a4-7202-4d86-964c-8449481db94a",
   "metadata": {
    "tags": []
   },
   "outputs": [
    {
     "data": {
      "text/plain": [
       "1.363644739211612"
      ]
     },
     "metadata": {},
     "output_type": "display_data"
    },
    {
     "data": {
      "text/plain": [
       "1.1897636942962955"
      ]
     },
     "metadata": {},
     "output_type": "display_data"
    },
    {
     "data": {
      "text/plain": [
       "1.180766660218217"
      ]
     },
     "metadata": {},
     "output_type": "display_data"
    },
    {
     "data": {
      "text/plain": [
       "1.1295194757880758"
      ]
     },
     "metadata": {},
     "output_type": "display_data"
    },
    {
     "data": {
      "text/plain": [
       "1.3440314618856668"
      ]
     },
     "metadata": {},
     "output_type": "display_data"
    },
    {
     "data": {
      "text/plain": [
       "1.4675569345912873"
      ]
     },
     "metadata": {},
     "output_type": "display_data"
    },
    {
     "data": {
      "text/plain": [
       "1.395654435478953"
      ]
     },
     "metadata": {},
     "output_type": "display_data"
    },
    {
     "data": {
      "text/plain": [
       "1.3019022721311362"
      ]
     },
     "metadata": {},
     "output_type": "display_data"
    },
    {
     "data": {
      "text/plain": [
       "1.5653980454433192"
      ]
     },
     "metadata": {},
     "output_type": "display_data"
    },
    {
     "data": {
      "text/plain": [
       "1.4810379313349329"
      ]
     },
     "metadata": {},
     "output_type": "display_data"
    }
   ],
   "source": [
    "for i in 1:10\n",
    "    #display(colorview(Gray, reshape(noisy_images[:, :, i], (640, 640))))\n",
    "    display(norm(original_image[:, :] - noisy_images[:, :, i]))\n",
    "end"
   ]
  },
  {
   "cell_type": "code",
   "execution_count": 293,
   "id": "ab3c8c2a-99b4-4d04-806b-fbcdeb5bd921",
   "metadata": {
    "tags": []
   },
   "outputs": [
    {
     "data": {
      "text/plain": [
       "328.2875629013034"
      ]
     },
     "execution_count": 293,
     "metadata": {},
     "output_type": "execute_result"
    }
   ],
   "source": [
    "function unsupervised(Y)\n",
    "    sumOfNorms=0\n",
    "    for a in 1:size(noisy_images, 1)\n",
    "        for i in 1:k\n",
    "            sumOfNorms += norm(Y[a] .- noisy_images[a, :, i], 1)\n",
    "        end   \n",
    "    end\n",
    "    return sumOfNorms\n",
    "end\n",
    "\n",
    "#∇supervised = x -> ForwardDiff.gradient(supervised, x)\n",
    "initial = zeros(c)\n",
    "unsupervised(initial)"
   ]
  },
  {
   "cell_type": "code",
   "execution_count": 294,
   "id": "ce5f6e39-56ce-497c-917e-2ff4db9db012",
   "metadata": {
    "tags": []
   },
   "outputs": [
    {
     "name": "stdout",
     "output_type": "stream",
     "text": [
      " 87.658886 seconds (756.77 M allocations: 23.927 GiB, 1.83% gc time, 0.02% compilation time: 100% of which was recompilation)\n"
     ]
    },
    {
     "data": {
      "text/plain": [
       " * Status: success\n",
       "\n",
       " * Candidate solution\n",
       "    Final objective value:     9.233836e+01\n",
       "\n",
       " * Found with\n",
       "    Algorithm:     BFGS\n",
       "\n",
       " * Convergence measures\n",
       "    |x - x'|               = 2.45e-04 ≰ 0.0e+00\n",
       "    |x - x'|/|x'|          = 5.20e-04 ≰ 0.0e+00\n",
       "    |f(x) - f(x')|         = 2.92e-04 ≰ 0.0e+00\n",
       "    |f(x) - f(x')|/|f(x')| = 3.16e-06 ≰ 0.0e+00\n",
       "    |g(x)|                 = 4.69e-09 ≤ 1.0e-08\n",
       "\n",
       " * Work counters\n",
       "    Seconds run:   88  (vs limit Inf)\n",
       "    Iterations:    129\n",
       "    f(x) calls:    459\n",
       "    ∇f(x) calls:   459\n"
      ]
     },
     "execution_count": 294,
     "metadata": {},
     "output_type": "execute_result"
    }
   ],
   "source": [
    "# Minimize the function using the Levenberg-Marquardt algorithm\n",
    "@time result = optimize(unsupervised, initial, BFGS())"
   ]
  },
  {
   "cell_type": "code",
   "execution_count": 295,
   "id": "eb2e0027-2f23-4c31-aea1-bb16818a078b",
   "metadata": {
    "tags": []
   },
   "outputs": [
    {
     "name": "stdout",
     "output_type": "stream",
     "text": [
      "Minimum value of Unsupervised Formula optimized by BFGS: 92.33836331953742\n"
     ]
    }
   ],
   "source": [
    "#smallest norm value of that w vector from formula: norm(||[X-sum[wi*Xi]]||)\n",
    "#iterating and summing over pixels (10*10), not images\n",
    "println(\"Minimum value of Unsupervised Formula optimized by BFGS: \", Optim.minimum(result))"
   ]
  },
  {
   "cell_type": "code",
   "execution_count": 296,
   "id": "9016ebbb-5c13-43da-a385-cac5119b07d4",
   "metadata": {
    "tags": []
   },
   "outputs": [
    {
     "data": {
      "text/plain": [
       "100-element Vector{Float64}:\n",
       " 0.39915781757652496\n",
       " 0.38226508491155103\n",
       " 0.34028550935989116\n",
       " 0.3323296836509183\n",
       " 0.3618939325193454\n",
       " 0.31853732355167386\n",
       " 0.27309713700493116\n",
       " 0.3101744597195035\n",
       " 0.23500349787999564\n",
       " 0.19605399670701523\n",
       " 0.3164309551284613\n",
       " 0.39754974916598884\n",
       " 0.3039859973370076\n",
       " ⋮\n",
       " 0.2990304720451811\n",
       " 0.35654072554356064\n",
       " 0.24748353032188947\n",
       " 0.32669707302412376\n",
       " 0.3331558565964142\n",
       " 0.3078559190234941\n",
       " 0.2694637784679278\n",
       " 0.33016151953803\n",
       " 0.35703653338317537\n",
       " 0.32950724473066273\n",
       " 0.3174129059770469\n",
       " 0.35163907069321454"
      ]
     },
     "execution_count": 296,
     "metadata": {},
     "output_type": "execute_result"
    }
   ],
   "source": [
    "YStar=Optim.minimizer(result)"
   ]
  },
  {
   "cell_type": "code",
   "execution_count": 297,
   "id": "b2d92211-b71b-4fc3-baa9-262fdad1cb0b",
   "metadata": {
    "tags": []
   },
   "outputs": [
    {
     "data": {
      "image/png": "[encoded data removed]",
      "text/html": [
       "<img src=\"data:image/png;base64,iVBORw0KGgoAAAANSUhEUgAAAGQAAABkCAAAAABVicqIAAAABGdBTUEAALGPC/xhBQAAAAFzUkdCAK7OHOkAAAAgY0hSTQAAeiYAAICEAAD6AAAAgOgAAHUwAADqYAAAOpgAABdwnLpRPAAAAWBJREFUaAW9wc1KGwEAhdHP5gsy2E4IBAJSfAPfoM/TF3bXjYsiLRjxh04iDkld3VX29xx/Eo/EQLwRG+KB2BK/iTXxTEiBFEiBFEiBFEiBFEiBM7EhTsQr8U5cEytiS9wTG0IKpEAKpEAKpEAKpEAK3BMH4isxEUvikpiJR2JNvBFSIAVSIAVSIAVSIAVS4Il4IG6JIzETB2Iijpz7IKRACqRACqRACqRACqTAS+IHcU9siZmYOTcSC2JHSIEUSIEUSIEUSIEUSIETsSeuiCMxEi/ENbEm7ogVIQVSIAVSIAVSIAVSIAVOxDfiHyFxQ5yIHfFEjMQXQgqkQAqkQAqkQAqkQAociL/EklgQv4glcUHMxJFYEFIgBVIgBVIgBVIgBVLgE3EgBmIgRuKCGIgd8cE5KZACKZACKZACKZACKXBPXBHvxB9iJL4TE+dWxH9CCqRACqRACqRACqRACj4BJOI0xdK4mU0AAAAASUVORK5C\">"
      ],
      "text/plain": [
       "10×10 reinterpret(reshape, Gray{Float64}, ::Matrix{Float64}) with eltype Gray{Float64}:\n",
       " Gray{Float64}(0.399158)  Gray{Float64}(0.316431)  …  Gray{Float64}(0.247484)\n",
       " Gray{Float64}(0.382265)  Gray{Float64}(0.39755)      Gray{Float64}(0.326697)\n",
       " Gray{Float64}(0.340286)  Gray{Float64}(0.303986)     Gray{Float64}(0.333156)\n",
       " Gray{Float64}(0.33233)   Gray{Float64}(0.201504)     Gray{Float64}(0.307856)\n",
       " Gray{Float64}(0.361894)  Gray{Float64}(0.436195)     Gray{Float64}(0.269464)\n",
       " Gray{Float64}(0.318537)  Gray{Float64}(0.32206)   …  Gray{Float64}(0.330162)\n",
       " Gray{Float64}(0.273097)  Gray{Float64}(0.32705)      Gray{Float64}(0.357037)\n",
       " Gray{Float64}(0.310174)  Gray{Float64}(0.232744)     Gray{Float64}(0.329507)\n",
       " Gray{Float64}(0.235003)  Gray{Float64}(0.194237)     Gray{Float64}(0.317413)\n",
       " Gray{Float64}(0.196054)  Gray{Float64}(0.240449)     Gray{Float64}(0.351639)"
      ]
     },
     "execution_count": 297,
     "metadata": {},
     "output_type": "execute_result"
    }
   ],
   "source": [
    "colorview(Gray, reshape(YStar, 10, 10))"
   ]
  },
  {
   "cell_type": "code",
   "execution_count": 298,
   "id": "a994dd9d-758e-46b2-b8c7-d6ebd0137150",
   "metadata": {
    "tags": []
   },
   "outputs": [
    {
     "data": {
      "text/plain": [
       "3.1747648849244006"
      ]
     },
     "execution_count": 298,
     "metadata": {},
     "output_type": "execute_result"
    }
   ],
   "source": [
    "er3=norm(reshape(original_image, (10, 10)) - reshape(YStar, (10, 10)), 1) #calculates norm(X - X_target)"
   ]
  },
  {
   "cell_type": "markdown",
   "id": "cb11e238-80cc-424d-82cb-d6bfdbaf21c8",
   "metadata": {},
   "source": [
    "As you can see from the calculation above, we have indeed minimized the noise and found the \"best\" image that's the closest to the orginal."
   ]
  },
  {
   "cell_type": "markdown",
   "id": "33e78e25-b1a3-4d99-b13d-450cd441fd36",
   "metadata": {},
   "source": [
    "# 2b) Unsupervised w/ Conjugate Gradient method"
   ]
  },
  {
   "cell_type": "code",
   "execution_count": 299,
   "id": "30cd016c-99df-4223-8076-dde572f23bad",
   "metadata": {
    "tags": []
   },
   "outputs": [
    {
     "name": "stdout",
     "output_type": "stream",
     "text": [
      "  3.120447 seconds (61.13 M allocations: 1.933 GiB, 2.91% gc time)\n"
     ]
    },
    {
     "data": {
      "text/plain": [
       " * Status: success\n",
       "\n",
       " * Candidate solution\n",
       "    Final objective value:     9.233836e+01\n",
       "\n",
       " * Found with\n",
       "    Algorithm:     Conjugate Gradient\n",
       "\n",
       " * Convergence measures\n",
       "    |x - x'|               = 8.87e-05 ≰ 0.0e+00\n",
       "    |x - x'|/|x'|          = 1.96e-04 ≰ 0.0e+00\n",
       "    |f(x) - f(x')|         = 3.32e-05 ≰ 0.0e+00\n",
       "    |f(x) - f(x')|/|f(x')| = 3.60e-07 ≰ 0.0e+00\n",
       "    |g(x)|                 = 4.69e-09 ≤ 1.0e-08\n",
       "\n",
       " * Work counters\n",
       "    Seconds run:   3  (vs limit Inf)\n",
       "    Iterations:    18\n",
       "    f(x) calls:    53\n",
       "    ∇f(x) calls:   37\n"
      ]
     },
     "execution_count": 299,
     "metadata": {},
     "output_type": "execute_result"
    }
   ],
   "source": [
    "w_init = zeros(100)\n",
    "\n",
    "# Minimize the function using the Conjugate Gradient method\n",
    "@time result = optimize(unsupervised, w_init, ConjugateGradient())"
   ]
  },
  {
   "cell_type": "code",
   "execution_count": 300,
   "id": "e3269354-9600-47ba-8553-88f6f6f52034",
   "metadata": {
    "tags": []
   },
   "outputs": [
    {
     "name": "stdout",
     "output_type": "stream",
     "text": [
      "Minimum value of Supervised Formula optimized by Conjugate Gradient: 92.33836331953738\n"
     ]
    }
   ],
   "source": [
    "println(\"Minimum value of Supervised Formula optimized by Conjugate Gradient: \", Optim.minimum(result))"
   ]
  },
  {
   "cell_type": "code",
   "execution_count": 301,
   "id": "a3580e99-6f0a-4d35-8273-93e1c05360de",
   "metadata": {
    "tags": []
   },
   "outputs": [
    {
     "data": {
      "text/plain": [
       "100-element Vector{Float64}:\n",
       " 0.40171170953514634\n",
       " 0.38213780037369083\n",
       " 0.336385836270068\n",
       " 0.3325326385319569\n",
       " 0.3477177552657964\n",
       " 0.37205748799309973\n",
       " 0.27366169974286564\n",
       " 0.310926652228564\n",
       " 0.22436322844066245\n",
       " 0.1951726482307424\n",
       " 0.32655082741915176\n",
       " 0.37121954055264805\n",
       " 0.3004097410983599\n",
       " ⋮\n",
       " 0.29871785201316614\n",
       " 0.3579660647973293\n",
       " 0.24668965288150982\n",
       " 0.318853371907598\n",
       " 0.33243625824033757\n",
       " 0.31382396585346944\n",
       " 0.2626922584928359\n",
       " 0.3300425966001274\n",
       " 0.34850067054519596\n",
       " 0.3393213009939118\n",
       " 0.3315983111704016\n",
       " 0.3395479700176246"
      ]
     },
     "execution_count": 301,
     "metadata": {},
     "output_type": "execute_result"
    }
   ],
   "source": [
    "YStar=Optim.minimizer(result)"
   ]
  },
  {
   "cell_type": "code",
   "execution_count": 302,
   "id": "51923359-4ec9-4f34-803a-97b138c930e2",
   "metadata": {
    "tags": []
   },
   "outputs": [
    {
     "data": {
      "image/png": "[encoded data removed]",
      "text/html": [
       "<img src=\"data:image/png;base64,iVBORw0KGgoAAAANSUhEUgAAAGQAAABkCAAAAABVicqIAAAABGdBTUEAALGPC/xhBQAAAAFzUkdCAK7OHOkAAAAgY0hSTQAAeiYAAICEAAD6AAAAgOgAAHUwAADqYAAAOpgAABdwnLpRPAAAAWBJREFUaAW9wcEuowEARtFbLsnf0aILk0nmKaw9z7zzSBCJpEKJLpjxl9bqW9l/5/iHeCIOiZH4SVwRC+KemBFrQgqkQAqkQAqkQAqkQArcEEfEAfFGPBK/iAlxTtwQC0IKpEAKpEAKpEAKpEAKfCX+ETPiPzEldsQBcUcsiDUhBVIgBVIgBVIgBVIgBe6IJTEnRuKFmBOvxJZ4IT4IKZACKZACKZACKZACKVDigrgmFsRIbIgJMSXmxF9CCqRACqRACqRACqRACjwkbokj4pMYiDXxm/hBXBKnhBRIgRRIgRRIgRRIgRS4JAbimRiIY2JH3BP7xJSYEFIgBVIgBVIgBVIgBVLgQKwIiQ3xSQzElu9GYiCkQAqkQAqkQAqkQAqkwAdiJE6JgZgTe8QJsSI2xJaQAimQAimQAimQAimQAt+JGfFOjMSKOCPeiH3imPggpEAKpEAKpEAKpEAKpOALQXM0pjBQqm4AAAAASUVORK5C\">"
      ],
      "text/plain": [
       "10×10 reinterpret(reshape, Gray{Float64}, ::Matrix{Float64}) with eltype Gray{Float64}:\n",
       " Gray{Float64}(0.401712)  Gray{Float64}(0.326551)  …  Gray{Float64}(0.24669)\n",
       " Gray{Float64}(0.382138)  Gray{Float64}(0.37122)      Gray{Float64}(0.318853)\n",
       " Gray{Float64}(0.336386)  Gray{Float64}(0.30041)      Gray{Float64}(0.332436)\n",
       " Gray{Float64}(0.332533)  Gray{Float64}(0.204024)     Gray{Float64}(0.313824)\n",
       " Gray{Float64}(0.347718)  Gray{Float64}(0.440471)     Gray{Float64}(0.262692)\n",
       " Gray{Float64}(0.372057)  Gray{Float64}(0.316296)  …  Gray{Float64}(0.330043)\n",
       " Gray{Float64}(0.273662)  Gray{Float64}(0.311017)     Gray{Float64}(0.348501)\n",
       " Gray{Float64}(0.310927)  Gray{Float64}(0.23299)      Gray{Float64}(0.339321)\n",
       " Gray{Float64}(0.224363)  Gray{Float64}(0.198121)     Gray{Float64}(0.331598)\n",
       " Gray{Float64}(0.195173)  Gray{Float64}(0.246202)     Gray{Float64}(0.339548)"
      ]
     },
     "execution_count": 302,
     "metadata": {},
     "output_type": "execute_result"
    }
   ],
   "source": [
    "colorview(Gray, reshape(YStar, 10, 10))"
   ]
  },
  {
   "cell_type": "code",
   "execution_count": 303,
   "id": "73216a3b-7673-483a-b74e-2e637ca2d993",
   "metadata": {
    "tags": []
   },
   "outputs": [
    {
     "data": {
      "text/plain": [
       "3.0107774820824944"
      ]
     },
     "execution_count": 303,
     "metadata": {},
     "output_type": "execute_result"
    }
   ],
   "source": [
    "er4=norm(reshape(original_image, (10, 10)) - reshape(YStar, (10, 10)), 1) #calculates norm(X - X_target)"
   ]
  },
  {
   "cell_type": "markdown",
   "id": "07730b1b-4fa0-4514-a67d-64b8acd32a2d",
   "metadata": {},
   "source": [
    "We have again minimized the noise and found the \"best\" image that's the closest to the orginal."
   ]
  },
  {
   "cell_type": "markdown",
   "id": "31da4c7b-6c99-4110-b810-8ee84fc7bab4",
   "metadata": {},
   "source": [
    "### One reason that we didn’t use Newton’s method is because while it is also a second order optimization algorithm that uses a Hessian Matrix, it also requires the inverse of the Hessian matrix, which can be computationally expensive. Hessian’s are necessary to find curvature of problems, which is what we were trying to minimize. We had a lot of trouble trying to use Newton at first because it took so long to run. "
   ]
  },
  {
   "cell_type": "markdown",
   "id": "8fd7b177-ea2d-49a1-aded-f3534e999362",
   "metadata": {},
   "source": [
    "# Pretty Table!"
   ]
  },
  {
   "cell_type": "code",
   "execution_count": 313,
   "id": "33ceae46-4611-4c91-8bf8-62f4b9a82845",
   "metadata": {
    "tags": []
   },
   "outputs": [
    {
     "name": "stdout",
     "output_type": "stream",
     "text": [
      "                      |      SUPERVISED |    UNSUPERVISED\n",
      "                 BFGS | 13.885470980815976 | 3.1747648849244006\n",
      "            CONJUGATE | 3.542908367785017 | 3.0107774820824944\n"
     ]
    }
   ],
   "source": [
    "# Print the table with consistent spacing\n",
    "println(\"$(lpad(\"\", 21)) | $(lpad(\"SUPERVISED\", 15)) | $(lpad(\"UNSUPERVISED\", 15))\")\n",
    "println(\"$(lpad(\"BFGS\", 21)) | $(lpad(string(er1), 15)) | $(lpad(string(er3), 15))\")\n",
    "println(\"$(lpad(\"CONJUGATE\", 21)) | $(lpad(string(er2), 15)) | $(lpad(string(er4), 15))\")"
   ]
  },
  {
   "cell_type": "code",
   "execution_count": 328,
   "id": "a28f03cf-eeec-4a4a-abe1-960965d2304e",
   "metadata": {
    "tags": []
   },
   "outputs": [
    {
     "data": {
      "image/png": "",
      "image/svg+xml": [
       "<?xml version=\"1.0\" encoding=\"utf-8\"?>\n",
       "<svg xmlns=\"http://www.w3.org/2000/svg\" xmlns:xlink=\"http://www.w3.org/1999/xlink\" width=\"600\" height=\"400\" viewBox=\"0 0 2400 1600\">\n",
       "<defs>\n",
       "  <clipPath id=\"clip550\">\n",
       "    <rect x=\"0\" y=\"0\" width=\"2400\" height=\"1600\"/>\n",
       "  </clipPath>\n",
       "</defs>\n",
       "<path clip-path=\"url(#clip550)\" d=\"M0 1600 L2400 1600 L2400 0 L0 0  Z\" fill=\"#ffffff\" fill-rule=\"evenodd\" fill-opacity=\"1\"/>\n",
       "<defs>\n",
       "  <clipPath id=\"clip551\">\n",
       "    <rect x=\"480\" y=\"0\" width=\"1681\" height=\"1600\"/>\n",
       "  </clipPath>\n",
       "</defs>\n",
       "<path clip-path=\"url(#clip550)\" d=\"M202.227 1423.18 L2352.76 1423.18 L2352.76 123.472 L202.227 123.472  Z\" fill=\"#ffffff\" fill-rule=\"evenodd\" fill-opacity=\"1\"/>\n",
       "<defs>\n",
       "  <clipPath id=\"clip552\">\n",
       "    <rect x=\"202\" y=\"123\" width=\"2152\" height=\"1301\"/>\n",
       "  </clipPath>\n",
       "</defs>\n",
       "<polyline clip-path=\"url(#clip552)\" style=\"stroke:#000000; stroke-linecap:round; stroke-linejoin:round; stroke-width:2; stroke-opacity:0.1; fill:none\" points=\"521.98,1423.18 521.98,123.472 \"/>\n",
       "<polyline clip-path=\"url(#clip552)\" style=\"stroke:#000000; stroke-linecap:round; stroke-linejoin:round; stroke-width:2; stroke-opacity:0.1; fill:none\" points=\"1025.65,1423.18 1025.65,123.472 \"/>\n",
       "<polyline clip-path=\"url(#clip552)\" style=\"stroke:#000000; stroke-linecap:round; stroke-linejoin:round; stroke-width:2; stroke-opacity:0.1; fill:none\" points=\"1529.33,1423.18 1529.33,123.472 \"/>\n",
       "<polyline clip-path=\"url(#clip552)\" style=\"stroke:#000000; stroke-linecap:round; stroke-linejoin:round; stroke-width:2; stroke-opacity:0.1; fill:none\" points=\"2033,1423.18 2033,123.472 \"/>\n",
       "<polyline clip-path=\"url(#clip550)\" style=\"stroke:#000000; stroke-linecap:round; stroke-linejoin:round; stroke-width:4; stroke-opacity:1; fill:none\" points=\"202.227,1423.18 2352.76,1423.18 \"/>\n",
       "<polyline clip-path=\"url(#clip550)\" style=\"stroke:#000000; stroke-linecap:round; stroke-linejoin:round; stroke-width:4; stroke-opacity:1; fill:none\" points=\"521.98,1423.18 521.98,1404.28 \"/>\n",
       "<polyline clip-path=\"url(#clip550)\" style=\"stroke:#000000; stroke-linecap:round; stroke-linejoin:round; stroke-width:4; stroke-opacity:1; fill:none\" points=\"1025.65,1423.18 1025.65,1404.28 \"/>\n",
       "<polyline clip-path=\"url(#clip550)\" style=\"stroke:#000000; stroke-linecap:round; stroke-linejoin:round; stroke-width:4; stroke-opacity:1; fill:none\" points=\"1529.33,1423.18 1529.33,1404.28 \"/>\n",
       "<polyline clip-path=\"url(#clip550)\" style=\"stroke:#000000; stroke-linecap:round; stroke-linejoin:round; stroke-width:4; stroke-opacity:1; fill:none\" points=\"2033,1423.18 2033,1404.28 \"/>\n",
       "<path clip-path=\"url(#clip550)\" d=\"M342.826 1460.42 L342.826 1464.45 Q341.02 1463.52 339.076 1463.06 Q337.132 1462.59 335.048 1462.59 Q331.877 1462.59 330.28 1463.57 Q328.706 1464.54 328.706 1466.48 Q328.706 1467.96 329.84 1468.82 Q330.974 1469.65 334.4 1470.42 L335.858 1470.74 Q340.395 1471.71 342.294 1473.5 Q344.215 1475.26 344.215 1478.43 Q344.215 1482.04 341.345 1484.14 Q338.497 1486.25 333.497 1486.25 Q331.414 1486.25 329.146 1485.83 Q326.9 1485.44 324.4 1484.63 L324.4 1480.23 Q326.761 1481.46 329.053 1482.08 Q331.345 1482.69 333.59 1482.69 Q336.599 1482.69 338.22 1481.67 Q339.84 1480.63 339.84 1478.75 Q339.84 1477.02 338.659 1476.09 Q337.502 1475.16 333.544 1474.31 L332.062 1473.96 Q328.104 1473.13 326.345 1471.41 Q324.585 1469.68 324.585 1466.67 Q324.585 1463.01 327.178 1461.02 Q329.77 1459.03 334.539 1459.03 Q336.9 1459.03 338.983 1459.38 Q341.067 1459.72 342.826 1460.42 Z\" fill=\"#000000\" fill-rule=\"nonzero\" fill-opacity=\"1\" /><path clip-path=\"url(#clip550)\" d=\"M350.557 1475.35 L350.557 1459.65 L354.817 1459.65 L354.817 1475.19 Q354.817 1478.87 356.252 1480.72 Q357.687 1482.55 360.557 1482.55 Q364.006 1482.55 365.997 1480.35 Q368.011 1478.15 368.011 1474.35 L368.011 1459.65 L372.27 1459.65 L372.27 1485.58 L368.011 1485.58 L368.011 1481.6 Q366.46 1483.96 364.4 1485.12 Q362.363 1486.25 359.655 1486.25 Q355.187 1486.25 352.872 1483.47 Q350.557 1480.7 350.557 1475.35 M361.275 1459.03 L361.275 1459.03 Z\" fill=\"#000000\" fill-rule=\"nonzero\" fill-opacity=\"1\" /><path clip-path=\"url(#clip550)\" d=\"M385.164 1481.69 L385.164 1495.44 L380.881 1495.44 L380.881 1459.65 L385.164 1459.65 L385.164 1463.59 Q386.506 1461.27 388.543 1460.16 Q390.604 1459.03 393.451 1459.03 Q398.173 1459.03 401.113 1462.78 Q404.076 1466.53 404.076 1472.64 Q404.076 1478.75 401.113 1482.5 Q398.173 1486.25 393.451 1486.25 Q390.604 1486.25 388.543 1485.14 Q386.506 1484.01 385.164 1481.69 M399.654 1472.64 Q399.654 1467.94 397.71 1465.28 Q395.789 1462.59 392.409 1462.59 Q389.029 1462.59 387.085 1465.28 Q385.164 1467.94 385.164 1472.64 Q385.164 1477.34 387.085 1480.02 Q389.029 1482.69 392.409 1482.69 Q395.789 1482.69 397.71 1480.02 Q399.654 1477.34 399.654 1472.64 Z\" fill=\"#000000\" fill-rule=\"nonzero\" fill-opacity=\"1\" /><path clip-path=\"url(#clip550)\" d=\"M433.312 1471.55 L433.312 1473.64 L413.728 1473.64 Q414.006 1478.03 416.367 1480.35 Q418.752 1482.64 422.988 1482.64 Q425.441 1482.64 427.733 1482.04 Q430.048 1481.44 432.316 1480.23 L432.316 1484.26 Q430.025 1485.23 427.617 1485.74 Q425.21 1486.25 422.733 1486.25 Q416.529 1486.25 412.895 1482.64 Q409.284 1479.03 409.284 1472.87 Q409.284 1466.51 412.71 1462.78 Q416.159 1459.03 421.992 1459.03 Q427.224 1459.03 430.256 1462.41 Q433.312 1465.77 433.312 1471.55 M429.052 1470.3 Q429.006 1466.81 427.085 1464.72 Q425.187 1462.64 422.039 1462.64 Q418.474 1462.64 416.321 1464.65 Q414.191 1466.67 413.867 1470.33 L429.052 1470.3 Z\" fill=\"#000000\" fill-rule=\"nonzero\" fill-opacity=\"1\" /><path clip-path=\"url(#clip550)\" d=\"M455.325 1463.64 Q454.608 1463.22 453.751 1463.03 Q452.918 1462.83 451.899 1462.83 Q448.288 1462.83 446.344 1465.19 Q444.423 1467.52 444.423 1471.92 L444.423 1485.58 L440.14 1485.58 L440.14 1459.65 L444.423 1459.65 L444.423 1463.68 Q445.765 1461.32 447.918 1460.19 Q450.071 1459.03 453.149 1459.03 Q453.589 1459.03 454.122 1459.1 Q454.654 1459.14 455.302 1459.26 L455.325 1463.64 Z\" fill=\"#000000\" fill-rule=\"nonzero\" fill-opacity=\"1\" /><path clip-path=\"url(#clip550)\" d=\"M456.737 1459.65 L461.251 1459.65 L469.353 1481.41 L477.455 1459.65 L481.969 1459.65 L472.247 1485.58 L466.46 1485.58 L456.737 1459.65 Z\" fill=\"#000000\" fill-rule=\"nonzero\" fill-opacity=\"1\" /><path clip-path=\"url(#clip550)\" d=\"M487.848 1459.65 L492.108 1459.65 L492.108 1485.58 L487.848 1485.58 L487.848 1459.65 M487.848 1449.56 L492.108 1449.56 L492.108 1454.96 L487.848 1454.96 L487.848 1449.56 Z\" fill=\"#000000\" fill-rule=\"nonzero\" fill-opacity=\"1\" /><path clip-path=\"url(#clip550)\" d=\"M517.547 1460.42 L517.547 1464.45 Q515.742 1463.52 513.797 1463.06 Q511.853 1462.59 509.77 1462.59 Q506.598 1462.59 505.001 1463.57 Q503.427 1464.54 503.427 1466.48 Q503.427 1467.96 504.561 1468.82 Q505.695 1469.65 509.121 1470.42 L510.58 1470.74 Q515.117 1471.71 517.015 1473.5 Q518.936 1475.26 518.936 1478.43 Q518.936 1482.04 516.066 1484.14 Q513.219 1486.25 508.219 1486.25 Q506.135 1486.25 503.867 1485.83 Q501.621 1485.44 499.121 1484.63 L499.121 1480.23 Q501.483 1481.46 503.774 1482.08 Q506.066 1482.69 508.311 1482.69 Q511.32 1482.69 512.941 1481.67 Q514.561 1480.63 514.561 1478.75 Q514.561 1477.02 513.381 1476.09 Q512.223 1475.16 508.265 1474.31 L506.783 1473.96 Q502.825 1473.13 501.066 1471.41 Q499.307 1469.68 499.307 1466.67 Q499.307 1463.01 501.899 1461.02 Q504.492 1459.03 509.26 1459.03 Q511.621 1459.03 513.705 1459.38 Q515.788 1459.72 517.547 1460.42 Z\" fill=\"#000000\" fill-rule=\"nonzero\" fill-opacity=\"1\" /><path clip-path=\"url(#clip550)\" d=\"M547.894 1471.55 L547.894 1473.64 L528.311 1473.64 Q528.589 1478.03 530.95 1480.35 Q533.334 1482.64 537.57 1482.64 Q540.024 1482.64 542.316 1482.04 Q544.63 1481.44 546.899 1480.23 L546.899 1484.26 Q544.607 1485.23 542.2 1485.74 Q539.793 1486.25 537.316 1486.25 Q531.112 1486.25 527.478 1482.64 Q523.867 1479.03 523.867 1472.87 Q523.867 1466.51 527.293 1462.78 Q530.742 1459.03 536.575 1459.03 Q541.806 1459.03 544.839 1462.41 Q547.894 1465.77 547.894 1471.55 M543.635 1470.3 Q543.589 1466.81 541.668 1464.72 Q539.769 1462.64 536.621 1462.64 Q533.056 1462.64 530.904 1464.65 Q528.774 1466.67 528.45 1470.33 L543.635 1470.3 Z\" fill=\"#000000\" fill-rule=\"nonzero\" fill-opacity=\"1\" /><path clip-path=\"url(#clip550)\" d=\"M571.945 1463.59 L571.945 1449.56 L576.204 1449.56 L576.204 1485.58 L571.945 1485.58 L571.945 1481.69 Q570.603 1484.01 568.542 1485.14 Q566.505 1486.25 563.635 1486.25 Q558.936 1486.25 555.973 1482.5 Q553.033 1478.75 553.033 1472.64 Q553.033 1466.53 555.973 1462.78 Q558.936 1459.03 563.635 1459.03 Q566.505 1459.03 568.542 1460.16 Q570.603 1461.27 571.945 1463.59 M557.431 1472.64 Q557.431 1477.34 559.353 1480.02 Q561.297 1482.69 564.677 1482.69 Q568.056 1482.69 570.001 1480.02 Q571.945 1477.34 571.945 1472.64 Q571.945 1467.94 570.001 1465.28 Q568.056 1462.59 564.677 1462.59 Q561.297 1462.59 559.353 1465.28 Q557.431 1467.94 557.431 1472.64 Z\" fill=\"#000000\" fill-rule=\"nonzero\" fill-opacity=\"1\" /><path clip-path=\"url(#clip550)\" d=\"M604.908 1469.08 L604.908 1481.74 L612.408 1481.74 Q616.181 1481.74 617.987 1480.19 Q619.815 1478.61 619.815 1475.39 Q619.815 1472.15 617.987 1470.63 Q616.181 1469.08 612.408 1469.08 L604.908 1469.08 M604.908 1454.86 L604.908 1465.28 L611.829 1465.28 Q615.255 1465.28 616.922 1464.01 Q618.612 1462.71 618.612 1460.07 Q618.612 1457.45 616.922 1456.16 Q615.255 1454.86 611.829 1454.86 L604.908 1454.86 M600.232 1451.02 L612.176 1451.02 Q617.524 1451.02 620.417 1453.24 Q623.311 1455.46 623.311 1459.56 Q623.311 1462.73 621.829 1464.61 Q620.348 1466.48 617.477 1466.95 Q620.926 1467.69 622.824 1470.05 Q624.746 1472.39 624.746 1475.9 Q624.746 1480.53 621.598 1483.06 Q618.45 1485.58 612.639 1485.58 L600.232 1485.58 L600.232 1451.02 Z\" fill=\"#000000\" fill-rule=\"nonzero\" fill-opacity=\"1\" /><path clip-path=\"url(#clip550)\" d=\"M632.755 1451.02 L652.616 1451.02 L652.616 1454.96 L637.431 1454.96 L637.431 1465.14 L651.135 1465.14 L651.135 1469.08 L637.431 1469.08 L637.431 1485.58 L632.755 1485.58 L632.755 1451.02 Z\" fill=\"#000000\" fill-rule=\"nonzero\" fill-opacity=\"1\" /><path clip-path=\"url(#clip550)\" d=\"M683.588 1480.65 L683.588 1471.37 L675.949 1471.37 L675.949 1467.52 L688.218 1467.52 L688.218 1482.36 Q685.509 1484.28 682.245 1485.28 Q678.982 1486.25 675.278 1486.25 Q667.176 1486.25 662.593 1481.53 Q658.033 1476.78 658.033 1468.33 Q658.033 1459.86 662.593 1455.14 Q667.176 1450.39 675.278 1450.39 Q678.658 1450.39 681.69 1451.23 Q684.745 1452.06 687.315 1453.68 L687.315 1458.66 Q684.722 1456.46 681.806 1455.35 Q678.889 1454.24 675.671 1454.24 Q669.329 1454.24 666.134 1457.78 Q662.963 1461.32 662.963 1468.33 Q662.963 1475.33 666.134 1478.87 Q669.329 1482.41 675.671 1482.41 Q678.148 1482.41 680.093 1481.99 Q682.037 1481.55 683.588 1480.65 Z\" fill=\"#000000\" fill-rule=\"nonzero\" fill-opacity=\"1\" /><path clip-path=\"url(#clip550)\" d=\"M717.477 1452.15 L717.477 1456.71 Q714.815 1455.44 712.454 1454.82 Q710.093 1454.19 707.893 1454.19 Q704.074 1454.19 701.991 1455.67 Q699.931 1457.15 699.931 1459.89 Q699.931 1462.18 701.296 1463.36 Q702.685 1464.52 706.528 1465.23 L709.352 1465.81 Q714.583 1466.81 717.06 1469.33 Q719.56 1471.83 719.56 1476.04 Q719.56 1481.07 716.18 1483.66 Q712.824 1486.25 706.319 1486.25 Q703.866 1486.25 701.088 1485.7 Q698.333 1485.14 695.37 1484.05 L695.37 1479.24 Q698.218 1480.83 700.949 1481.64 Q703.681 1482.45 706.319 1482.45 Q710.324 1482.45 712.5 1480.88 Q714.676 1479.31 714.676 1476.39 Q714.676 1473.84 713.102 1472.41 Q711.551 1470.97 707.986 1470.26 L705.139 1469.7 Q699.907 1468.66 697.569 1466.44 Q695.232 1464.21 695.232 1460.26 Q695.232 1455.67 698.449 1453.03 Q701.69 1450.39 707.361 1450.39 Q709.792 1450.39 712.315 1450.83 Q714.838 1451.27 717.477 1452.15 Z\" fill=\"#000000\" fill-rule=\"nonzero\" fill-opacity=\"1\" /><path clip-path=\"url(#clip550)\" d=\"M875.516 1460.42 L875.516 1464.45 Q873.711 1463.52 871.766 1463.06 Q869.822 1462.59 867.739 1462.59 Q864.567 1462.59 862.97 1463.57 Q861.396 1464.54 861.396 1466.48 Q861.396 1467.96 862.53 1468.82 Q863.665 1469.65 867.091 1470.42 L868.549 1470.74 Q873.086 1471.71 874.984 1473.5 Q876.905 1475.26 876.905 1478.43 Q876.905 1482.04 874.035 1484.14 Q871.188 1486.25 866.188 1486.25 Q864.104 1486.25 861.836 1485.83 Q859.591 1485.44 857.091 1484.63 L857.091 1480.23 Q859.452 1481.46 861.743 1482.08 Q864.035 1482.69 866.28 1482.69 Q869.29 1482.69 870.91 1481.67 Q872.53 1480.63 872.53 1478.75 Q872.53 1477.02 871.35 1476.09 Q870.192 1475.16 866.234 1474.31 L864.753 1473.96 Q860.794 1473.13 859.035 1471.41 Q857.276 1469.68 857.276 1466.67 Q857.276 1463.01 859.868 1461.02 Q862.461 1459.03 867.229 1459.03 Q869.591 1459.03 871.674 1459.38 Q873.757 1459.72 875.516 1460.42 Z\" fill=\"#000000\" fill-rule=\"nonzero\" fill-opacity=\"1\" /><path clip-path=\"url(#clip550)\" d=\"M883.248 1475.35 L883.248 1459.65 L887.507 1459.65 L887.507 1475.19 Q887.507 1478.87 888.942 1480.72 Q890.377 1482.55 893.248 1482.55 Q896.697 1482.55 898.688 1480.35 Q900.701 1478.15 900.701 1474.35 L900.701 1459.65 L904.961 1459.65 L904.961 1485.58 L900.701 1485.58 L900.701 1481.6 Q899.151 1483.96 897.09 1485.12 Q895.053 1486.25 892.345 1486.25 Q887.877 1486.25 885.563 1483.47 Q883.248 1480.7 883.248 1475.35 M893.965 1459.03 L893.965 1459.03 Z\" fill=\"#000000\" fill-rule=\"nonzero\" fill-opacity=\"1\" /><path clip-path=\"url(#clip550)\" d=\"M917.854 1481.69 L917.854 1495.44 L913.572 1495.44 L913.572 1459.65 L917.854 1459.65 L917.854 1463.59 Q919.197 1461.27 921.234 1460.16 Q923.294 1459.03 926.141 1459.03 Q930.863 1459.03 933.803 1462.78 Q936.766 1466.53 936.766 1472.64 Q936.766 1478.75 933.803 1482.5 Q930.863 1486.25 926.141 1486.25 Q923.294 1486.25 921.234 1485.14 Q919.197 1484.01 917.854 1481.69 M932.345 1472.64 Q932.345 1467.94 930.4 1465.28 Q928.479 1462.59 925.099 1462.59 Q921.72 1462.59 919.775 1465.28 Q917.854 1467.94 917.854 1472.64 Q917.854 1477.34 919.775 1480.02 Q921.72 1482.69 925.099 1482.69 Q928.479 1482.69 930.4 1480.02 Q932.345 1477.34 932.345 1472.64 Z\" fill=\"#000000\" fill-rule=\"nonzero\" fill-opacity=\"1\" /><path clip-path=\"url(#clip550)\" d=\"M966.002 1471.55 L966.002 1473.64 L946.419 1473.64 Q946.697 1478.03 949.058 1480.35 Q951.442 1482.64 955.678 1482.64 Q958.132 1482.64 960.423 1482.04 Q962.738 1481.44 965.007 1480.23 L965.007 1484.26 Q962.715 1485.23 960.308 1485.74 Q957.9 1486.25 955.423 1486.25 Q949.22 1486.25 945.585 1482.64 Q941.974 1479.03 941.974 1472.87 Q941.974 1466.51 945.4 1462.78 Q948.849 1459.03 954.683 1459.03 Q959.914 1459.03 962.947 1462.41 Q966.002 1465.77 966.002 1471.55 M961.743 1470.3 Q961.697 1466.81 959.775 1464.72 Q957.877 1462.64 954.729 1462.64 Q951.164 1462.64 949.011 1464.65 Q946.882 1466.67 946.558 1470.33 L961.743 1470.3 Z\" fill=\"#000000\" fill-rule=\"nonzero\" fill-opacity=\"1\" /><path clip-path=\"url(#clip550)\" d=\"M988.016 1463.64 Q987.298 1463.22 986.442 1463.03 Q985.608 1462.83 984.59 1462.83 Q980.979 1462.83 979.034 1465.19 Q977.113 1467.52 977.113 1471.92 L977.113 1485.58 L972.831 1485.58 L972.831 1459.65 L977.113 1459.65 L977.113 1463.68 Q978.456 1461.32 980.608 1460.19 Q982.761 1459.03 985.84 1459.03 Q986.28 1459.03 986.812 1459.1 Q987.345 1459.14 987.993 1459.26 L988.016 1463.64 Z\" fill=\"#000000\" fill-rule=\"nonzero\" fill-opacity=\"1\" /><path clip-path=\"url(#clip550)\" d=\"M989.428 1459.65 L993.942 1459.65 L1002.04 1481.41 L1010.15 1459.65 L1014.66 1459.65 L1004.94 1485.58 L999.15 1485.58 L989.428 1459.65 Z\" fill=\"#000000\" fill-rule=\"nonzero\" fill-opacity=\"1\" /><path clip-path=\"url(#clip550)\" d=\"M1020.54 1459.65 L1024.8 1459.65 L1024.8 1485.58 L1020.54 1485.58 L1020.54 1459.65 M1020.54 1449.56 L1024.8 1449.56 L1024.8 1454.96 L1020.54 1454.96 L1020.54 1449.56 Z\" fill=\"#000000\" fill-rule=\"nonzero\" fill-opacity=\"1\" /><path clip-path=\"url(#clip550)\" d=\"M1050.24 1460.42 L1050.24 1464.45 Q1048.43 1463.52 1046.49 1463.06 Q1044.54 1462.59 1042.46 1462.59 Q1039.29 1462.59 1037.69 1463.57 Q1036.12 1464.54 1036.12 1466.48 Q1036.12 1467.96 1037.25 1468.82 Q1038.39 1469.65 1041.81 1470.42 L1043.27 1470.74 Q1047.81 1471.71 1049.71 1473.5 Q1051.63 1475.26 1051.63 1478.43 Q1051.63 1482.04 1048.76 1484.14 Q1045.91 1486.25 1040.91 1486.25 Q1038.83 1486.25 1036.56 1485.83 Q1034.31 1485.44 1031.81 1484.63 L1031.81 1480.23 Q1034.17 1481.46 1036.46 1482.08 Q1038.76 1482.69 1041 1482.69 Q1044.01 1482.69 1045.63 1481.67 Q1047.25 1480.63 1047.25 1478.75 Q1047.25 1477.02 1046.07 1476.09 Q1044.91 1475.16 1040.96 1474.31 L1039.47 1473.96 Q1035.52 1473.13 1033.76 1471.41 Q1032 1469.68 1032 1466.67 Q1032 1463.01 1034.59 1461.02 Q1037.18 1459.03 1041.95 1459.03 Q1044.31 1459.03 1046.4 1459.38 Q1048.48 1459.72 1050.24 1460.42 Z\" fill=\"#000000\" fill-rule=\"nonzero\" fill-opacity=\"1\" /><path clip-path=\"url(#clip550)\" d=\"M1080.58 1471.55 L1080.58 1473.64 L1061 1473.64 Q1061.28 1478.03 1063.64 1480.35 Q1066.02 1482.64 1070.26 1482.64 Q1072.71 1482.64 1075.01 1482.04 Q1077.32 1481.44 1079.59 1480.23 L1079.59 1484.26 Q1077.3 1485.23 1074.89 1485.74 Q1072.48 1486.25 1070.01 1486.25 Q1063.8 1486.25 1060.17 1482.64 Q1056.56 1479.03 1056.56 1472.87 Q1056.56 1466.51 1059.98 1462.78 Q1063.43 1459.03 1069.27 1459.03 Q1074.5 1459.03 1077.53 1462.41 Q1080.58 1465.77 1080.58 1471.55 M1076.33 1470.3 Q1076.28 1466.81 1074.36 1464.72 Q1072.46 1462.64 1069.31 1462.64 Q1065.75 1462.64 1063.59 1464.65 Q1061.46 1466.67 1061.14 1470.33 L1076.33 1470.3 Z\" fill=\"#000000\" fill-rule=\"nonzero\" fill-opacity=\"1\" /><path clip-path=\"url(#clip550)\" d=\"M1104.64 1463.59 L1104.64 1449.56 L1108.89 1449.56 L1108.89 1485.58 L1104.64 1485.58 L1104.64 1481.69 Q1103.29 1484.01 1101.23 1485.14 Q1099.2 1486.25 1096.33 1486.25 Q1091.63 1486.25 1088.66 1482.5 Q1085.72 1478.75 1085.72 1472.64 Q1085.72 1466.53 1088.66 1462.78 Q1091.63 1459.03 1096.33 1459.03 Q1099.2 1459.03 1101.23 1460.16 Q1103.29 1461.27 1104.64 1463.59 M1090.12 1472.64 Q1090.12 1477.34 1092.04 1480.02 Q1093.99 1482.69 1097.37 1482.69 Q1100.75 1482.69 1102.69 1480.02 Q1104.64 1477.34 1104.64 1472.64 Q1104.64 1467.94 1102.69 1465.28 Q1100.75 1462.59 1097.37 1462.59 Q1093.99 1462.59 1092.04 1465.28 Q1090.12 1467.94 1090.12 1472.64 Z\" fill=\"#000000\" fill-rule=\"nonzero\" fill-opacity=\"1\" /><path clip-path=\"url(#clip550)\" d=\"M1158.8 1453.68 L1158.8 1458.61 Q1156.44 1456.41 1153.76 1455.33 Q1151.09 1454.24 1148.08 1454.24 Q1142.16 1454.24 1139.01 1457.87 Q1135.86 1461.48 1135.86 1468.33 Q1135.86 1475.16 1139.01 1478.8 Q1142.16 1482.41 1148.08 1482.41 Q1151.09 1482.41 1153.76 1481.32 Q1156.44 1480.23 1158.8 1478.03 L1158.8 1482.92 Q1156.35 1484.58 1153.59 1485.42 Q1150.86 1486.25 1147.81 1486.25 Q1139.96 1486.25 1135.45 1481.46 Q1130.93 1476.64 1130.93 1468.33 Q1130.93 1460 1135.45 1455.21 Q1139.96 1450.39 1147.81 1450.39 Q1150.91 1450.39 1153.64 1451.23 Q1156.39 1452.04 1158.8 1453.68 Z\" fill=\"#000000\" fill-rule=\"nonzero\" fill-opacity=\"1\" /><path clip-path=\"url(#clip550)\" d=\"M1189.59 1480.65 L1189.59 1471.37 L1181.95 1471.37 L1181.95 1467.52 L1194.22 1467.52 L1194.22 1482.36 Q1191.51 1484.28 1188.25 1485.28 Q1184.98 1486.25 1181.28 1486.25 Q1173.18 1486.25 1168.59 1481.53 Q1164.03 1476.78 1164.03 1468.33 Q1164.03 1459.86 1168.59 1455.14 Q1173.18 1450.39 1181.28 1450.39 Q1184.66 1450.39 1187.69 1451.23 Q1190.75 1452.06 1193.32 1453.68 L1193.32 1458.66 Q1190.72 1456.46 1187.81 1455.35 Q1184.89 1454.24 1181.67 1454.24 Q1175.33 1454.24 1172.14 1457.78 Q1168.96 1461.32 1168.96 1468.33 Q1168.96 1475.33 1172.14 1478.87 Q1175.33 1482.41 1181.67 1482.41 Q1184.15 1482.41 1186.09 1481.99 Q1188.04 1481.55 1189.59 1480.65 Z\" fill=\"#000000\" fill-rule=\"nonzero\" fill-opacity=\"1\" /><path clip-path=\"url(#clip550)\" d=\"M1302.43 1475.35 L1302.43 1459.65 L1306.69 1459.65 L1306.69 1475.19 Q1306.69 1478.87 1308.13 1480.72 Q1309.56 1482.55 1312.43 1482.55 Q1315.88 1482.55 1317.87 1480.35 Q1319.89 1478.15 1319.89 1474.35 L1319.89 1459.65 L1324.14 1459.65 L1324.14 1485.58 L1319.89 1485.58 L1319.89 1481.6 Q1318.33 1483.96 1316.27 1485.12 Q1314.24 1486.25 1311.53 1486.25 Q1307.06 1486.25 1304.75 1483.47 Q1302.43 1480.7 1302.43 1475.35 M1313.15 1459.03 L1313.15 1459.03 Z\" fill=\"#000000\" fill-rule=\"nonzero\" fill-opacity=\"1\" /><path clip-path=\"url(#clip550)\" d=\"M1354.47 1469.93 L1354.47 1485.58 L1350.21 1485.58 L1350.21 1470.07 Q1350.21 1466.39 1348.77 1464.56 Q1347.34 1462.73 1344.47 1462.73 Q1341.02 1462.73 1339.03 1464.93 Q1337.04 1467.13 1337.04 1470.93 L1337.04 1485.58 L1332.76 1485.58 L1332.76 1459.65 L1337.04 1459.65 L1337.04 1463.68 Q1338.57 1461.34 1340.63 1460.19 Q1342.71 1459.03 1345.42 1459.03 Q1349.89 1459.03 1352.18 1461.81 Q1354.47 1464.56 1354.47 1469.93 Z\" fill=\"#000000\" fill-rule=\"nonzero\" fill-opacity=\"1\" /><path clip-path=\"url(#clip550)\" d=\"M1379.49 1460.42 L1379.49 1464.45 Q1377.69 1463.52 1375.74 1463.06 Q1373.8 1462.59 1371.71 1462.59 Q1368.54 1462.59 1366.95 1463.57 Q1365.37 1464.54 1365.37 1466.48 Q1365.37 1467.96 1366.51 1468.82 Q1367.64 1469.65 1371.07 1470.42 L1372.52 1470.74 Q1377.06 1471.71 1378.96 1473.5 Q1380.88 1475.26 1380.88 1478.43 Q1380.88 1482.04 1378.01 1484.14 Q1375.16 1486.25 1370.16 1486.25 Q1368.08 1486.25 1365.81 1485.83 Q1363.57 1485.44 1361.07 1484.63 L1361.07 1480.23 Q1363.43 1481.46 1365.72 1482.08 Q1368.01 1482.69 1370.26 1482.69 Q1373.26 1482.69 1374.89 1481.67 Q1376.51 1480.63 1376.51 1478.75 Q1376.51 1477.02 1375.33 1476.09 Q1374.17 1475.16 1370.21 1474.31 L1368.73 1473.96 Q1364.77 1473.13 1363.01 1471.41 Q1361.25 1469.68 1361.25 1466.67 Q1361.25 1463.01 1363.84 1461.02 Q1366.44 1459.03 1371.2 1459.03 Q1373.57 1459.03 1375.65 1459.38 Q1377.73 1459.72 1379.49 1460.42 Z\" fill=\"#000000\" fill-rule=\"nonzero\" fill-opacity=\"1\" /><path clip-path=\"url(#clip550)\" d=\"M1387.22 1475.35 L1387.22 1459.65 L1391.48 1459.65 L1391.48 1475.19 Q1391.48 1478.87 1392.92 1480.72 Q1394.35 1482.55 1397.22 1482.55 Q1400.67 1482.55 1402.66 1480.35 Q1404.68 1478.15 1404.68 1474.35 L1404.68 1459.65 L1408.94 1459.65 L1408.94 1485.58 L1404.68 1485.58 L1404.68 1481.6 Q1403.13 1483.96 1401.07 1485.12 Q1399.03 1486.25 1396.32 1486.25 Q1391.85 1486.25 1389.54 1483.47 Q1387.22 1480.7 1387.22 1475.35 M1397.94 1459.03 L1397.94 1459.03 Z\" fill=\"#000000\" fill-rule=\"nonzero\" fill-opacity=\"1\" /><path clip-path=\"url(#clip550)\" d=\"M1421.83 1481.69 L1421.83 1495.44 L1417.55 1495.44 L1417.55 1459.65 L1421.83 1459.65 L1421.83 1463.59 Q1423.17 1461.27 1425.21 1460.16 Q1427.27 1459.03 1430.12 1459.03 Q1434.84 1459.03 1437.78 1462.78 Q1440.74 1466.53 1440.74 1472.64 Q1440.74 1478.75 1437.78 1482.5 Q1434.84 1486.25 1430.12 1486.25 Q1427.27 1486.25 1425.21 1485.14 Q1423.17 1484.01 1421.83 1481.69 M1436.32 1472.64 Q1436.32 1467.94 1434.38 1465.28 Q1432.45 1462.59 1429.07 1462.59 Q1425.7 1462.59 1423.75 1465.28 Q1421.83 1467.94 1421.83 1472.64 Q1421.83 1477.34 1423.75 1480.02 Q1425.7 1482.69 1429.07 1482.69 Q1432.45 1482.69 1434.38 1480.02 Q1436.32 1477.34 1436.32 1472.64 Z\" fill=\"#000000\" fill-rule=\"nonzero\" fill-opacity=\"1\" /><path clip-path=\"url(#clip550)\" d=\"M1469.98 1471.55 L1469.98 1473.64 L1450.39 1473.64 Q1450.67 1478.03 1453.03 1480.35 Q1455.42 1482.64 1459.65 1482.64 Q1462.11 1482.64 1464.4 1482.04 Q1466.71 1481.44 1468.98 1480.23 L1468.98 1484.26 Q1466.69 1485.23 1464.28 1485.74 Q1461.88 1486.25 1459.4 1486.25 Q1453.2 1486.25 1449.56 1482.64 Q1445.95 1479.03 1445.95 1472.87 Q1445.95 1466.51 1449.38 1462.78 Q1452.82 1459.03 1458.66 1459.03 Q1463.89 1459.03 1466.92 1462.41 Q1469.98 1465.77 1469.98 1471.55 M1465.72 1470.3 Q1465.67 1466.81 1463.75 1464.72 Q1461.85 1462.64 1458.7 1462.64 Q1455.14 1462.64 1452.99 1464.65 Q1450.86 1466.67 1450.53 1470.33 L1465.72 1470.3 Z\" fill=\"#000000\" fill-rule=\"nonzero\" fill-opacity=\"1\" /><path clip-path=\"url(#clip550)\" d=\"M1491.99 1463.64 Q1491.27 1463.22 1490.42 1463.03 Q1489.58 1462.83 1488.57 1462.83 Q1484.95 1462.83 1483.01 1465.19 Q1481.09 1467.52 1481.09 1471.92 L1481.09 1485.58 L1476.81 1485.58 L1476.81 1459.65 L1481.09 1459.65 L1481.09 1463.68 Q1482.43 1461.32 1484.58 1460.19 Q1486.74 1459.03 1489.82 1459.03 Q1490.26 1459.03 1490.79 1459.1 Q1491.32 1459.14 1491.97 1459.26 L1491.99 1463.64 Z\" fill=\"#000000\" fill-rule=\"nonzero\" fill-opacity=\"1\" /><path clip-path=\"url(#clip550)\" d=\"M1493.4 1459.65 L1497.92 1459.65 L1506.02 1481.41 L1514.12 1459.65 L1518.63 1459.65 L1508.91 1485.58 L1503.13 1485.58 L1493.4 1459.65 Z\" fill=\"#000000\" fill-rule=\"nonzero\" fill-opacity=\"1\" /><path clip-path=\"url(#clip550)\" d=\"M1524.51 1459.65 L1528.77 1459.65 L1528.77 1485.58 L1524.51 1485.58 L1524.51 1459.65 M1524.51 1449.56 L1528.77 1449.56 L1528.77 1454.96 L1524.51 1454.96 L1524.51 1449.56 Z\" fill=\"#000000\" fill-rule=\"nonzero\" fill-opacity=\"1\" /><path clip-path=\"url(#clip550)\" d=\"M1554.21 1460.42 L1554.21 1464.45 Q1552.41 1463.52 1550.46 1463.06 Q1548.52 1462.59 1546.44 1462.59 Q1543.26 1462.59 1541.67 1463.57 Q1540.09 1464.54 1540.09 1466.48 Q1540.09 1467.96 1541.23 1468.82 Q1542.36 1469.65 1545.79 1470.42 L1547.25 1470.74 Q1551.78 1471.71 1553.68 1473.5 Q1555.6 1475.26 1555.6 1478.43 Q1555.6 1482.04 1552.73 1484.14 Q1549.88 1486.25 1544.88 1486.25 Q1542.8 1486.25 1540.53 1485.83 Q1538.29 1485.44 1535.79 1484.63 L1535.79 1480.23 Q1538.15 1481.46 1540.44 1482.08 Q1542.73 1482.69 1544.98 1482.69 Q1547.99 1482.69 1549.61 1481.67 Q1551.23 1480.63 1551.23 1478.75 Q1551.23 1477.02 1550.05 1476.09 Q1548.89 1475.16 1544.93 1474.31 L1543.45 1473.96 Q1539.49 1473.13 1537.73 1471.41 Q1535.97 1469.68 1535.97 1466.67 Q1535.97 1463.01 1538.56 1461.02 Q1541.16 1459.03 1545.93 1459.03 Q1548.29 1459.03 1550.37 1459.38 Q1552.45 1459.72 1554.21 1460.42 Z\" fill=\"#000000\" fill-rule=\"nonzero\" fill-opacity=\"1\" /><path clip-path=\"url(#clip550)\" d=\"M1584.56 1471.55 L1584.56 1473.64 L1564.98 1473.64 Q1565.25 1478.03 1567.62 1480.35 Q1570 1482.64 1574.24 1482.64 Q1576.69 1482.64 1578.98 1482.04 Q1581.3 1481.44 1583.56 1480.23 L1583.56 1484.26 Q1581.27 1485.23 1578.87 1485.74 Q1576.46 1486.25 1573.98 1486.25 Q1567.78 1486.25 1564.14 1482.64 Q1560.53 1479.03 1560.53 1472.87 Q1560.53 1466.51 1563.96 1462.78 Q1567.41 1459.03 1573.24 1459.03 Q1578.47 1459.03 1581.5 1462.41 Q1584.56 1465.77 1584.56 1471.55 M1580.3 1470.3 Q1580.25 1466.81 1578.33 1464.72 Q1576.44 1462.64 1573.29 1462.64 Q1569.72 1462.64 1567.57 1464.65 Q1565.44 1466.67 1565.12 1470.33 L1580.3 1470.3 Z\" fill=\"#000000\" fill-rule=\"nonzero\" fill-opacity=\"1\" /><path clip-path=\"url(#clip550)\" d=\"M1608.61 1463.59 L1608.61 1449.56 L1612.87 1449.56 L1612.87 1485.58 L1608.61 1485.58 L1608.61 1481.69 Q1607.27 1484.01 1605.21 1485.14 Q1603.17 1486.25 1600.3 1486.25 Q1595.6 1486.25 1592.64 1482.5 Q1589.7 1478.75 1589.7 1472.64 Q1589.7 1466.53 1592.64 1462.78 Q1595.6 1459.03 1600.3 1459.03 Q1603.17 1459.03 1605.21 1460.16 Q1607.27 1461.27 1608.61 1463.59 M1594.1 1472.64 Q1594.1 1477.34 1596.02 1480.02 Q1597.96 1482.69 1601.34 1482.69 Q1604.72 1482.69 1606.67 1480.02 Q1608.61 1477.34 1608.61 1472.64 Q1608.61 1467.94 1606.67 1465.28 Q1604.72 1462.59 1601.34 1462.59 Q1597.96 1462.59 1596.02 1465.28 Q1594.1 1467.94 1594.1 1472.64 Z\" fill=\"#000000\" fill-rule=\"nonzero\" fill-opacity=\"1\" /><path clip-path=\"url(#clip550)\" d=\"M1641.57 1469.08 L1641.57 1481.74 L1649.07 1481.74 Q1652.85 1481.74 1654.65 1480.19 Q1656.48 1478.61 1656.48 1475.39 Q1656.48 1472.15 1654.65 1470.63 Q1652.85 1469.08 1649.07 1469.08 L1641.57 1469.08 M1641.57 1454.86 L1641.57 1465.28 L1648.49 1465.28 Q1651.92 1465.28 1653.59 1464.01 Q1655.28 1462.71 1655.28 1460.07 Q1655.28 1457.45 1653.59 1456.16 Q1651.92 1454.86 1648.49 1454.86 L1641.57 1454.86 M1636.9 1451.02 L1648.84 1451.02 Q1654.19 1451.02 1657.08 1453.24 Q1659.98 1455.46 1659.98 1459.56 Q1659.98 1462.73 1658.49 1464.61 Q1657.01 1466.48 1654.14 1466.95 Q1657.59 1467.69 1659.49 1470.05 Q1661.41 1472.39 1661.41 1475.9 Q1661.41 1480.53 1658.26 1483.06 Q1655.12 1485.58 1649.31 1485.58 L1636.9 1485.58 L1636.9 1451.02 Z\" fill=\"#000000\" fill-rule=\"nonzero\" fill-opacity=\"1\" /><path clip-path=\"url(#clip550)\" d=\"M1669.42 1451.02 L1689.28 1451.02 L1689.28 1454.96 L1674.1 1454.96 L1674.1 1465.14 L1687.8 1465.14 L1687.8 1469.08 L1674.1 1469.08 L1674.1 1485.58 L1669.42 1485.58 L1669.42 1451.02 Z\" fill=\"#000000\" fill-rule=\"nonzero\" fill-opacity=\"1\" /><path clip-path=\"url(#clip550)\" d=\"M1720.25 1480.65 L1720.25 1471.37 L1712.61 1471.37 L1712.61 1467.52 L1724.88 1467.52 L1724.88 1482.36 Q1722.18 1484.28 1718.91 1485.28 Q1715.65 1486.25 1711.94 1486.25 Q1703.84 1486.25 1699.26 1481.53 Q1694.7 1476.78 1694.7 1468.33 Q1694.7 1459.86 1699.26 1455.14 Q1703.84 1450.39 1711.94 1450.39 Q1715.32 1450.39 1718.36 1451.23 Q1721.41 1452.06 1723.98 1453.68 L1723.98 1458.66 Q1721.39 1456.46 1718.47 1455.35 Q1715.55 1454.24 1712.34 1454.24 Q1705.99 1454.24 1702.8 1457.78 Q1699.63 1461.32 1699.63 1468.33 Q1699.63 1475.33 1702.8 1478.87 Q1705.99 1482.41 1712.34 1482.41 Q1714.81 1482.41 1716.76 1481.99 Q1718.7 1481.55 1720.25 1480.65 Z\" fill=\"#000000\" fill-rule=\"nonzero\" fill-opacity=\"1\" /><path clip-path=\"url(#clip550)\" d=\"M1754.14 1452.15 L1754.14 1456.71 Q1751.48 1455.44 1749.12 1454.82 Q1746.76 1454.19 1744.56 1454.19 Q1740.74 1454.19 1738.66 1455.67 Q1736.6 1457.15 1736.6 1459.89 Q1736.6 1462.18 1737.96 1463.36 Q1739.35 1464.52 1743.19 1465.23 L1746.02 1465.81 Q1751.25 1466.81 1753.73 1469.33 Q1756.23 1471.83 1756.23 1476.04 Q1756.23 1481.07 1752.85 1483.66 Q1749.49 1486.25 1742.99 1486.25 Q1740.53 1486.25 1737.75 1485.7 Q1735 1485.14 1732.04 1484.05 L1732.04 1479.24 Q1734.88 1480.83 1737.61 1481.64 Q1740.35 1482.45 1742.99 1482.45 Q1746.99 1482.45 1749.17 1480.88 Q1751.34 1479.31 1751.34 1476.39 Q1751.34 1473.84 1749.77 1472.41 Q1748.22 1470.97 1744.65 1470.26 L1741.8 1469.7 Q1736.57 1468.66 1734.24 1466.44 Q1731.9 1464.21 1731.9 1460.26 Q1731.9 1455.67 1735.11 1453.03 Q1738.36 1450.39 1744.03 1450.39 Q1746.46 1450.39 1748.98 1450.83 Q1751.5 1451.27 1754.14 1452.15 Z\" fill=\"#000000\" fill-rule=\"nonzero\" fill-opacity=\"1\" /><path clip-path=\"url(#clip550)\" d=\"M1835.12 1475.35 L1835.12 1459.65 L1839.38 1459.65 L1839.38 1475.19 Q1839.38 1478.87 1840.82 1480.72 Q1842.25 1482.55 1845.12 1482.55 Q1848.57 1482.55 1850.56 1480.35 Q1852.58 1478.15 1852.58 1474.35 L1852.58 1459.65 L1856.84 1459.65 L1856.84 1485.58 L1852.58 1485.58 L1852.58 1481.6 Q1851.03 1483.96 1848.96 1485.12 Q1846.93 1486.25 1844.22 1486.25 Q1839.75 1486.25 1837.44 1483.47 Q1835.12 1480.7 1835.12 1475.35 M1845.84 1459.03 L1845.84 1459.03 Z\" fill=\"#000000\" fill-rule=\"nonzero\" fill-opacity=\"1\" /><path clip-path=\"url(#clip550)\" d=\"M1887.16 1469.93 L1887.16 1485.58 L1882.9 1485.58 L1882.9 1470.07 Q1882.9 1466.39 1881.46 1464.56 Q1880.03 1462.73 1877.16 1462.73 Q1873.71 1462.73 1871.72 1464.93 Q1869.73 1467.13 1869.73 1470.93 L1869.73 1485.58 L1865.45 1485.58 L1865.45 1459.65 L1869.73 1459.65 L1869.73 1463.68 Q1871.26 1461.34 1873.32 1460.19 Q1875.4 1459.03 1878.11 1459.03 Q1882.58 1459.03 1884.87 1461.81 Q1887.16 1464.56 1887.16 1469.93 Z\" fill=\"#000000\" fill-rule=\"nonzero\" fill-opacity=\"1\" /><path clip-path=\"url(#clip550)\" d=\"M1912.18 1460.42 L1912.18 1464.45 Q1910.38 1463.52 1908.43 1463.06 Q1906.49 1462.59 1904.4 1462.59 Q1901.23 1462.59 1899.64 1463.57 Q1898.06 1464.54 1898.06 1466.48 Q1898.06 1467.96 1899.2 1468.82 Q1900.33 1469.65 1903.76 1470.42 L1905.21 1470.74 Q1909.75 1471.71 1911.65 1473.5 Q1913.57 1475.26 1913.57 1478.43 Q1913.57 1482.04 1910.7 1484.14 Q1907.85 1486.25 1902.85 1486.25 Q1900.77 1486.25 1898.5 1485.83 Q1896.26 1485.44 1893.76 1484.63 L1893.76 1480.23 Q1896.12 1481.46 1898.41 1482.08 Q1900.7 1482.69 1902.95 1482.69 Q1905.96 1482.69 1907.58 1481.67 Q1909.2 1480.63 1909.2 1478.75 Q1909.2 1477.02 1908.02 1476.09 Q1906.86 1475.16 1902.9 1474.31 L1901.42 1473.96 Q1897.46 1473.13 1895.7 1471.41 Q1893.94 1469.68 1893.94 1466.67 Q1893.94 1463.01 1896.53 1461.02 Q1899.13 1459.03 1903.9 1459.03 Q1906.26 1459.03 1908.34 1459.38 Q1910.42 1459.72 1912.18 1460.42 Z\" fill=\"#000000\" fill-rule=\"nonzero\" fill-opacity=\"1\" /><path clip-path=\"url(#clip550)\" d=\"M1919.91 1475.35 L1919.91 1459.65 L1924.17 1459.65 L1924.17 1475.19 Q1924.17 1478.87 1925.61 1480.72 Q1927.04 1482.55 1929.91 1482.55 Q1933.36 1482.55 1935.35 1480.35 Q1937.37 1478.15 1937.37 1474.35 L1937.37 1459.65 L1941.63 1459.65 L1941.63 1485.58 L1937.37 1485.58 L1937.37 1481.6 Q1935.82 1483.96 1933.76 1485.12 Q1931.72 1486.25 1929.01 1486.25 Q1924.54 1486.25 1922.23 1483.47 Q1919.91 1480.7 1919.91 1475.35 M1930.63 1459.03 L1930.63 1459.03 Z\" fill=\"#000000\" fill-rule=\"nonzero\" fill-opacity=\"1\" /><path clip-path=\"url(#clip550)\" d=\"M1954.52 1481.69 L1954.52 1495.44 L1950.24 1495.44 L1950.24 1459.65 L1954.52 1459.65 L1954.52 1463.59 Q1955.86 1461.27 1957.9 1460.16 Q1959.96 1459.03 1962.81 1459.03 Q1967.53 1459.03 1970.47 1462.78 Q1973.43 1466.53 1973.43 1472.64 Q1973.43 1478.75 1970.47 1482.5 Q1967.53 1486.25 1962.81 1486.25 Q1959.96 1486.25 1957.9 1485.14 Q1955.86 1484.01 1954.52 1481.69 M1969.01 1472.64 Q1969.01 1467.94 1967.07 1465.28 Q1965.14 1462.59 1961.77 1462.59 Q1958.39 1462.59 1956.44 1465.28 Q1954.52 1467.94 1954.52 1472.64 Q1954.52 1477.34 1956.44 1480.02 Q1958.39 1482.69 1961.77 1482.69 Q1965.14 1482.69 1967.07 1480.02 Q1969.01 1477.34 1969.01 1472.64 Z\" fill=\"#000000\" fill-rule=\"nonzero\" fill-opacity=\"1\" /><path clip-path=\"url(#clip550)\" d=\"M2002.67 1471.55 L2002.67 1473.64 L1983.08 1473.64 Q1983.36 1478.03 1985.72 1480.35 Q1988.11 1482.64 1992.34 1482.64 Q1994.8 1482.64 1997.09 1482.04 Q1999.4 1481.44 2001.67 1480.23 L2001.67 1484.26 Q1999.38 1485.23 1996.97 1485.74 Q1994.57 1486.25 1992.09 1486.25 Q1985.89 1486.25 1982.25 1482.64 Q1978.64 1479.03 1978.64 1472.87 Q1978.64 1466.51 1982.07 1462.78 Q1985.52 1459.03 1991.35 1459.03 Q1996.58 1459.03 1999.61 1462.41 Q2002.67 1465.77 2002.67 1471.55 M1998.41 1470.3 Q1998.36 1466.81 1996.44 1464.72 Q1994.54 1462.64 1991.39 1462.64 Q1987.83 1462.64 1985.68 1464.65 Q1983.55 1466.67 1983.22 1470.33 L1998.41 1470.3 Z\" fill=\"#000000\" fill-rule=\"nonzero\" fill-opacity=\"1\" /><path clip-path=\"url(#clip550)\" d=\"M2024.68 1463.64 Q2023.96 1463.22 2023.11 1463.03 Q2022.27 1462.83 2021.26 1462.83 Q2017.64 1462.83 2015.7 1465.19 Q2013.78 1467.52 2013.78 1471.92 L2013.78 1485.58 L2009.5 1485.58 L2009.5 1459.65 L2013.78 1459.65 L2013.78 1463.68 Q2015.12 1461.32 2017.27 1460.19 Q2019.43 1459.03 2022.51 1459.03 Q2022.95 1459.03 2023.48 1459.1 Q2024.01 1459.14 2024.66 1459.26 L2024.68 1463.64 Z\" fill=\"#000000\" fill-rule=\"nonzero\" fill-opacity=\"1\" /><path clip-path=\"url(#clip550)\" d=\"M2026.09 1459.65 L2030.61 1459.65 L2038.71 1481.41 L2046.81 1459.65 L2051.32 1459.65 L2041.6 1485.58 L2035.82 1485.58 L2026.09 1459.65 Z\" fill=\"#000000\" fill-rule=\"nonzero\" fill-opacity=\"1\" /><path clip-path=\"url(#clip550)\" d=\"M2057.2 1459.65 L2061.46 1459.65 L2061.46 1485.58 L2057.2 1485.58 L2057.2 1459.65 M2057.2 1449.56 L2061.46 1449.56 L2061.46 1454.96 L2057.2 1454.96 L2057.2 1449.56 Z\" fill=\"#000000\" fill-rule=\"nonzero\" fill-opacity=\"1\" /><path clip-path=\"url(#clip550)\" d=\"M2086.9 1460.42 L2086.9 1464.45 Q2085.1 1463.52 2083.15 1463.06 Q2081.21 1462.59 2079.13 1462.59 Q2075.95 1462.59 2074.36 1463.57 Q2072.78 1464.54 2072.78 1466.48 Q2072.78 1467.96 2073.92 1468.82 Q2075.05 1469.65 2078.48 1470.42 L2079.94 1470.74 Q2084.47 1471.71 2086.37 1473.5 Q2088.29 1475.26 2088.29 1478.43 Q2088.29 1482.04 2085.42 1484.14 Q2082.57 1486.25 2077.57 1486.25 Q2075.49 1486.25 2073.22 1485.83 Q2070.98 1485.44 2068.48 1484.63 L2068.48 1480.23 Q2070.84 1481.46 2073.13 1482.08 Q2075.42 1482.69 2077.67 1482.69 Q2080.68 1482.69 2082.3 1481.67 Q2083.92 1480.63 2083.92 1478.75 Q2083.92 1477.02 2082.74 1476.09 Q2081.58 1475.16 2077.62 1474.31 L2076.14 1473.96 Q2072.18 1473.13 2070.42 1471.41 Q2068.66 1469.68 2068.66 1466.67 Q2068.66 1463.01 2071.26 1461.02 Q2073.85 1459.03 2078.62 1459.03 Q2080.98 1459.03 2083.06 1459.38 Q2085.14 1459.72 2086.9 1460.42 Z\" fill=\"#000000\" fill-rule=\"nonzero\" fill-opacity=\"1\" /><path clip-path=\"url(#clip550)\" d=\"M2117.25 1471.55 L2117.25 1473.64 L2097.67 1473.64 Q2097.95 1478.03 2100.31 1480.35 Q2102.69 1482.64 2106.93 1482.64 Q2109.38 1482.64 2111.67 1482.04 Q2113.99 1481.44 2116.26 1480.23 L2116.26 1484.26 Q2113.96 1485.23 2111.56 1485.74 Q2109.15 1486.25 2106.67 1486.25 Q2100.47 1486.25 2096.83 1482.64 Q2093.22 1479.03 2093.22 1472.87 Q2093.22 1466.51 2096.65 1462.78 Q2100.1 1459.03 2105.93 1459.03 Q2111.16 1459.03 2114.19 1462.41 Q2117.25 1465.77 2117.25 1471.55 M2112.99 1470.3 Q2112.94 1466.81 2111.02 1464.72 Q2109.13 1462.64 2105.98 1462.64 Q2102.41 1462.64 2100.26 1464.65 Q2098.13 1466.67 2097.81 1470.33 L2112.99 1470.3 Z\" fill=\"#000000\" fill-rule=\"nonzero\" fill-opacity=\"1\" /><path clip-path=\"url(#clip550)\" d=\"M2141.3 1463.59 L2141.3 1449.56 L2145.56 1449.56 L2145.56 1485.58 L2141.3 1485.58 L2141.3 1481.69 Q2139.96 1484.01 2137.9 1485.14 Q2135.86 1486.25 2132.99 1486.25 Q2128.29 1486.25 2125.33 1482.5 Q2122.39 1478.75 2122.39 1472.64 Q2122.39 1466.53 2125.33 1462.78 Q2128.29 1459.03 2132.99 1459.03 Q2135.86 1459.03 2137.9 1460.16 Q2139.96 1461.27 2141.3 1463.59 M2126.79 1472.64 Q2126.79 1477.34 2128.71 1480.02 Q2130.65 1482.69 2134.03 1482.69 Q2137.41 1482.69 2139.36 1480.02 Q2141.3 1477.34 2141.3 1472.64 Q2141.3 1467.94 2139.36 1465.28 Q2137.41 1462.59 2134.03 1462.59 Q2130.65 1462.59 2128.71 1465.28 Q2126.79 1467.94 2126.79 1472.64 Z\" fill=\"#000000\" fill-rule=\"nonzero\" fill-opacity=\"1\" /><path clip-path=\"url(#clip550)\" d=\"M2195.47 1453.68 L2195.47 1458.61 Q2193.11 1456.41 2190.42 1455.33 Q2187.76 1454.24 2184.75 1454.24 Q2178.82 1454.24 2175.68 1457.87 Q2172.53 1461.48 2172.53 1468.33 Q2172.53 1475.16 2175.68 1478.8 Q2178.82 1482.41 2184.75 1482.41 Q2187.76 1482.41 2190.42 1481.32 Q2193.11 1480.23 2195.47 1478.03 L2195.47 1482.92 Q2193.01 1484.58 2190.26 1485.42 Q2187.53 1486.25 2184.47 1486.25 Q2176.63 1486.25 2172.11 1481.46 Q2167.6 1476.64 2167.6 1468.33 Q2167.6 1460 2172.11 1455.21 Q2176.63 1450.39 2184.47 1450.39 Q2187.57 1450.39 2190.31 1451.23 Q2193.06 1452.04 2195.47 1453.68 Z\" fill=\"#000000\" fill-rule=\"nonzero\" fill-opacity=\"1\" /><path clip-path=\"url(#clip550)\" d=\"M2226.25 1480.65 L2226.25 1471.37 L2218.62 1471.37 L2218.62 1467.52 L2230.88 1467.52 L2230.88 1482.36 Q2228.18 1484.28 2224.91 1485.28 Q2221.65 1486.25 2217.94 1486.25 Q2209.84 1486.25 2205.26 1481.53 Q2200.7 1476.78 2200.7 1468.33 Q2200.7 1459.86 2205.26 1455.14 Q2209.84 1450.39 2217.94 1450.39 Q2221.32 1450.39 2224.36 1451.23 Q2227.41 1452.06 2229.98 1453.68 L2229.98 1458.66 Q2227.39 1456.46 2224.47 1455.35 Q2221.56 1454.24 2218.34 1454.24 Q2212 1454.24 2208.8 1457.78 Q2205.63 1461.32 2205.63 1468.33 Q2205.63 1475.33 2208.8 1478.87 Q2212 1482.41 2218.34 1482.41 Q2220.81 1482.41 2222.76 1481.99 Q2224.7 1481.55 2226.25 1480.65 Z\" fill=\"#000000\" fill-rule=\"nonzero\" fill-opacity=\"1\" /><path clip-path=\"url(#clip550)\" d=\"M1124.51 1526.86 L1115.79 1550.51 L1133.26 1550.51 L1124.51 1526.86 M1120.88 1520.52 L1128.17 1520.52 L1146.28 1568.04 L1139.59 1568.04 L1135.27 1555.85 L1113.85 1555.85 L1109.52 1568.04 L1102.74 1568.04 L1120.88 1520.52 Z\" fill=\"#000000\" fill-rule=\"nonzero\" fill-opacity=\"1\" /><path clip-path=\"url(#clip550)\" d=\"M1152.96 1518.52 L1158.82 1518.52 L1158.82 1568.04 L1152.96 1568.04 L1152.96 1518.52 Z\" fill=\"#000000\" fill-rule=\"nonzero\" fill-opacity=\"1\" /><path clip-path=\"url(#clip550)\" d=\"M1194.53 1549.81 Q1194.53 1543.44 1191.89 1539.94 Q1189.28 1536.44 1184.54 1536.44 Q1179.83 1536.44 1177.18 1539.94 Q1174.57 1543.44 1174.57 1549.81 Q1174.57 1556.14 1177.18 1559.64 Q1179.83 1563.14 1184.54 1563.14 Q1189.28 1563.14 1191.89 1559.64 Q1194.53 1556.14 1194.53 1549.81 M1200.39 1563.62 Q1200.39 1572.72 1196.34 1577.15 Q1192.3 1581.6 1183.96 1581.6 Q1180.88 1581.6 1178.14 1581.13 Q1175.4 1580.68 1172.82 1579.72 L1172.82 1574.03 Q1175.4 1575.43 1177.92 1576.1 Q1180.43 1576.76 1183.04 1576.76 Q1188.8 1576.76 1191.67 1573.74 Q1194.53 1570.75 1194.53 1564.67 L1194.53 1561.77 Q1192.72 1564.92 1189.88 1566.48 Q1187.05 1568.04 1183.1 1568.04 Q1176.55 1568.04 1172.54 1563.05 Q1168.53 1558.05 1168.53 1549.81 Q1168.53 1541.53 1172.54 1536.53 Q1176.55 1531.54 1183.1 1531.54 Q1187.05 1531.54 1189.88 1533.1 Q1192.72 1534.66 1194.53 1537.81 L1194.53 1532.4 L1200.39 1532.4 L1200.39 1563.62 Z\" fill=\"#000000\" fill-rule=\"nonzero\" fill-opacity=\"1\" /><path clip-path=\"url(#clip550)\" d=\"M1226.26 1536.5 Q1221.55 1536.5 1218.82 1540.19 Q1216.08 1543.85 1216.08 1550.25 Q1216.08 1556.65 1218.78 1560.34 Q1221.52 1564 1226.26 1564 Q1230.94 1564 1233.68 1560.31 Q1236.42 1556.62 1236.42 1550.25 Q1236.42 1543.92 1233.68 1540.23 Q1230.94 1536.5 1226.26 1536.5 M1226.26 1531.54 Q1233.9 1531.54 1238.26 1536.5 Q1242.62 1541.47 1242.62 1550.25 Q1242.62 1559 1238.26 1564 Q1233.9 1568.97 1226.26 1568.97 Q1218.59 1568.97 1214.23 1564 Q1209.9 1559 1209.9 1550.25 Q1209.9 1541.47 1214.23 1536.5 Q1218.59 1531.54 1226.26 1531.54 Z\" fill=\"#000000\" fill-rule=\"nonzero\" fill-opacity=\"1\" /><path clip-path=\"url(#clip550)\" d=\"M1272.99 1537.87 Q1272 1537.3 1270.82 1537.04 Q1269.68 1536.76 1268.28 1536.76 Q1263.31 1536.76 1260.64 1540 Q1258 1543.22 1258 1549.27 L1258 1568.04 L1252.11 1568.04 L1252.11 1532.4 L1258 1532.4 L1258 1537.93 Q1259.84 1534.69 1262.8 1533.13 Q1265.76 1531.54 1270 1531.54 Q1270.6 1531.54 1271.33 1531.63 Q1272.06 1531.7 1272.96 1531.85 L1272.99 1537.87 Z\" fill=\"#000000\" fill-rule=\"nonzero\" fill-opacity=\"1\" /><path clip-path=\"url(#clip550)\" d=\"M1279.13 1532.4 L1284.99 1532.4 L1284.99 1568.04 L1279.13 1568.04 L1279.13 1532.4 M1279.13 1518.52 L1284.99 1518.52 L1284.99 1525.93 L1279.13 1525.93 L1279.13 1518.52 Z\" fill=\"#000000\" fill-rule=\"nonzero\" fill-opacity=\"1\" /><path clip-path=\"url(#clip550)\" d=\"M1303.03 1522.27 L1303.03 1532.4 L1315.1 1532.4 L1315.1 1536.95 L1303.03 1536.95 L1303.03 1556.3 Q1303.03 1560.66 1304.21 1561.9 Q1305.42 1563.14 1309.08 1563.14 L1315.1 1563.14 L1315.1 1568.04 L1309.08 1568.04 Q1302.3 1568.04 1299.72 1565.53 Q1297.15 1562.98 1297.15 1556.3 L1297.15 1536.95 L1292.85 1536.95 L1292.85 1532.4 L1297.15 1532.4 L1297.15 1522.27 L1303.03 1522.27 Z\" fill=\"#000000\" fill-rule=\"nonzero\" fill-opacity=\"1\" /><path clip-path=\"url(#clip550)\" d=\"M1352.43 1546.53 L1352.43 1568.04 L1346.58 1568.04 L1346.58 1546.72 Q1346.58 1541.66 1344.6 1539.14 Q1342.63 1536.63 1338.68 1536.63 Q1333.94 1536.63 1331.2 1539.65 Q1328.47 1542.68 1328.47 1547.9 L1328.47 1568.04 L1322.58 1568.04 L1322.58 1518.52 L1328.47 1518.52 L1328.47 1537.93 Q1330.57 1534.72 1333.4 1533.13 Q1336.26 1531.54 1339.99 1531.54 Q1346.13 1531.54 1349.28 1535.36 Q1352.43 1539.14 1352.43 1546.53 Z\" fill=\"#000000\" fill-rule=\"nonzero\" fill-opacity=\"1\" /><path clip-path=\"url(#clip550)\" d=\"M1391.87 1539.24 Q1394.06 1535.29 1397.12 1533.41 Q1400.17 1531.54 1404.31 1531.54 Q1409.88 1531.54 1412.91 1535.45 Q1415.93 1539.33 1415.93 1546.53 L1415.93 1568.04 L1410.04 1568.04 L1410.04 1546.72 Q1410.04 1541.59 1408.23 1539.11 Q1406.41 1536.63 1402.69 1536.63 Q1398.14 1536.63 1395.5 1539.65 Q1392.85 1542.68 1392.85 1547.9 L1392.85 1568.04 L1386.97 1568.04 L1386.97 1546.72 Q1386.97 1541.56 1385.15 1539.11 Q1383.34 1536.63 1379.55 1536.63 Q1375.06 1536.63 1372.42 1539.68 Q1369.78 1542.71 1369.78 1547.9 L1369.78 1568.04 L1363.89 1568.04 L1363.89 1532.4 L1369.78 1532.4 L1369.78 1537.93 Q1371.78 1534.66 1374.58 1533.1 Q1377.39 1531.54 1381.24 1531.54 Q1385.12 1531.54 1387.83 1533.51 Q1390.56 1535.48 1391.87 1539.24 Z\" fill=\"#000000\" fill-rule=\"nonzero\" fill-opacity=\"1\" /><path clip-path=\"url(#clip550)\" d=\"M1450.34 1533.45 L1450.34 1538.98 Q1447.85 1537.71 1445.18 1537.07 Q1442.51 1536.44 1439.64 1536.44 Q1435.28 1536.44 1433.09 1537.77 Q1430.92 1539.11 1430.92 1541.79 Q1430.92 1543.82 1432.48 1545 Q1434.04 1546.15 1438.75 1547.2 L1440.76 1547.64 Q1446.99 1548.98 1449.6 1551.43 Q1452.25 1553.85 1452.25 1558.21 Q1452.25 1563.17 1448.3 1566.07 Q1444.38 1568.97 1437.51 1568.97 Q1434.65 1568.97 1431.53 1568.39 Q1428.44 1567.85 1425 1566.74 L1425 1560.69 Q1428.25 1562.38 1431.4 1563.24 Q1434.55 1564.07 1437.64 1564.07 Q1441.77 1564.07 1444 1562.66 Q1446.23 1561.23 1446.23 1558.65 Q1446.23 1556.27 1444.61 1554.99 Q1443.02 1553.72 1437.57 1552.54 L1435.54 1552.07 Q1430.09 1550.92 1427.67 1548.56 Q1425.26 1546.18 1425.26 1542.04 Q1425.26 1537.01 1428.82 1534.27 Q1432.39 1531.54 1438.94 1531.54 Q1442.19 1531.54 1445.05 1532.01 Q1447.92 1532.49 1450.34 1533.45 Z\" fill=\"#000000\" fill-rule=\"nonzero\" fill-opacity=\"1\" /><polyline clip-path=\"url(#clip552)\" style=\"stroke:#000000; stroke-linecap:round; stroke-linejoin:round; stroke-width:2; stroke-opacity:0.1; fill:none\" points=\"202.227,1423.18 2352.76,1423.18 \"/>\n",
       "<polyline clip-path=\"url(#clip552)\" style=\"stroke:#000000; stroke-linecap:round; stroke-linejoin:round; stroke-width:2; stroke-opacity:0.1; fill:none\" points=\"202.227,1235.98 2352.76,1235.98 \"/>\n",
       "<polyline clip-path=\"url(#clip552)\" style=\"stroke:#000000; stroke-linecap:round; stroke-linejoin:round; stroke-width:2; stroke-opacity:0.1; fill:none\" points=\"202.227,1048.77 2352.76,1048.77 \"/>\n",
       "<polyline clip-path=\"url(#clip552)\" style=\"stroke:#000000; stroke-linecap:round; stroke-linejoin:round; stroke-width:2; stroke-opacity:0.1; fill:none\" points=\"202.227,861.568 2352.76,861.568 \"/>\n",
       "<polyline clip-path=\"url(#clip552)\" style=\"stroke:#000000; stroke-linecap:round; stroke-linejoin:round; stroke-width:2; stroke-opacity:0.1; fill:none\" points=\"202.227,674.364 2352.76,674.364 \"/>\n",
       "<polyline clip-path=\"url(#clip552)\" style=\"stroke:#000000; stroke-linecap:round; stroke-linejoin:round; stroke-width:2; stroke-opacity:0.1; fill:none\" points=\"202.227,487.16 2352.76,487.16 \"/>\n",
       "<polyline clip-path=\"url(#clip552)\" style=\"stroke:#000000; stroke-linecap:round; stroke-linejoin:round; stroke-width:2; stroke-opacity:0.1; fill:none\" points=\"202.227,299.956 2352.76,299.956 \"/>\n",
       "<polyline clip-path=\"url(#clip550)\" style=\"stroke:#000000; stroke-linecap:round; stroke-linejoin:round; stroke-width:4; stroke-opacity:1; fill:none\" points=\"202.227,1423.18 202.227,123.472 \"/>\n",
       "<polyline clip-path=\"url(#clip550)\" style=\"stroke:#000000; stroke-linecap:round; stroke-linejoin:round; stroke-width:4; stroke-opacity:1; fill:none\" points=\"202.227,1423.18 221.125,1423.18 \"/>\n",
       "<polyline clip-path=\"url(#clip550)\" style=\"stroke:#000000; stroke-linecap:round; stroke-linejoin:round; stroke-width:4; stroke-opacity:1; fill:none\" points=\"202.227,1235.98 221.125,1235.98 \"/>\n",
       "<polyline clip-path=\"url(#clip550)\" style=\"stroke:#000000; stroke-linecap:round; stroke-linejoin:round; stroke-width:4; stroke-opacity:1; fill:none\" points=\"202.227,1048.77 221.125,1048.77 \"/>\n",
       "<polyline clip-path=\"url(#clip550)\" style=\"stroke:#000000; stroke-linecap:round; stroke-linejoin:round; stroke-width:4; stroke-opacity:1; fill:none\" points=\"202.227,861.568 221.125,861.568 \"/>\n",
       "<polyline clip-path=\"url(#clip550)\" style=\"stroke:#000000; stroke-linecap:round; stroke-linejoin:round; stroke-width:4; stroke-opacity:1; fill:none\" points=\"202.227,674.364 221.125,674.364 \"/>\n",
       "<polyline clip-path=\"url(#clip550)\" style=\"stroke:#000000; stroke-linecap:round; stroke-linejoin:round; stroke-width:4; stroke-opacity:1; fill:none\" points=\"202.227,487.16 221.125,487.16 \"/>\n",
       "<polyline clip-path=\"url(#clip550)\" style=\"stroke:#000000; stroke-linecap:round; stroke-linejoin:round; stroke-width:4; stroke-opacity:1; fill:none\" points=\"202.227,299.956 221.125,299.956 \"/>\n",
       "<path clip-path=\"url(#clip550)\" d=\"M154.283 1408.98 Q150.672 1408.98 148.843 1412.54 Q147.038 1416.08 147.038 1423.21 Q147.038 1430.32 148.843 1433.89 Q150.672 1437.43 154.283 1437.43 Q157.917 1437.43 159.723 1433.89 Q161.552 1430.32 161.552 1423.21 Q161.552 1416.08 159.723 1412.54 Q157.917 1408.98 154.283 1408.98 M154.283 1405.27 Q160.093 1405.27 163.149 1409.88 Q166.227 1414.46 166.227 1423.21 Q166.227 1431.94 163.149 1436.55 Q160.093 1441.13 154.283 1441.13 Q148.473 1441.13 145.394 1436.55 Q142.339 1431.94 142.339 1423.21 Q142.339 1414.46 145.394 1409.88 Q148.473 1405.27 154.283 1405.27 Z\" fill=\"#000000\" fill-rule=\"nonzero\" fill-opacity=\"1\" /><path clip-path=\"url(#clip550)\" d=\"M149.908 1249.32 L166.227 1249.32 L166.227 1253.26 L144.283 1253.26 L144.283 1249.32 Q146.945 1246.57 151.528 1241.94 Q156.135 1237.28 157.315 1235.94 Q159.561 1233.42 160.44 1231.68 Q161.343 1229.92 161.343 1228.23 Q161.343 1225.48 159.399 1223.74 Q157.478 1222.01 154.376 1222.01 Q152.177 1222.01 149.723 1222.77 Q147.292 1223.53 144.515 1225.08 L144.515 1220.36 Q147.339 1219.23 149.792 1218.65 Q152.246 1218.07 154.283 1218.07 Q159.653 1218.07 162.848 1220.76 Q166.042 1223.44 166.042 1227.93 Q166.042 1230.06 165.232 1231.98 Q164.445 1233.88 162.339 1236.47 Q161.76 1237.14 158.658 1240.36 Q155.556 1243.56 149.908 1249.32 Z\" fill=\"#000000\" fill-rule=\"nonzero\" fill-opacity=\"1\" /><path clip-path=\"url(#clip550)\" d=\"M156.644 1035.57 L144.839 1054.01 L156.644 1054.01 L156.644 1035.57 M155.417 1031.49 L161.297 1031.49 L161.297 1054.01 L166.227 1054.01 L166.227 1057.9 L161.297 1057.9 L161.297 1066.05 L156.644 1066.05 L156.644 1057.9 L141.042 1057.9 L141.042 1053.39 L155.417 1031.49 Z\" fill=\"#000000\" fill-rule=\"nonzero\" fill-opacity=\"1\" /><path clip-path=\"url(#clip550)\" d=\"M154.7 859.704 Q151.552 859.704 149.7 861.857 Q147.871 864.01 147.871 867.76 Q147.871 871.487 149.7 873.663 Q151.552 875.816 154.7 875.816 Q157.848 875.816 159.677 873.663 Q161.528 871.487 161.528 867.76 Q161.528 864.01 159.677 861.857 Q157.848 859.704 154.7 859.704 M163.982 845.052 L163.982 849.311 Q162.223 848.478 160.417 848.038 Q158.635 847.598 156.876 847.598 Q152.246 847.598 149.792 850.723 Q147.362 853.848 147.015 860.167 Q148.38 858.154 150.441 857.089 Q152.501 856.001 154.978 856.001 Q160.186 856.001 163.195 859.172 Q166.227 862.32 166.227 867.76 Q166.227 873.084 163.079 876.302 Q159.931 879.519 154.7 879.519 Q148.704 879.519 145.533 874.936 Q142.362 870.329 142.362 861.603 Q142.362 853.408 146.251 848.547 Q150.14 843.663 156.69 843.663 Q158.45 843.663 160.232 844.01 Q162.038 844.357 163.982 845.052 Z\" fill=\"#000000\" fill-rule=\"nonzero\" fill-opacity=\"1\" /><path clip-path=\"url(#clip550)\" d=\"M154.376 675.232 Q151.042 675.232 149.121 677.014 Q147.223 678.797 147.223 681.922 Q147.223 685.047 149.121 686.829 Q151.042 688.612 154.376 688.612 Q157.709 688.612 159.63 686.829 Q161.552 685.024 161.552 681.922 Q161.552 678.797 159.63 677.014 Q157.732 675.232 154.376 675.232 M149.7 673.241 Q146.691 672.501 145.001 670.44 Q143.334 668.38 143.334 665.417 Q143.334 661.274 146.274 658.866 Q149.237 656.459 154.376 656.459 Q159.538 656.459 162.477 658.866 Q165.417 661.274 165.417 665.417 Q165.417 668.38 163.727 670.44 Q162.061 672.501 159.075 673.241 Q162.454 674.028 164.329 676.32 Q166.227 678.612 166.227 681.922 Q166.227 686.945 163.149 689.63 Q160.093 692.315 154.376 692.315 Q148.658 692.315 145.579 689.63 Q142.524 686.945 142.524 681.922 Q142.524 678.612 144.422 676.32 Q146.32 674.028 149.7 673.241 M147.987 665.857 Q147.987 668.542 149.653 670.047 Q151.343 671.551 154.376 671.551 Q157.385 671.551 159.075 670.047 Q160.788 668.542 160.788 665.857 Q160.788 663.172 159.075 661.667 Q157.385 660.163 154.376 660.163 Q151.343 660.163 149.653 661.667 Q147.987 663.172 147.987 665.857 Z\" fill=\"#000000\" fill-rule=\"nonzero\" fill-opacity=\"1\" /><path clip-path=\"url(#clip550)\" d=\"M114.931 500.505 L122.57 500.505 L122.57 474.139 L114.26 475.806 L114.26 471.547 L122.524 469.88 L127.2 469.88 L127.2 500.505 L134.839 500.505 L134.839 504.44 L114.931 504.44 L114.931 500.505 Z\" fill=\"#000000\" fill-rule=\"nonzero\" fill-opacity=\"1\" /><path clip-path=\"url(#clip550)\" d=\"M154.283 472.959 Q150.672 472.959 148.843 476.523 Q147.038 480.065 147.038 487.195 Q147.038 494.301 148.843 497.866 Q150.672 501.408 154.283 501.408 Q157.917 501.408 159.723 497.866 Q161.552 494.301 161.552 487.195 Q161.552 480.065 159.723 476.523 Q157.917 472.959 154.283 472.959 M154.283 469.255 Q160.093 469.255 163.149 473.861 Q166.227 478.445 166.227 487.195 Q166.227 495.921 163.149 500.528 Q160.093 505.111 154.283 505.111 Q148.473 505.111 145.394 500.528 Q142.339 495.921 142.339 487.195 Q142.339 478.445 145.394 473.861 Q148.473 469.255 154.283 469.255 Z\" fill=\"#000000\" fill-rule=\"nonzero\" fill-opacity=\"1\" /><path clip-path=\"url(#clip550)\" d=\"M116.529 313.301 L124.168 313.301 L124.168 286.935 L115.857 288.602 L115.857 284.343 L124.121 282.676 L128.797 282.676 L128.797 313.301 L136.436 313.301 L136.436 317.236 L116.529 317.236 L116.529 313.301 Z\" fill=\"#000000\" fill-rule=\"nonzero\" fill-opacity=\"1\" /><path clip-path=\"url(#clip550)\" d=\"M149.908 313.301 L166.227 313.301 L166.227 317.236 L144.283 317.236 L144.283 313.301 Q146.945 310.546 151.528 305.917 Q156.135 301.264 157.315 299.921 Q159.561 297.398 160.44 295.662 Q161.343 293.903 161.343 292.213 Q161.343 289.458 159.399 287.722 Q157.478 285.986 154.376 285.986 Q152.177 285.986 149.723 286.75 Q147.292 287.514 144.515 289.065 L144.515 284.343 Q147.339 283.208 149.792 282.63 Q152.246 282.051 154.283 282.051 Q159.653 282.051 162.848 284.736 Q166.042 287.421 166.042 291.912 Q166.042 294.042 165.232 295.963 Q164.445 297.861 162.339 300.454 Q161.76 301.125 158.658 304.343 Q155.556 307.537 149.908 313.301 Z\" fill=\"#000000\" fill-rule=\"nonzero\" fill-opacity=\"1\" /><path clip-path=\"url(#clip550)\" d=\"M16.4842 1042.47 L16.4842 1032.89 L48.8219 1020.76 L16.4842 1008.57 L16.4842 998.99 L64.0042 998.99 L64.0042 1005.26 L22.277 1005.26 L54.8694 1017.51 L54.8694 1023.98 L22.277 1036.23 L64.0042 1036.23 L64.0042 1042.47 L16.4842 1042.47 Z\" fill=\"#000000\" fill-rule=\"nonzero\" fill-opacity=\"1\" /><path clip-path=\"url(#clip550)\" d=\"M28.3562 986.482 L28.3562 980.625 L64.0042 980.625 L64.0042 986.482 L28.3562 986.482 M14.479 986.482 L14.479 980.625 L21.895 980.625 L21.895 986.482 L14.479 986.482 Z\" fill=\"#000000\" fill-rule=\"nonzero\" fill-opacity=\"1\" /><path clip-path=\"url(#clip550)\" d=\"M42.4881 938.739 L64.0042 938.739 L64.0042 944.595 L42.679 944.595 Q37.6183 944.595 35.1038 946.569 Q32.5894 948.542 32.5894 952.489 Q32.5894 957.231 35.6131 959.969 Q38.6368 962.706 43.8567 962.706 L64.0042 962.706 L64.0042 968.594 L28.3562 968.594 L28.3562 962.706 L33.8944 962.706 Q30.6797 960.605 29.0883 957.772 Q27.4968 954.908 27.4968 951.184 Q27.4968 945.041 31.3163 941.89 Q35.1038 938.739 42.4881 938.739 Z\" fill=\"#000000\" fill-rule=\"nonzero\" fill-opacity=\"1\" /><path clip-path=\"url(#clip550)\" d=\"M16.4842 906.083 L16.4842 897.425 L56.238 876.355 L16.4842 876.355 L16.4842 870.117 L64.0042 870.117 L64.0042 878.774 L24.2503 899.844 L64.0042 899.844 L64.0042 906.083 L16.4842 906.083 Z\" fill=\"#000000\" fill-rule=\"nonzero\" fill-opacity=\"1\" /><path clip-path=\"url(#clip550)\" d=\"M32.4621 843.763 Q32.4621 848.473 36.1542 851.21 Q39.8145 853.948 46.212 853.948 Q52.6095 853.948 56.3017 851.242 Q59.9619 848.505 59.9619 843.763 Q59.9619 839.084 56.2698 836.346 Q52.5777 833.609 46.212 833.609 Q39.8781 833.609 36.186 836.346 Q32.4621 839.084 32.4621 843.763 M27.4968 843.763 Q27.4968 836.124 32.4621 831.763 Q37.4273 827.403 46.212 827.403 Q54.9649 827.403 59.9619 831.763 Q64.9272 836.124 64.9272 843.763 Q64.9272 851.433 59.9619 855.794 Q54.9649 860.122 46.212 860.122 Q37.4273 860.122 32.4621 855.794 Q27.4968 851.433 27.4968 843.763 Z\" fill=\"#000000\" fill-rule=\"nonzero\" fill-opacity=\"1\" /><path clip-path=\"url(#clip550)\" d=\"M33.8307 797.038 Q33.2578 798.025 33.0032 799.203 Q32.7167 800.348 32.7167 801.749 Q32.7167 806.714 35.9632 809.388 Q39.1779 812.029 45.2253 812.029 L64.0042 812.029 L64.0042 817.918 L28.3562 817.918 L28.3562 812.029 L33.8944 812.029 Q30.6479 810.183 29.0883 807.223 Q27.4968 804.263 27.4968 800.03 Q27.4968 799.425 27.5923 798.693 Q27.656 797.961 27.8151 797.07 L33.8307 797.038 Z\" fill=\"#000000\" fill-rule=\"nonzero\" fill-opacity=\"1\" /><path clip-path=\"url(#clip550)\" d=\"M35.1993 764.287 Q31.2526 762.091 29.3747 759.035 Q27.4968 755.979 27.4968 751.842 Q27.4968 746.272 31.4117 743.248 Q35.2948 740.224 42.4881 740.224 L64.0042 740.224 L64.0042 746.113 L42.679 746.113 Q37.5546 746.113 35.072 747.927 Q32.5894 749.741 32.5894 753.465 Q32.5894 758.016 35.6131 760.658 Q38.6368 763.3 43.8567 763.3 L64.0042 763.3 L64.0042 769.188 L42.679 769.188 Q37.5228 769.188 35.072 771.003 Q32.5894 772.817 32.5894 776.604 Q32.5894 781.092 35.6449 783.734 Q38.6686 786.376 43.8567 786.376 L64.0042 786.376 L64.0042 792.264 L28.3562 792.264 L28.3562 786.376 L33.8944 786.376 Q30.616 784.37 29.0564 781.57 Q27.4968 778.769 27.4968 774.917 Q27.4968 771.034 29.4702 768.329 Q31.4436 765.592 35.1993 764.287 Z\" fill=\"#000000\" fill-rule=\"nonzero\" fill-opacity=\"1\" /><path clip-path=\"url(#clip550)\" d=\"M64.0042 695.314 L16.4842 713.457 L16.4842 706.741 L56.4926 691.686 L16.4842 676.599 L16.4842 669.915 L64.0042 688.026 L64.0042 695.314 Z\" fill=\"#000000\" fill-rule=\"nonzero\" fill-opacity=\"1\" /><path clip-path=\"url(#clip550)\" d=\"M46.0847 652.091 Q46.0847 659.189 47.7079 661.926 Q49.3312 664.663 53.2461 664.663 Q56.3653 664.663 58.2114 662.626 Q60.0256 660.557 60.0256 657.025 Q60.0256 652.155 56.5881 649.227 Q53.1188 646.266 47.3897 646.266 L46.0847 646.266 L46.0847 652.091 M43.6657 640.41 L64.0042 640.41 L64.0042 646.266 L58.5933 646.266 Q61.8398 648.272 63.3994 651.264 Q64.9272 654.255 64.9272 658.584 Q64.9272 664.059 61.8716 667.305 Q58.7843 670.52 53.6281 670.52 Q47.6125 670.52 44.5569 666.509 Q41.5014 662.467 41.5014 654.478 L41.5014 646.266 L40.9285 646.266 Q36.8862 646.266 34.6901 648.94 Q32.4621 651.582 32.4621 656.388 Q32.4621 659.443 33.1941 662.34 Q33.9262 665.236 35.3903 667.91 L29.9795 667.91 Q28.7381 664.695 28.1334 661.671 Q27.4968 658.648 27.4968 655.783 Q27.4968 648.049 31.5072 644.229 Q35.5176 640.41 43.6657 640.41 Z\" fill=\"#000000\" fill-rule=\"nonzero\" fill-opacity=\"1\" /><path clip-path=\"url(#clip550)\" d=\"M14.479 628.347 L14.479 622.491 L64.0042 622.491 L64.0042 628.347 L14.479 628.347 Z\" fill=\"#000000\" fill-rule=\"nonzero\" fill-opacity=\"1\" /><path clip-path=\"url(#clip550)\" d=\"M49.9359 610.841 L28.3562 610.841 L28.3562 604.985 L49.7131 604.985 Q54.7739 604.985 57.3202 603.012 Q59.8346 601.038 59.8346 597.091 Q59.8346 592.349 56.8109 589.612 Q53.7872 586.843 48.5673 586.843 L28.3562 586.843 L28.3562 580.986 L64.0042 580.986 L64.0042 586.843 L58.5296 586.843 Q61.7762 588.975 63.3676 591.808 Q64.9272 594.609 64.9272 598.333 Q64.9272 604.476 61.1078 607.658 Q57.2883 610.841 49.9359 610.841 M27.4968 596.105 L27.4968 596.105 Z\" fill=\"#000000\" fill-rule=\"nonzero\" fill-opacity=\"1\" /><path clip-path=\"url(#clip550)\" d=\"M44.7161 538.431 L47.5806 538.431 L47.5806 565.358 Q53.6281 564.976 56.8109 561.73 Q59.9619 558.452 59.9619 552.627 Q59.9619 549.253 59.1344 546.102 Q58.3069 542.919 56.6518 539.8 L62.1899 539.8 Q63.5267 542.951 64.227 546.261 Q64.9272 549.571 64.9272 552.977 Q64.9272 561.507 59.9619 566.504 Q54.9967 571.469 46.5303 571.469 Q37.7774 571.469 32.6531 566.759 Q27.4968 562.016 27.4968 553.996 Q27.4968 546.802 32.1438 542.633 Q36.7589 538.431 44.7161 538.431 M42.9973 544.288 Q38.1912 544.352 35.3266 546.993 Q32.4621 549.603 32.4621 553.932 Q32.4621 558.833 35.2312 561.794 Q38.0002 564.722 43.0292 565.167 L42.9973 544.288 Z\" fill=\"#000000\" fill-rule=\"nonzero\" fill-opacity=\"1\" /><path clip-path=\"url(#clip550)\" d=\"M29.4065 506.094 L34.9447 506.094 Q33.6716 508.576 33.035 511.25 Q32.3984 513.923 32.3984 516.788 Q32.3984 521.149 33.7352 523.345 Q35.072 525.509 37.7456 525.509 Q39.7826 525.509 40.9603 523.949 Q42.1061 522.39 43.1565 517.679 L43.6021 515.674 Q44.9389 509.436 47.3897 506.826 Q49.8086 504.184 54.1691 504.184 Q59.1344 504.184 62.0308 508.131 Q64.9272 512.046 64.9272 518.921 Q64.9272 521.785 64.3543 524.904 Q63.8132 527.992 62.6992 531.429 L56.6518 531.429 Q58.3387 528.183 59.198 525.032 Q60.0256 521.881 60.0256 518.793 Q60.0256 514.655 58.6251 512.427 Q57.1929 510.2 54.6147 510.2 Q52.2276 510.2 50.9545 511.823 Q49.6813 513.414 48.5037 518.857 L48.0262 520.894 Q46.8804 526.337 44.5251 528.756 Q42.138 531.175 38.0002 531.175 Q32.9713 531.175 30.2341 527.61 Q27.4968 524.045 27.4968 517.488 Q27.4968 514.242 27.9743 511.377 Q28.4517 508.513 29.4065 506.094 Z\" fill=\"#000000\" fill-rule=\"nonzero\" fill-opacity=\"1\" /><path clip-path=\"url(#clip550)\" d=\"M436.22 12.096 L444.403 12.096 L444.403 72.576 L436.22 72.576 L436.22 12.096 Z\" fill=\"#000000\" fill-rule=\"nonzero\" fill-opacity=\"1\" /><path clip-path=\"url(#clip550)\" d=\"M495.687 35.9153 Q498.483 30.8922 502.371 28.5022 Q506.26 26.1121 511.526 26.1121 Q518.616 26.1121 522.464 31.0947 Q526.312 36.0368 526.312 45.1919 L526.312 72.576 L518.818 72.576 L518.818 45.4349 Q518.818 38.913 516.509 35.7533 Q514.2 32.5936 509.461 32.5936 Q503.668 32.5936 500.305 36.4419 Q496.943 40.2903 496.943 46.9338 L496.943 72.576 L489.449 72.576 L489.449 45.4349 Q489.449 38.8725 487.14 35.7533 Q484.831 32.5936 480.01 32.5936 Q474.299 32.5936 470.936 36.4824 Q467.574 40.3308 467.574 46.9338 L467.574 72.576 L460.08 72.576 L460.08 27.2059 L467.574 27.2059 L467.574 34.2544 Q470.126 30.082 473.691 28.0971 Q477.256 26.1121 482.157 26.1121 Q487.1 26.1121 490.543 28.6237 Q494.027 31.1352 495.687 35.9153 Z\" fill=\"#000000\" fill-rule=\"nonzero\" fill-opacity=\"1\" /><path clip-path=\"url(#clip550)\" d=\"M561.798 49.7694 Q552.765 49.7694 549.281 51.8354 Q545.797 53.9013 545.797 58.8839 Q545.797 62.8538 548.39 65.2034 Q551.023 67.5124 555.519 67.5124 Q561.717 67.5124 565.444 63.1374 Q569.211 58.7219 569.211 51.4303 L569.211 49.7694 L561.798 49.7694 M576.665 46.6907 L576.665 72.576 L569.211 72.576 L569.211 65.6895 Q566.659 69.8214 562.851 71.8063 Q559.044 73.7508 553.534 73.7508 Q546.567 73.7508 542.435 69.8619 Q538.343 65.9325 538.343 59.3701 Q538.343 51.7138 543.448 47.825 Q548.592 43.9361 558.76 43.9361 L569.211 43.9361 L569.211 43.2069 Q569.211 38.0623 565.809 35.2672 Q562.446 32.4315 556.329 32.4315 Q552.441 32.4315 548.754 33.3632 Q545.068 34.295 541.665 36.1584 L541.665 29.2718 Q545.757 27.692 549.605 26.9223 Q553.453 26.1121 557.099 26.1121 Q566.943 26.1121 571.804 31.2163 Q576.665 36.3204 576.665 46.6907 Z\" fill=\"#000000\" fill-rule=\"nonzero\" fill-opacity=\"1\" /><path clip-path=\"url(#clip550)\" d=\"M621.873 49.3643 Q621.873 41.2625 618.511 36.8065 Q615.189 32.3505 609.153 32.3505 Q603.158 32.3505 599.796 36.8065 Q596.474 41.2625 596.474 49.3643 Q596.474 57.4256 599.796 61.8816 Q603.158 66.3376 609.153 66.3376 Q615.189 66.3376 618.511 61.8816 Q621.873 57.4256 621.873 49.3643 M629.327 66.9452 Q629.327 78.5308 624.182 84.1616 Q619.037 89.8329 608.424 89.8329 Q604.495 89.8329 601.011 89.2252 Q597.527 88.6581 594.246 87.4428 L594.246 80.1917 Q597.527 81.9741 600.727 82.8248 Q603.928 83.6755 607.249 83.6755 Q614.581 83.6755 618.227 79.8271 Q621.873 76.0193 621.873 68.282 L621.873 64.5957 Q619.564 68.6061 615.959 70.5911 Q612.353 72.576 607.33 72.576 Q598.985 72.576 593.881 66.2161 Q588.777 59.8562 588.777 49.3643 Q588.777 38.832 593.881 32.472 Q598.985 26.1121 607.33 26.1121 Q612.353 26.1121 615.959 28.0971 Q619.564 30.082 621.873 34.0924 L621.873 27.2059 L629.327 27.2059 L629.327 66.9452 Z\" fill=\"#000000\" fill-rule=\"nonzero\" fill-opacity=\"1\" /><path clip-path=\"url(#clip550)\" d=\"M683.487 48.0275 L683.487 51.6733 L649.217 51.6733 Q649.703 59.3701 653.835 63.421 Q658.007 67.4314 665.42 67.4314 Q669.714 67.4314 673.725 66.3781 Q677.776 65.3249 681.745 63.2184 L681.745 70.267 Q677.735 71.9684 673.522 72.8596 Q669.309 73.7508 664.975 73.7508 Q654.118 73.7508 647.758 67.4314 Q641.439 61.1119 641.439 50.3365 Q641.439 39.1965 647.434 32.6746 Q653.47 26.1121 663.678 26.1121 Q672.833 26.1121 678.14 32.0264 Q683.487 37.9003 683.487 48.0275 M676.034 45.84 Q675.953 39.7232 672.59 36.0774 Q669.269 32.4315 663.759 32.4315 Q657.521 32.4315 653.754 35.9558 Q650.027 39.4801 649.46 45.8805 L676.034 45.84 Z\" fill=\"#000000\" fill-rule=\"nonzero\" fill-opacity=\"1\" /><path clip-path=\"url(#clip550)\" d=\"M730.599 18.8205 L730.599 65.8515 L740.484 65.8515 Q753.001 65.8515 758.794 60.1802 Q764.627 54.509 764.627 42.2752 Q764.627 30.1225 758.794 24.4918 Q753.001 18.8205 740.484 18.8205 L730.599 18.8205 M722.417 12.096 L739.228 12.096 Q756.809 12.096 765.032 19.4281 Q773.255 26.7198 773.255 42.2752 Q773.255 57.9117 764.992 65.2439 Q756.728 72.576 739.228 72.576 L722.417 72.576 L722.417 12.096 Z\" fill=\"#000000\" fill-rule=\"nonzero\" fill-opacity=\"1\" /><path clip-path=\"url(#clip550)\" d=\"M824.783 48.0275 L824.783 51.6733 L790.512 51.6733 Q790.998 59.3701 795.13 63.421 Q799.303 67.4314 806.716 67.4314 Q811.01 67.4314 815.02 66.3781 Q819.071 65.3249 823.041 63.2184 L823.041 70.267 Q819.031 71.9684 814.818 72.8596 Q810.605 73.7508 806.27 73.7508 Q795.414 73.7508 789.054 67.4314 Q782.735 61.1119 782.735 50.3365 Q782.735 39.1965 788.73 32.6746 Q794.766 26.1121 804.974 26.1121 Q814.129 26.1121 819.436 32.0264 Q824.783 37.9003 824.783 48.0275 M817.329 45.84 Q817.248 39.7232 813.886 36.0774 Q810.564 32.4315 805.055 32.4315 Q798.817 32.4315 795.049 35.9558 Q791.322 39.4801 790.755 45.8805 L817.329 45.84 Z\" fill=\"#000000\" fill-rule=\"nonzero\" fill-opacity=\"1\" /><path clip-path=\"url(#clip550)\" d=\"M874.731 45.1919 L874.731 72.576 L867.277 72.576 L867.277 45.4349 Q867.277 38.994 864.765 35.7938 Q862.254 32.5936 857.231 32.5936 Q851.195 32.5936 847.711 36.4419 Q844.227 40.2903 844.227 46.9338 L844.227 72.576 L836.733 72.576 L836.733 27.2059 L844.227 27.2059 L844.227 34.2544 Q846.901 30.163 850.506 28.1376 Q854.152 26.1121 858.892 26.1121 Q866.71 26.1121 870.72 30.9732 Q874.731 35.7938 874.731 45.1919 Z\" fill=\"#000000\" fill-rule=\"nonzero\" fill-opacity=\"1\" /><path clip-path=\"url(#clip550)\" d=\"M907.178 32.4315 Q901.183 32.4315 897.699 37.1306 Q894.215 41.7891 894.215 49.9314 Q894.215 58.0738 897.659 62.7728 Q901.142 67.4314 907.178 67.4314 Q913.133 67.4314 916.617 62.7323 Q920.101 58.0333 920.101 49.9314 Q920.101 41.8701 916.617 37.1711 Q913.133 32.4315 907.178 32.4315 M907.178 26.1121 Q916.9 26.1121 922.45 32.4315 Q928 38.7509 928 49.9314 Q928 61.0714 922.45 67.4314 Q916.9 73.7508 907.178 73.7508 Q897.416 73.7508 891.866 67.4314 Q886.357 61.0714 886.357 49.9314 Q886.357 38.7509 891.866 32.4315 Q897.416 26.1121 907.178 26.1121 Z\" fill=\"#000000\" fill-rule=\"nonzero\" fill-opacity=\"1\" /><path clip-path=\"url(#clip550)\" d=\"M940.355 27.2059 L947.809 27.2059 L947.809 72.576 L940.355 72.576 L940.355 27.2059 M940.355 9.54393 L947.809 9.54393 L947.809 18.9825 L940.355 18.9825 L940.355 9.54393 Z\" fill=\"#000000\" fill-rule=\"nonzero\" fill-opacity=\"1\" /><path clip-path=\"url(#clip550)\" d=\"M992.328 28.5427 L992.328 35.5912 Q989.169 33.9709 985.766 33.1607 Q982.363 32.3505 978.717 32.3505 Q973.168 32.3505 970.372 34.0519 Q967.618 35.7533 967.618 39.156 Q967.618 41.7486 969.603 43.2475 Q971.588 44.7058 977.583 46.0426 L980.135 46.6097 Q988.075 48.3111 991.397 51.4303 Q994.759 54.509 994.759 60.0587 Q994.759 66.3781 989.736 70.0644 Q984.753 73.7508 976.003 73.7508 Q972.357 73.7508 968.387 73.0216 Q964.458 72.3329 960.083 70.9151 L960.083 63.2184 Q964.215 65.3654 968.225 66.4591 Q972.236 67.5124 976.165 67.5124 Q981.431 67.5124 984.267 65.73 Q987.103 63.9071 987.103 60.6258 Q987.103 57.5877 985.037 55.9673 Q983.011 54.3469 976.084 52.8481 L973.492 52.2405 Q966.565 50.7821 963.486 47.7845 Q960.407 44.7463 960.407 39.4801 Q960.407 33.0797 964.944 29.5959 Q969.481 26.1121 977.826 26.1121 Q981.958 26.1121 985.604 26.7198 Q989.25 27.3274 992.328 28.5427 Z\" fill=\"#000000\" fill-rule=\"nonzero\" fill-opacity=\"1\" /><path clip-path=\"url(#clip550)\" d=\"M1006.63 27.2059 L1014.08 27.2059 L1014.08 72.576 L1006.63 72.576 L1006.63 27.2059 M1006.63 9.54393 L1014.08 9.54393 L1014.08 18.9825 L1006.63 18.9825 L1006.63 9.54393 Z\" fill=\"#000000\" fill-rule=\"nonzero\" fill-opacity=\"1\" /><path clip-path=\"url(#clip550)\" d=\"M1067.39 45.1919 L1067.39 72.576 L1059.94 72.576 L1059.94 45.4349 Q1059.94 38.994 1057.43 35.7938 Q1054.91 32.5936 1049.89 32.5936 Q1043.86 32.5936 1040.37 36.4419 Q1036.89 40.2903 1036.89 46.9338 L1036.89 72.576 L1029.39 72.576 L1029.39 27.2059 L1036.89 27.2059 L1036.89 34.2544 Q1039.56 30.163 1043.17 28.1376 Q1046.81 26.1121 1051.55 26.1121 Q1059.37 26.1121 1063.38 30.9732 Q1067.39 35.7938 1067.39 45.1919 Z\" fill=\"#000000\" fill-rule=\"nonzero\" fill-opacity=\"1\" /><path clip-path=\"url(#clip550)\" d=\"M1112.11 49.3643 Q1112.11 41.2625 1108.75 36.8065 Q1105.43 32.3505 1099.39 32.3505 Q1093.4 32.3505 1090.04 36.8065 Q1086.71 41.2625 1086.71 49.3643 Q1086.71 57.4256 1090.04 61.8816 Q1093.4 66.3376 1099.39 66.3376 Q1105.43 66.3376 1108.75 61.8816 Q1112.11 57.4256 1112.11 49.3643 M1119.57 66.9452 Q1119.57 78.5308 1114.42 84.1616 Q1109.28 89.8329 1098.66 89.8329 Q1094.74 89.8329 1091.25 89.2252 Q1087.77 88.6581 1084.49 87.4428 L1084.49 80.1917 Q1087.77 81.9741 1090.97 82.8248 Q1094.17 83.6755 1097.49 83.6755 Q1104.82 83.6755 1108.47 79.8271 Q1112.11 76.0193 1112.11 68.282 L1112.11 64.5957 Q1109.8 68.6061 1106.2 70.5911 Q1102.59 72.576 1097.57 72.576 Q1089.23 72.576 1084.12 66.2161 Q1079.02 59.8562 1079.02 49.3643 Q1079.02 38.832 1084.12 32.472 Q1089.23 26.1121 1097.57 26.1121 Q1102.59 26.1121 1106.2 28.0971 Q1109.8 30.082 1112.11 34.0924 L1112.11 27.2059 L1119.57 27.2059 L1119.57 66.9452 Z\" fill=\"#000000\" fill-rule=\"nonzero\" fill-opacity=\"1\" /><path clip-path=\"url(#clip550)\" d=\"M1186.16 17.6457 Q1177.25 17.6457 1171.99 24.2892 Q1166.76 30.9327 1166.76 42.3968 Q1166.76 53.8203 1171.99 60.4638 Q1177.25 67.1073 1186.16 67.1073 Q1195.08 67.1073 1200.26 60.4638 Q1205.49 53.8203 1205.49 42.3968 Q1205.49 30.9327 1200.26 24.2892 Q1195.08 17.6457 1186.16 17.6457 M1186.16 11.0023 Q1198.88 11.0023 1206.5 19.5497 Q1214.12 28.0566 1214.12 42.3968 Q1214.12 56.6965 1206.5 65.2439 Q1198.88 73.7508 1186.16 73.7508 Q1173.4 73.7508 1165.75 65.2439 Q1158.13 56.737 1158.13 42.3968 Q1158.13 28.0566 1165.75 19.5497 Q1173.4 11.0023 1186.16 11.0023 Z\" fill=\"#000000\" fill-rule=\"nonzero\" fill-opacity=\"1\" /><path clip-path=\"url(#clip550)\" d=\"M1233.8 65.7705 L1233.8 89.8329 L1226.31 89.8329 L1226.31 27.2059 L1233.8 27.2059 L1233.8 34.0924 Q1236.15 30.0415 1239.72 28.0971 Q1243.32 26.1121 1248.3 26.1121 Q1256.57 26.1121 1261.71 32.6746 Q1266.9 39.2371 1266.9 49.9314 Q1266.9 60.6258 1261.71 67.1883 Q1256.57 73.7508 1248.3 73.7508 Q1243.32 73.7508 1239.72 71.8063 Q1236.15 69.8214 1233.8 65.7705 M1259.16 49.9314 Q1259.16 41.7081 1255.76 37.0496 Q1252.4 32.3505 1246.48 32.3505 Q1240.57 32.3505 1237.16 37.0496 Q1233.8 41.7081 1233.8 49.9314 Q1233.8 58.1548 1237.16 62.8538 Q1240.57 67.5124 1246.48 67.5124 Q1252.4 67.5124 1255.76 62.8538 Q1259.16 58.1548 1259.16 49.9314 Z\" fill=\"#000000\" fill-rule=\"nonzero\" fill-opacity=\"1\" /><path clip-path=\"url(#clip550)\" d=\"M1286.63 14.324 L1286.63 27.2059 L1301.98 27.2059 L1301.98 32.9987 L1286.63 32.9987 L1286.63 57.6282 Q1286.63 63.1779 1288.13 64.7578 Q1289.66 66.3376 1294.32 66.3376 L1301.98 66.3376 L1301.98 72.576 L1294.32 72.576 Q1285.69 72.576 1282.41 69.3758 Q1279.13 66.1351 1279.13 57.6282 L1279.13 32.9987 L1273.66 32.9987 L1273.66 27.2059 L1279.13 27.2059 L1279.13 14.324 L1286.63 14.324 Z\" fill=\"#000000\" fill-rule=\"nonzero\" fill-opacity=\"1\" /><path clip-path=\"url(#clip550)\" d=\"M1311.78 27.2059 L1319.24 27.2059 L1319.24 72.576 L1311.78 72.576 L1311.78 27.2059 M1311.78 9.54393 L1319.24 9.54393 L1319.24 18.9825 L1311.78 18.9825 L1311.78 9.54393 Z\" fill=\"#000000\" fill-rule=\"nonzero\" fill-opacity=\"1\" /><path clip-path=\"url(#clip550)\" d=\"M1370.16 35.9153 Q1372.95 30.8922 1376.84 28.5022 Q1380.73 26.1121 1386 26.1121 Q1393.08 26.1121 1396.93 31.0947 Q1400.78 36.0368 1400.78 45.1919 L1400.78 72.576 L1393.29 72.576 L1393.29 45.4349 Q1393.29 38.913 1390.98 35.7533 Q1388.67 32.5936 1383.93 32.5936 Q1378.14 32.5936 1374.77 36.4419 Q1371.41 40.2903 1371.41 46.9338 L1371.41 72.576 L1363.92 72.576 L1363.92 45.4349 Q1363.92 38.8725 1361.61 35.7533 Q1359.3 32.5936 1354.48 32.5936 Q1348.77 32.5936 1345.41 36.4824 Q1342.04 40.3308 1342.04 46.9338 L1342.04 72.576 L1334.55 72.576 L1334.55 27.2059 L1342.04 27.2059 L1342.04 34.2544 Q1344.59 30.082 1348.16 28.0971 Q1351.72 26.1121 1356.63 26.1121 Q1361.57 26.1121 1365.01 28.6237 Q1368.5 31.1352 1370.16 35.9153 Z\" fill=\"#000000\" fill-rule=\"nonzero\" fill-opacity=\"1\" /><path clip-path=\"url(#clip550)\" d=\"M1415.65 27.2059 L1423.1 27.2059 L1423.1 72.576 L1415.65 72.576 L1415.65 27.2059 M1415.65 9.54393 L1423.1 9.54393 L1423.1 18.9825 L1415.65 18.9825 L1415.65 9.54393 Z\" fill=\"#000000\" fill-rule=\"nonzero\" fill-opacity=\"1\" /><path clip-path=\"url(#clip550)\" d=\"M1435.46 27.2059 L1470.86 27.2059 L1470.86 34.0114 L1442.83 66.6212 L1470.86 66.6212 L1470.86 72.576 L1434.44 72.576 L1434.44 65.7705 L1462.48 33.1607 L1435.46 33.1607 L1435.46 27.2059 Z\" fill=\"#000000\" fill-rule=\"nonzero\" fill-opacity=\"1\" /><path clip-path=\"url(#clip550)\" d=\"M1482.24 27.2059 L1489.7 27.2059 L1489.7 72.576 L1482.24 72.576 L1482.24 27.2059 M1482.24 9.54393 L1489.7 9.54393 L1489.7 18.9825 L1482.24 18.9825 L1482.24 9.54393 Z\" fill=\"#000000\" fill-rule=\"nonzero\" fill-opacity=\"1\" /><path clip-path=\"url(#clip550)\" d=\"M1543.01 45.1919 L1543.01 72.576 L1535.55 72.576 L1535.55 45.4349 Q1535.55 38.994 1533.04 35.7938 Q1530.53 32.5936 1525.51 32.5936 Q1519.47 32.5936 1515.99 36.4419 Q1512.5 40.2903 1512.5 46.9338 L1512.5 72.576 L1505.01 72.576 L1505.01 27.2059 L1512.5 27.2059 L1512.5 34.2544 Q1515.18 30.163 1518.78 28.1376 Q1522.43 26.1121 1527.17 26.1121 Q1534.99 26.1121 1539 30.9732 Q1543.01 35.7938 1543.01 45.1919 Z\" fill=\"#000000\" fill-rule=\"nonzero\" fill-opacity=\"1\" /><path clip-path=\"url(#clip550)\" d=\"M1587.73 49.3643 Q1587.73 41.2625 1584.37 36.8065 Q1581.05 32.3505 1575.01 32.3505 Q1569.02 32.3505 1565.65 36.8065 Q1562.33 41.2625 1562.33 49.3643 Q1562.33 57.4256 1565.65 61.8816 Q1569.02 66.3376 1575.01 66.3376 Q1581.05 66.3376 1584.37 61.8816 Q1587.73 57.4256 1587.73 49.3643 M1595.18 66.9452 Q1595.18 78.5308 1590.04 84.1616 Q1584.89 89.8329 1574.28 89.8329 Q1570.35 89.8329 1566.87 89.2252 Q1563.38 88.6581 1560.1 87.4428 L1560.1 80.1917 Q1563.38 81.9741 1566.58 82.8248 Q1569.78 83.6755 1573.11 83.6755 Q1580.44 83.6755 1584.08 79.8271 Q1587.73 76.0193 1587.73 68.282 L1587.73 64.5957 Q1585.42 68.6061 1581.82 70.5911 Q1578.21 72.576 1573.19 72.576 Q1564.84 72.576 1559.74 66.2161 Q1554.63 59.8562 1554.63 49.3643 Q1554.63 38.832 1559.74 32.472 Q1564.84 26.1121 1573.19 26.1121 Q1578.21 26.1121 1581.82 28.0971 Q1585.42 30.082 1587.73 34.0924 L1587.73 27.2059 L1595.18 27.2059 L1595.18 66.9452 Z\" fill=\"#000000\" fill-rule=\"nonzero\" fill-opacity=\"1\" /><path clip-path=\"url(#clip550)\" d=\"M1682.52 16.7545 L1682.52 25.383 Q1678.39 21.5346 1673.69 19.6307 Q1669.03 17.7268 1663.77 17.7268 Q1653.4 17.7268 1647.89 24.0867 Q1642.38 30.4061 1642.38 42.3968 Q1642.38 54.3469 1647.89 60.7069 Q1653.4 67.0263 1663.77 67.0263 Q1669.03 67.0263 1673.69 65.1223 Q1678.39 63.2184 1682.52 59.3701 L1682.52 67.9175 Q1678.23 70.8341 1673.41 72.2924 Q1668.63 73.7508 1663.28 73.7508 Q1649.55 73.7508 1641.65 65.3654 Q1633.75 56.9395 1633.75 42.3968 Q1633.75 27.8135 1641.65 19.4281 Q1649.55 11.0023 1663.28 11.0023 Q1668.71 11.0023 1673.49 12.4606 Q1678.31 13.8784 1682.52 16.7545 Z\" fill=\"#000000\" fill-rule=\"nonzero\" fill-opacity=\"1\" /><path clip-path=\"url(#clip550)\" d=\"M1712.42 32.4315 Q1706.42 32.4315 1702.94 37.1306 Q1699.45 41.7891 1699.45 49.9314 Q1699.45 58.0738 1702.9 62.7728 Q1706.38 67.4314 1712.42 67.4314 Q1718.37 67.4314 1721.86 62.7323 Q1725.34 58.0333 1725.34 49.9314 Q1725.34 41.8701 1721.86 37.1711 Q1718.37 32.4315 1712.42 32.4315 M1712.42 26.1121 Q1722.14 26.1121 1727.69 32.4315 Q1733.24 38.7509 1733.24 49.9314 Q1733.24 61.0714 1727.69 67.4314 Q1722.14 73.7508 1712.42 73.7508 Q1702.65 73.7508 1697.1 67.4314 Q1691.6 61.0714 1691.6 49.9314 Q1691.6 38.7509 1697.1 32.4315 Q1702.65 26.1121 1712.42 26.1121 Z\" fill=\"#000000\" fill-rule=\"nonzero\" fill-opacity=\"1\" /><path clip-path=\"url(#clip550)\" d=\"M1780.92 35.9153 Q1783.71 30.8922 1787.6 28.5022 Q1791.49 26.1121 1796.76 26.1121 Q1803.85 26.1121 1807.69 31.0947 Q1811.54 36.0368 1811.54 45.1919 L1811.54 72.576 L1804.05 72.576 L1804.05 45.4349 Q1804.05 38.913 1801.74 35.7533 Q1799.43 32.5936 1794.69 32.5936 Q1788.9 32.5936 1785.54 36.4419 Q1782.17 40.2903 1782.17 46.9338 L1782.17 72.576 L1774.68 72.576 L1774.68 45.4349 Q1774.68 38.8725 1772.37 35.7533 Q1770.06 32.5936 1765.24 32.5936 Q1759.53 32.5936 1756.17 36.4824 Q1752.8 40.3308 1752.8 46.9338 L1752.8 72.576 L1745.31 72.576 L1745.31 27.2059 L1752.8 27.2059 L1752.8 34.2544 Q1755.36 30.082 1758.92 28.0971 Q1762.49 26.1121 1767.39 26.1121 Q1772.33 26.1121 1775.77 28.6237 Q1779.26 31.1352 1780.92 35.9153 Z\" fill=\"#000000\" fill-rule=\"nonzero\" fill-opacity=\"1\" /><path clip-path=\"url(#clip550)\" d=\"M1833.62 65.7705 L1833.62 89.8329 L1826.13 89.8329 L1826.13 27.2059 L1833.62 27.2059 L1833.62 34.0924 Q1835.97 30.0415 1839.53 28.0971 Q1843.14 26.1121 1848.12 26.1121 Q1856.39 26.1121 1861.53 32.6746 Q1866.72 39.2371 1866.72 49.9314 Q1866.72 60.6258 1861.53 67.1883 Q1856.39 73.7508 1848.12 73.7508 Q1843.14 73.7508 1839.53 71.8063 Q1835.97 69.8214 1833.62 65.7705 M1858.98 49.9314 Q1858.98 41.7081 1855.58 37.0496 Q1852.21 32.3505 1846.3 32.3505 Q1840.39 32.3505 1836.98 37.0496 Q1833.62 41.7081 1833.62 49.9314 Q1833.62 58.1548 1836.98 62.8538 Q1840.39 67.5124 1846.3 67.5124 Q1852.21 67.5124 1855.58 62.8538 Q1858.98 58.1548 1858.98 49.9314 Z\" fill=\"#000000\" fill-rule=\"nonzero\" fill-opacity=\"1\" /><path clip-path=\"url(#clip550)\" d=\"M1899.69 49.7694 Q1890.66 49.7694 1887.17 51.8354 Q1883.69 53.9013 1883.69 58.8839 Q1883.69 62.8538 1886.28 65.2034 Q1888.91 67.5124 1893.41 67.5124 Q1899.61 67.5124 1903.34 63.1374 Q1907.1 58.7219 1907.1 51.4303 L1907.1 49.7694 L1899.69 49.7694 M1914.56 46.6907 L1914.56 72.576 L1907.1 72.576 L1907.1 65.6895 Q1904.55 69.8214 1900.74 71.8063 Q1896.94 73.7508 1891.43 73.7508 Q1884.46 73.7508 1880.33 69.8619 Q1876.24 65.9325 1876.24 59.3701 Q1876.24 51.7138 1881.34 47.825 Q1886.48 43.9361 1896.65 43.9361 L1907.1 43.9361 L1907.1 43.2069 Q1907.1 38.0623 1903.7 35.2672 Q1900.34 32.4315 1894.22 32.4315 Q1890.33 32.4315 1886.65 33.3632 Q1882.96 34.295 1879.56 36.1584 L1879.56 29.2718 Q1883.65 27.692 1887.5 26.9223 Q1891.35 26.1121 1894.99 26.1121 Q1904.83 26.1121 1909.7 31.2163 Q1914.56 36.3204 1914.56 46.6907 Z\" fill=\"#000000\" fill-rule=\"nonzero\" fill-opacity=\"1\" /><path clip-path=\"url(#clip550)\" d=\"M1956.2 34.1734 Q1954.94 33.4443 1953.45 33.1202 Q1951.99 32.7556 1950.21 32.7556 Q1943.89 32.7556 1940.48 36.8875 Q1937.12 40.9789 1937.12 48.6757 L1937.12 72.576 L1929.63 72.576 L1929.63 27.2059 L1937.12 27.2059 L1937.12 34.2544 Q1939.47 30.1225 1943.24 28.1376 Q1947 26.1121 1952.39 26.1121 Q1953.16 26.1121 1954.09 26.2337 Q1955.03 26.3147 1956.16 26.5172 L1956.2 34.1734 Z\" fill=\"#000000\" fill-rule=\"nonzero\" fill-opacity=\"1\" /><path clip-path=\"url(#clip550)\" d=\"M1964.02 27.2059 L1971.47 27.2059 L1971.47 72.576 L1964.02 72.576 L1964.02 27.2059 M1964.02 9.54393 L1971.47 9.54393 L1971.47 18.9825 L1964.02 18.9825 L1964.02 9.54393 Z\" fill=\"#000000\" fill-rule=\"nonzero\" fill-opacity=\"1\" /><path clip-path=\"url(#clip550)\" d=\"M2015.99 28.5427 L2015.99 35.5912 Q2012.83 33.9709 2009.43 33.1607 Q2006.03 32.3505 2002.38 32.3505 Q1996.83 32.3505 1994.04 34.0519 Q1991.28 35.7533 1991.28 39.156 Q1991.28 41.7486 1993.27 43.2475 Q1995.25 44.7058 2001.25 46.0426 L2003.8 46.6097 Q2011.74 48.3111 2015.06 51.4303 Q2018.42 54.509 2018.42 60.0587 Q2018.42 66.3781 2013.4 70.0644 Q2008.42 73.7508 1999.67 73.7508 Q1996.02 73.7508 1992.05 73.0216 Q1988.12 72.3329 1983.75 70.9151 L1983.75 63.2184 Q1987.88 65.3654 1991.89 66.4591 Q1995.9 67.5124 1999.83 67.5124 Q2005.09 67.5124 2007.93 65.73 Q2010.77 63.9071 2010.77 60.6258 Q2010.77 57.5877 2008.7 55.9673 Q2006.67 54.3469 1999.75 52.8481 L1997.16 52.2405 Q1990.23 50.7821 1987.15 47.7845 Q1984.07 44.7463 1984.07 39.4801 Q1984.07 33.0797 1988.61 29.5959 Q1993.14 26.1121 2001.49 26.1121 Q2005.62 26.1121 2009.27 26.7198 Q2012.91 27.3274 2015.99 28.5427 Z\" fill=\"#000000\" fill-rule=\"nonzero\" fill-opacity=\"1\" /><path clip-path=\"url(#clip550)\" d=\"M2047.87 32.4315 Q2041.88 32.4315 2038.39 37.1306 Q2034.91 41.7891 2034.91 49.9314 Q2034.91 58.0738 2038.35 62.7728 Q2041.84 67.4314 2047.87 67.4314 Q2053.83 67.4314 2057.31 62.7323 Q2060.79 58.0333 2060.79 49.9314 Q2060.79 41.8701 2057.31 37.1711 Q2053.83 32.4315 2047.87 32.4315 M2047.87 26.1121 Q2057.59 26.1121 2063.14 32.4315 Q2068.69 38.7509 2068.69 49.9314 Q2068.69 61.0714 2063.14 67.4314 Q2057.59 73.7508 2047.87 73.7508 Q2038.11 73.7508 2032.56 67.4314 Q2027.05 61.0714 2027.05 49.9314 Q2027.05 38.7509 2032.56 32.4315 Q2038.11 26.1121 2047.87 26.1121 Z\" fill=\"#000000\" fill-rule=\"nonzero\" fill-opacity=\"1\" /><path clip-path=\"url(#clip550)\" d=\"M2118.76 45.1919 L2118.76 72.576 L2111.31 72.576 L2111.31 45.4349 Q2111.31 38.994 2108.8 35.7938 Q2106.29 32.5936 2101.26 32.5936 Q2095.23 32.5936 2091.74 36.4419 Q2088.26 40.2903 2088.26 46.9338 L2088.26 72.576 L2080.77 72.576 L2080.77 27.2059 L2088.26 27.2059 L2088.26 34.2544 Q2090.93 30.163 2094.54 28.1376 Q2098.18 26.1121 2102.92 26.1121 Q2110.74 26.1121 2114.75 30.9732 Q2118.76 35.7938 2118.76 45.1919 Z\" fill=\"#000000\" fill-rule=\"nonzero\" fill-opacity=\"1\" /><path clip-path=\"url(#clip552)\" d=\"M320.51 123.472 L320.51 1423.18 L723.45 1423.18 L723.45 123.472 L320.51 123.472 L320.51 123.472  Z\" fill=\"#0000ff\" fill-rule=\"evenodd\" fill-opacity=\"1\"/>\n",
       "<polyline clip-path=\"url(#clip552)\" style=\"stroke:#000000; stroke-linecap:round; stroke-linejoin:round; stroke-width:4; stroke-opacity:1; fill:none\" points=\"320.51,123.472 320.51,1423.18 723.45,1423.18 723.45,123.472 320.51,123.472 \"/>\n",
       "<path clip-path=\"url(#clip552)\" d=\"M824.185 1091.56 L824.185 1423.18 L1227.12 1423.18 L1227.12 1091.56 L824.185 1091.56 L824.185 1091.56  Z\" fill=\"#ffa500\" fill-rule=\"evenodd\" fill-opacity=\"1\"/>\n",
       "<polyline clip-path=\"url(#clip552)\" style=\"stroke:#000000; stroke-linecap:round; stroke-linejoin:round; stroke-width:4; stroke-opacity:1; fill:none\" points=\"824.185,1091.56 824.185,1423.18 1227.12,1423.18 1227.12,1091.56 824.185,1091.56 \"/>\n",
       "<path clip-path=\"url(#clip552)\" d=\"M1327.86 1126.02 L1327.86 1423.18 L1730.8 1423.18 L1730.8 1126.02 L1327.86 1126.02 L1327.86 1126.02  Z\" fill=\"#0000ff\" fill-rule=\"evenodd\" fill-opacity=\"1\"/>\n",
       "<polyline clip-path=\"url(#clip552)\" style=\"stroke:#000000; stroke-linecap:round; stroke-linejoin:round; stroke-width:4; stroke-opacity:1; fill:none\" points=\"1327.86,1126.02 1327.86,1423.18 1730.8,1423.18 1730.8,1126.02 1327.86,1126.02 \"/>\n",
       "<path clip-path=\"url(#clip552)\" d=\"M1831.53 1141.37 L1831.53 1423.18 L2234.47 1423.18 L2234.47 1141.37 L1831.53 1141.37 L1831.53 1141.37  Z\" fill=\"#ffa500\" fill-rule=\"evenodd\" fill-opacity=\"1\"/>\n",
       "<polyline clip-path=\"url(#clip552)\" style=\"stroke:#000000; stroke-linecap:round; stroke-linejoin:round; stroke-width:4; stroke-opacity:1; fill:none\" points=\"1831.53,1141.37 1831.53,1423.18 2234.47,1423.18 2234.47,1141.37 1831.53,1141.37 \"/>\n",
       "<circle clip-path=\"url(#clip552)\" style=\"fill:#009af9; stroke:none; fill-opacity:0\" cx=\"521.98\" cy=\"123.472\" r=\"2\"/>\n",
       "<circle clip-path=\"url(#clip552)\" style=\"fill:#009af9; stroke:none; fill-opacity:0\" cx=\"1025.65\" cy=\"1091.56\" r=\"2\"/>\n",
       "<circle clip-path=\"url(#clip552)\" style=\"fill:#009af9; stroke:none; fill-opacity:0\" cx=\"1529.33\" cy=\"1126.02\" r=\"2\"/>\n",
       "<circle clip-path=\"url(#clip552)\" style=\"fill:#009af9; stroke:none; fill-opacity:0\" cx=\"2033\" cy=\"1141.37\" r=\"2\"/>\n",
       "<path clip-path=\"url(#clip550)\" d=\"M2013.59 270.476 L2281.07 270.476 L2281.07 166.796 L2013.59 166.796  Z\" fill=\"#ffffff\" fill-rule=\"evenodd\" fill-opacity=\"1\"/>\n",
       "<polyline clip-path=\"url(#clip550)\" style=\"stroke:#000000; stroke-linecap:round; stroke-linejoin:round; stroke-width:4; stroke-opacity:1; fill:none\" points=\"2013.59,270.476 2281.07,270.476 2281.07,166.796 2013.59,166.796 2013.59,270.476 \"/>\n",
       "<path clip-path=\"url(#clip550)\" d=\"M2037.48 239.372 L2180.85 239.372 L2180.85 197.9 L2037.48 197.9 L2037.48 239.372  Z\" fill=\"#0000ff\" fill-rule=\"evenodd\" fill-opacity=\"1\"/>\n",
       "<polyline clip-path=\"url(#clip550)\" style=\"stroke:#000000; stroke-linecap:round; stroke-linejoin:round; stroke-width:4; stroke-opacity:1; fill:none\" points=\"2037.48,239.372 2180.85,239.372 2180.85,197.9 2037.48,197.9 2037.48,239.372 \"/>\n",
       "<path clip-path=\"url(#clip550)\" d=\"M2218.59 238.323 Q2216.78 242.953 2215.07 244.365 Q2213.36 245.777 2210.49 245.777 L2207.08 245.777 L2207.08 242.212 L2209.58 242.212 Q2211.34 242.212 2212.32 241.379 Q2213.29 240.545 2214.47 237.443 L2215.23 235.499 L2204.75 209.99 L2209.26 209.99 L2217.36 230.268 L2225.46 209.99 L2229.98 209.99 L2218.59 238.323 Z\" fill=\"#000000\" fill-rule=\"nonzero\" fill-opacity=\"1\" /><path clip-path=\"url(#clip550)\" d=\"M2237.27 231.981 L2244.91 231.981 L2244.91 205.615 L2236.6 207.282 L2236.6 203.022 L2244.86 201.356 L2249.54 201.356 L2249.54 231.981 L2257.18 231.981 L2257.18 235.916 L2237.27 235.916 L2237.27 231.981 Z\" fill=\"#000000\" fill-rule=\"nonzero\" fill-opacity=\"1\" /></svg>\n"
      ],
      "text/html": [
       "<?xml version=\"1.0\" encoding=\"utf-8\"?>\n",
       "<svg xmlns=\"http://www.w3.org/2000/svg\" xmlns:xlink=\"http://www.w3.org/1999/xlink\" width=\"600\" height=\"400\" viewBox=\"0 0 2400 1600\">\n",
       "<defs>\n",
       "  <clipPath id=\"clip600\">\n",
       "    <rect x=\"0\" y=\"0\" width=\"2400\" height=\"1600\"/>\n",
       "  </clipPath>\n",
       "</defs>\n",
       "<path clip-path=\"url(#clip600)\" d=\"M0 1600 L2400 1600 L2400 0 L0 0  Z\" fill=\"#ffffff\" fill-rule=\"evenodd\" fill-opacity=\"1\"/>\n",
       "<defs>\n",
       "  <clipPath id=\"clip601\">\n",
       "    <rect x=\"480\" y=\"0\" width=\"1681\" height=\"1600\"/>\n",
       "  </clipPath>\n",
       "</defs>\n",
       "<path clip-path=\"url(#clip600)\" d=\"M202.227 1423.18 L2352.76 1423.18 L2352.76 123.472 L202.227 123.472  Z\" fill=\"#ffffff\" fill-rule=\"evenodd\" fill-opacity=\"1\"/>\n",
       "<defs>\n",
       "  <clipPath id=\"clip602\">\n",
       "    <rect x=\"202\" y=\"123\" width=\"2152\" height=\"1301\"/>\n",
       "  </clipPath>\n",
       "</defs>\n",
       "<polyline clip-path=\"url(#clip602)\" style=\"stroke:#000000; stroke-linecap:round; stroke-linejoin:round; stroke-width:2; stroke-opacity:0.1; fill:none\" points=\"521.98,1423.18 521.98,123.472 \"/>\n",
       "<polyline clip-path=\"url(#clip602)\" style=\"stroke:#000000; stroke-linecap:round; stroke-linejoin:round; stroke-width:2; stroke-opacity:0.1; fill:none\" points=\"1025.65,1423.18 1025.65,123.472 \"/>\n",
       "<polyline clip-path=\"url(#clip602)\" style=\"stroke:#000000; stroke-linecap:round; stroke-linejoin:round; stroke-width:2; stroke-opacity:0.1; fill:none\" points=\"1529.33,1423.18 1529.33,123.472 \"/>\n",
       "<polyline clip-path=\"url(#clip602)\" style=\"stroke:#000000; stroke-linecap:round; stroke-linejoin:round; stroke-width:2; stroke-opacity:0.1; fill:none\" points=\"2033,1423.18 2033,123.472 \"/>\n",
       "<polyline clip-path=\"url(#clip600)\" style=\"stroke:#000000; stroke-linecap:round; stroke-linejoin:round; stroke-width:4; stroke-opacity:1; fill:none\" points=\"202.227,1423.18 2352.76,1423.18 \"/>\n",
       "<polyline clip-path=\"url(#clip600)\" style=\"stroke:#000000; stroke-linecap:round; stroke-linejoin:round; stroke-width:4; stroke-opacity:1; fill:none\" points=\"521.98,1423.18 521.98,1404.28 \"/>\n",
       "<polyline clip-path=\"url(#clip600)\" style=\"stroke:#000000; stroke-linecap:round; stroke-linejoin:round; stroke-width:4; stroke-opacity:1; fill:none\" points=\"1025.65,1423.18 1025.65,1404.28 \"/>\n",
       "<polyline clip-path=\"url(#clip600)\" style=\"stroke:#000000; stroke-linecap:round; stroke-linejoin:round; stroke-width:4; stroke-opacity:1; fill:none\" points=\"1529.33,1423.18 1529.33,1404.28 \"/>\n",
       "<polyline clip-path=\"url(#clip600)\" style=\"stroke:#000000; stroke-linecap:round; stroke-linejoin:round; stroke-width:4; stroke-opacity:1; fill:none\" points=\"2033,1423.18 2033,1404.28 \"/>\n",
       "<path clip-path=\"url(#clip600)\" d=\"M342.826 1460.42 L342.826 1464.45 Q341.02 1463.52 339.076 1463.06 Q337.132 1462.59 335.048 1462.59 Q331.877 1462.59 330.28 1463.57 Q328.706 1464.54 328.706 1466.48 Q328.706 1467.96 329.84 1468.82 Q330.974 1469.65 334.4 1470.42 L335.858 1470.74 Q340.395 1471.71 342.294 1473.5 Q344.215 1475.26 344.215 1478.43 Q344.215 1482.04 341.345 1484.14 Q338.497 1486.25 333.497 1486.25 Q331.414 1486.25 329.146 1485.83 Q326.9 1485.44 324.4 1484.63 L324.4 1480.23 Q326.761 1481.46 329.053 1482.08 Q331.345 1482.69 333.59 1482.69 Q336.599 1482.69 338.22 1481.67 Q339.84 1480.63 339.84 1478.75 Q339.84 1477.02 338.659 1476.09 Q337.502 1475.16 333.544 1474.31 L332.062 1473.96 Q328.104 1473.13 326.345 1471.41 Q324.585 1469.68 324.585 1466.67 Q324.585 1463.01 327.178 1461.02 Q329.77 1459.03 334.539 1459.03 Q336.9 1459.03 338.983 1459.38 Q341.067 1459.72 342.826 1460.42 Z\" fill=\"#000000\" fill-rule=\"nonzero\" fill-opacity=\"1\" /><path clip-path=\"url(#clip600)\" d=\"M350.557 1475.35 L350.557 1459.65 L354.817 1459.65 L354.817 1475.19 Q354.817 1478.87 356.252 1480.72 Q357.687 1482.55 360.557 1482.55 Q364.006 1482.55 365.997 1480.35 Q368.011 1478.15 368.011 1474.35 L368.011 1459.65 L372.27 1459.65 L372.27 1485.58 L368.011 1485.58 L368.011 1481.6 Q366.46 1483.96 364.4 1485.12 Q362.363 1486.25 359.655 1486.25 Q355.187 1486.25 352.872 1483.47 Q350.557 1480.7 350.557 1475.35 M361.275 1459.03 L361.275 1459.03 Z\" fill=\"#000000\" fill-rule=\"nonzero\" fill-opacity=\"1\" /><path clip-path=\"url(#clip600)\" d=\"M385.164 1481.69 L385.164 1495.44 L380.881 1495.44 L380.881 1459.65 L385.164 1459.65 L385.164 1463.59 Q386.506 1461.27 388.543 1460.16 Q390.604 1459.03 393.451 1459.03 Q398.173 1459.03 401.113 1462.78 Q404.076 1466.53 404.076 1472.64 Q404.076 1478.75 401.113 1482.5 Q398.173 1486.25 393.451 1486.25 Q390.604 1486.25 388.543 1485.14 Q386.506 1484.01 385.164 1481.69 M399.654 1472.64 Q399.654 1467.94 397.71 1465.28 Q395.789 1462.59 392.409 1462.59 Q389.029 1462.59 387.085 1465.28 Q385.164 1467.94 385.164 1472.64 Q385.164 1477.34 387.085 1480.02 Q389.029 1482.69 392.409 1482.69 Q395.789 1482.69 397.71 1480.02 Q399.654 1477.34 399.654 1472.64 Z\" fill=\"#000000\" fill-rule=\"nonzero\" fill-opacity=\"1\" /><path clip-path=\"url(#clip600)\" d=\"M433.312 1471.55 L433.312 1473.64 L413.728 1473.64 Q414.006 1478.03 416.367 1480.35 Q418.752 1482.64 422.988 1482.64 Q425.441 1482.64 427.733 1482.04 Q430.048 1481.44 432.316 1480.23 L432.316 1484.26 Q430.025 1485.23 427.617 1485.74 Q425.21 1486.25 422.733 1486.25 Q416.529 1486.25 412.895 1482.64 Q409.284 1479.03 409.284 1472.87 Q409.284 1466.51 412.71 1462.78 Q416.159 1459.03 421.992 1459.03 Q427.224 1459.03 430.256 1462.41 Q433.312 1465.77 433.312 1471.55 M429.052 1470.3 Q429.006 1466.81 427.085 1464.72 Q425.187 1462.64 422.039 1462.64 Q418.474 1462.64 416.321 1464.65 Q414.191 1466.67 413.867 1470.33 L429.052 1470.3 Z\" fill=\"#000000\" fill-rule=\"nonzero\" fill-opacity=\"1\" /><path clip-path=\"url(#clip600)\" d=\"M455.325 1463.64 Q454.608 1463.22 453.751 1463.03 Q452.918 1462.83 451.899 1462.83 Q448.288 1462.83 446.344 1465.19 Q444.423 1467.52 444.423 1471.92 L444.423 1485.58 L440.14 1485.58 L440.14 1459.65 L444.423 1459.65 L444.423 1463.68 Q445.765 1461.32 447.918 1460.19 Q450.071 1459.03 453.149 1459.03 Q453.589 1459.03 454.122 1459.1 Q454.654 1459.14 455.302 1459.26 L455.325 1463.64 Z\" fill=\"#000000\" fill-rule=\"nonzero\" fill-opacity=\"1\" /><path clip-path=\"url(#clip600)\" d=\"M456.737 1459.65 L461.251 1459.65 L469.353 1481.41 L477.455 1459.65 L481.969 1459.65 L472.247 1485.58 L466.46 1485.58 L456.737 1459.65 Z\" fill=\"#000000\" fill-rule=\"nonzero\" fill-opacity=\"1\" /><path clip-path=\"url(#clip600)\" d=\"M487.848 1459.65 L492.108 1459.65 L492.108 1485.58 L487.848 1485.58 L487.848 1459.65 M487.848 1449.56 L492.108 1449.56 L492.108 1454.96 L487.848 1454.96 L487.848 1449.56 Z\" fill=\"#000000\" fill-rule=\"nonzero\" fill-opacity=\"1\" /><path clip-path=\"url(#clip600)\" d=\"M517.547 1460.42 L517.547 1464.45 Q515.742 1463.52 513.797 1463.06 Q511.853 1462.59 509.77 1462.59 Q506.598 1462.59 505.001 1463.57 Q503.427 1464.54 503.427 1466.48 Q503.427 1467.96 504.561 1468.82 Q505.695 1469.65 509.121 1470.42 L510.58 1470.74 Q515.117 1471.71 517.015 1473.5 Q518.936 1475.26 518.936 1478.43 Q518.936 1482.04 516.066 1484.14 Q513.219 1486.25 508.219 1486.25 Q506.135 1486.25 503.867 1485.83 Q501.621 1485.44 499.121 1484.63 L499.121 1480.23 Q501.483 1481.46 503.774 1482.08 Q506.066 1482.69 508.311 1482.69 Q511.32 1482.69 512.941 1481.67 Q514.561 1480.63 514.561 1478.75 Q514.561 1477.02 513.381 1476.09 Q512.223 1475.16 508.265 1474.31 L506.783 1473.96 Q502.825 1473.13 501.066 1471.41 Q499.307 1469.68 499.307 1466.67 Q499.307 1463.01 501.899 1461.02 Q504.492 1459.03 509.26 1459.03 Q511.621 1459.03 513.705 1459.38 Q515.788 1459.72 517.547 1460.42 Z\" fill=\"#000000\" fill-rule=\"nonzero\" fill-opacity=\"1\" /><path clip-path=\"url(#clip600)\" d=\"M547.894 1471.55 L547.894 1473.64 L528.311 1473.64 Q528.589 1478.03 530.95 1480.35 Q533.334 1482.64 537.57 1482.64 Q540.024 1482.64 542.316 1482.04 Q544.63 1481.44 546.899 1480.23 L546.899 1484.26 Q544.607 1485.23 542.2 1485.74 Q539.793 1486.25 537.316 1486.25 Q531.112 1486.25 527.478 1482.64 Q523.867 1479.03 523.867 1472.87 Q523.867 1466.51 527.293 1462.78 Q530.742 1459.03 536.575 1459.03 Q541.806 1459.03 544.839 1462.41 Q547.894 1465.77 547.894 1471.55 M543.635 1470.3 Q543.589 1466.81 541.668 1464.72 Q539.769 1462.64 536.621 1462.64 Q533.056 1462.64 530.904 1464.65 Q528.774 1466.67 528.45 1470.33 L543.635 1470.3 Z\" fill=\"#000000\" fill-rule=\"nonzero\" fill-opacity=\"1\" /><path clip-path=\"url(#clip600)\" d=\"M571.945 1463.59 L571.945 1449.56 L576.204 1449.56 L576.204 1485.58 L571.945 1485.58 L571.945 1481.69 Q570.603 1484.01 568.542 1485.14 Q566.505 1486.25 563.635 1486.25 Q558.936 1486.25 555.973 1482.5 Q553.033 1478.75 553.033 1472.64 Q553.033 1466.53 555.973 1462.78 Q558.936 1459.03 563.635 1459.03 Q566.505 1459.03 568.542 1460.16 Q570.603 1461.27 571.945 1463.59 M557.431 1472.64 Q557.431 1477.34 559.353 1480.02 Q561.297 1482.69 564.677 1482.69 Q568.056 1482.69 570.001 1480.02 Q571.945 1477.34 571.945 1472.64 Q571.945 1467.94 570.001 1465.28 Q568.056 1462.59 564.677 1462.59 Q561.297 1462.59 559.353 1465.28 Q557.431 1467.94 557.431 1472.64 Z\" fill=\"#000000\" fill-rule=\"nonzero\" fill-opacity=\"1\" /><path clip-path=\"url(#clip600)\" d=\"M604.908 1469.08 L604.908 1481.74 L612.408 1481.74 Q616.181 1481.74 617.987 1480.19 Q619.815 1478.61 619.815 1475.39 Q619.815 1472.15 617.987 1470.63 Q616.181 1469.08 612.408 1469.08 L604.908 1469.08 M604.908 1454.86 L604.908 1465.28 L611.829 1465.28 Q615.255 1465.28 616.922 1464.01 Q618.612 1462.71 618.612 1460.07 Q618.612 1457.45 616.922 1456.16 Q615.255 1454.86 611.829 1454.86 L604.908 1454.86 M600.232 1451.02 L612.176 1451.02 Q617.524 1451.02 620.417 1453.24 Q623.311 1455.46 623.311 1459.56 Q623.311 1462.73 621.829 1464.61 Q620.348 1466.48 617.477 1466.95 Q620.926 1467.69 622.824 1470.05 Q624.746 1472.39 624.746 1475.9 Q624.746 1480.53 621.598 1483.06 Q618.45 1485.58 612.639 1485.58 L600.232 1485.58 L600.232 1451.02 Z\" fill=\"#000000\" fill-rule=\"nonzero\" fill-opacity=\"1\" /><path clip-path=\"url(#clip600)\" d=\"M632.755 1451.02 L652.616 1451.02 L652.616 1454.96 L637.431 1454.96 L637.431 1465.14 L651.135 1465.14 L651.135 1469.08 L637.431 1469.08 L637.431 1485.58 L632.755 1485.58 L632.755 1451.02 Z\" fill=\"#000000\" fill-rule=\"nonzero\" fill-opacity=\"1\" /><path clip-path=\"url(#clip600)\" d=\"M683.588 1480.65 L683.588 1471.37 L675.949 1471.37 L675.949 1467.52 L688.218 1467.52 L688.218 1482.36 Q685.509 1484.28 682.245 1485.28 Q678.982 1486.25 675.278 1486.25 Q667.176 1486.25 662.593 1481.53 Q658.033 1476.78 658.033 1468.33 Q658.033 1459.86 662.593 1455.14 Q667.176 1450.39 675.278 1450.39 Q678.658 1450.39 681.69 1451.23 Q684.745 1452.06 687.315 1453.68 L687.315 1458.66 Q684.722 1456.46 681.806 1455.35 Q678.889 1454.24 675.671 1454.24 Q669.329 1454.24 666.134 1457.78 Q662.963 1461.32 662.963 1468.33 Q662.963 1475.33 666.134 1478.87 Q669.329 1482.41 675.671 1482.41 Q678.148 1482.41 680.093 1481.99 Q682.037 1481.55 683.588 1480.65 Z\" fill=\"#000000\" fill-rule=\"nonzero\" fill-opacity=\"1\" /><path clip-path=\"url(#clip600)\" d=\"M717.477 1452.15 L717.477 1456.71 Q714.815 1455.44 712.454 1454.82 Q710.093 1454.19 707.893 1454.19 Q704.074 1454.19 701.991 1455.67 Q699.931 1457.15 699.931 1459.89 Q699.931 1462.18 701.296 1463.36 Q702.685 1464.52 706.528 1465.23 L709.352 1465.81 Q714.583 1466.81 717.06 1469.33 Q719.56 1471.83 719.56 1476.04 Q719.56 1481.07 716.18 1483.66 Q712.824 1486.25 706.319 1486.25 Q703.866 1486.25 701.088 1485.7 Q698.333 1485.14 695.37 1484.05 L695.37 1479.24 Q698.218 1480.83 700.949 1481.64 Q703.681 1482.45 706.319 1482.45 Q710.324 1482.45 712.5 1480.88 Q714.676 1479.31 714.676 1476.39 Q714.676 1473.84 713.102 1472.41 Q711.551 1470.97 707.986 1470.26 L705.139 1469.7 Q699.907 1468.66 697.569 1466.44 Q695.232 1464.21 695.232 1460.26 Q695.232 1455.67 698.449 1453.03 Q701.69 1450.39 707.361 1450.39 Q709.792 1450.39 712.315 1450.83 Q714.838 1451.27 717.477 1452.15 Z\" fill=\"#000000\" fill-rule=\"nonzero\" fill-opacity=\"1\" /><path clip-path=\"url(#clip600)\" d=\"M875.516 1460.42 L875.516 1464.45 Q873.711 1463.52 871.766 1463.06 Q869.822 1462.59 867.739 1462.59 Q864.567 1462.59 862.97 1463.57 Q861.396 1464.54 861.396 1466.48 Q861.396 1467.96 862.53 1468.82 Q863.665 1469.65 867.091 1470.42 L868.549 1470.74 Q873.086 1471.71 874.984 1473.5 Q876.905 1475.26 876.905 1478.43 Q876.905 1482.04 874.035 1484.14 Q871.188 1486.25 866.188 1486.25 Q864.104 1486.25 861.836 1485.83 Q859.591 1485.44 857.091 1484.63 L857.091 1480.23 Q859.452 1481.46 861.743 1482.08 Q864.035 1482.69 866.28 1482.69 Q869.29 1482.69 870.91 1481.67 Q872.53 1480.63 872.53 1478.75 Q872.53 1477.02 871.35 1476.09 Q870.192 1475.16 866.234 1474.31 L864.753 1473.96 Q860.794 1473.13 859.035 1471.41 Q857.276 1469.68 857.276 1466.67 Q857.276 1463.01 859.868 1461.02 Q862.461 1459.03 867.229 1459.03 Q869.591 1459.03 871.674 1459.38 Q873.757 1459.72 875.516 1460.42 Z\" fill=\"#000000\" fill-rule=\"nonzero\" fill-opacity=\"1\" /><path clip-path=\"url(#clip600)\" d=\"M883.248 1475.35 L883.248 1459.65 L887.507 1459.65 L887.507 1475.19 Q887.507 1478.87 888.942 1480.72 Q890.377 1482.55 893.248 1482.55 Q896.697 1482.55 898.688 1480.35 Q900.701 1478.15 900.701 1474.35 L900.701 1459.65 L904.961 1459.65 L904.961 1485.58 L900.701 1485.58 L900.701 1481.6 Q899.151 1483.96 897.09 1485.12 Q895.053 1486.25 892.345 1486.25 Q887.877 1486.25 885.563 1483.47 Q883.248 1480.7 883.248 1475.35 M893.965 1459.03 L893.965 1459.03 Z\" fill=\"#000000\" fill-rule=\"nonzero\" fill-opacity=\"1\" /><path clip-path=\"url(#clip600)\" d=\"M917.854 1481.69 L917.854 1495.44 L913.572 1495.44 L913.572 1459.65 L917.854 1459.65 L917.854 1463.59 Q919.197 1461.27 921.234 1460.16 Q923.294 1459.03 926.141 1459.03 Q930.863 1459.03 933.803 1462.78 Q936.766 1466.53 936.766 1472.64 Q936.766 1478.75 933.803 1482.5 Q930.863 1486.25 926.141 1486.25 Q923.294 1486.25 921.234 1485.14 Q919.197 1484.01 917.854 1481.69 M932.345 1472.64 Q932.345 1467.94 930.4 1465.28 Q928.479 1462.59 925.099 1462.59 Q921.72 1462.59 919.775 1465.28 Q917.854 1467.94 917.854 1472.64 Q917.854 1477.34 919.775 1480.02 Q921.72 1482.69 925.099 1482.69 Q928.479 1482.69 930.4 1480.02 Q932.345 1477.34 932.345 1472.64 Z\" fill=\"#000000\" fill-rule=\"nonzero\" fill-opacity=\"1\" /><path clip-path=\"url(#clip600)\" d=\"M966.002 1471.55 L966.002 1473.64 L946.419 1473.64 Q946.697 1478.03 949.058 1480.35 Q951.442 1482.64 955.678 1482.64 Q958.132 1482.64 960.423 1482.04 Q962.738 1481.44 965.007 1480.23 L965.007 1484.26 Q962.715 1485.23 960.308 1485.74 Q957.9 1486.25 955.423 1486.25 Q949.22 1486.25 945.585 1482.64 Q941.974 1479.03 941.974 1472.87 Q941.974 1466.51 945.4 1462.78 Q948.849 1459.03 954.683 1459.03 Q959.914 1459.03 962.947 1462.41 Q966.002 1465.77 966.002 1471.55 M961.743 1470.3 Q961.697 1466.81 959.775 1464.72 Q957.877 1462.64 954.729 1462.64 Q951.164 1462.64 949.011 1464.65 Q946.882 1466.67 946.558 1470.33 L961.743 1470.3 Z\" fill=\"#000000\" fill-rule=\"nonzero\" fill-opacity=\"1\" /><path clip-path=\"url(#clip600)\" d=\"M988.016 1463.64 Q987.298 1463.22 986.442 1463.03 Q985.608 1462.83 984.59 1462.83 Q980.979 1462.83 979.034 1465.19 Q977.113 1467.52 977.113 1471.92 L977.113 1485.58 L972.831 1485.58 L972.831 1459.65 L977.113 1459.65 L977.113 1463.68 Q978.456 1461.32 980.608 1460.19 Q982.761 1459.03 985.84 1459.03 Q986.28 1459.03 986.812 1459.1 Q987.345 1459.14 987.993 1459.26 L988.016 1463.64 Z\" fill=\"#000000\" fill-rule=\"nonzero\" fill-opacity=\"1\" /><path clip-path=\"url(#clip600)\" d=\"M989.428 1459.65 L993.942 1459.65 L1002.04 1481.41 L1010.15 1459.65 L1014.66 1459.65 L1004.94 1485.58 L999.15 1485.58 L989.428 1459.65 Z\" fill=\"#000000\" fill-rule=\"nonzero\" fill-opacity=\"1\" /><path clip-path=\"url(#clip600)\" d=\"M1020.54 1459.65 L1024.8 1459.65 L1024.8 1485.58 L1020.54 1485.58 L1020.54 1459.65 M1020.54 1449.56 L1024.8 1449.56 L1024.8 1454.96 L1020.54 1454.96 L1020.54 1449.56 Z\" fill=\"#000000\" fill-rule=\"nonzero\" fill-opacity=\"1\" /><path clip-path=\"url(#clip600)\" d=\"M1050.24 1460.42 L1050.24 1464.45 Q1048.43 1463.52 1046.49 1463.06 Q1044.54 1462.59 1042.46 1462.59 Q1039.29 1462.59 1037.69 1463.57 Q1036.12 1464.54 1036.12 1466.48 Q1036.12 1467.96 1037.25 1468.82 Q1038.39 1469.65 1041.81 1470.42 L1043.27 1470.74 Q1047.81 1471.71 1049.71 1473.5 Q1051.63 1475.26 1051.63 1478.43 Q1051.63 1482.04 1048.76 1484.14 Q1045.91 1486.25 1040.91 1486.25 Q1038.83 1486.25 1036.56 1485.83 Q1034.31 1485.44 1031.81 1484.63 L1031.81 1480.23 Q1034.17 1481.46 1036.46 1482.08 Q1038.76 1482.69 1041 1482.69 Q1044.01 1482.69 1045.63 1481.67 Q1047.25 1480.63 1047.25 1478.75 Q1047.25 1477.02 1046.07 1476.09 Q1044.91 1475.16 1040.96 1474.31 L1039.47 1473.96 Q1035.52 1473.13 1033.76 1471.41 Q1032 1469.68 1032 1466.67 Q1032 1463.01 1034.59 1461.02 Q1037.18 1459.03 1041.95 1459.03 Q1044.31 1459.03 1046.4 1459.38 Q1048.48 1459.72 1050.24 1460.42 Z\" fill=\"#000000\" fill-rule=\"nonzero\" fill-opacity=\"1\" /><path clip-path=\"url(#clip600)\" d=\"M1080.58 1471.55 L1080.58 1473.64 L1061 1473.64 Q1061.28 1478.03 1063.64 1480.35 Q1066.02 1482.64 1070.26 1482.64 Q1072.71 1482.64 1075.01 1482.04 Q1077.32 1481.44 1079.59 1480.23 L1079.59 1484.26 Q1077.3 1485.23 1074.89 1485.74 Q1072.48 1486.25 1070.01 1486.25 Q1063.8 1486.25 1060.17 1482.64 Q1056.56 1479.03 1056.56 1472.87 Q1056.56 1466.51 1059.98 1462.78 Q1063.43 1459.03 1069.27 1459.03 Q1074.5 1459.03 1077.53 1462.41 Q1080.58 1465.77 1080.58 1471.55 M1076.33 1470.3 Q1076.28 1466.81 1074.36 1464.72 Q1072.46 1462.64 1069.31 1462.64 Q1065.75 1462.64 1063.59 1464.65 Q1061.46 1466.67 1061.14 1470.33 L1076.33 1470.3 Z\" fill=\"#000000\" fill-rule=\"nonzero\" fill-opacity=\"1\" /><path clip-path=\"url(#clip600)\" d=\"M1104.64 1463.59 L1104.64 1449.56 L1108.89 1449.56 L1108.89 1485.58 L1104.64 1485.58 L1104.64 1481.69 Q1103.29 1484.01 1101.23 1485.14 Q1099.2 1486.25 1096.33 1486.25 Q1091.63 1486.25 1088.66 1482.5 Q1085.72 1478.75 1085.72 1472.64 Q1085.72 1466.53 1088.66 1462.78 Q1091.63 1459.03 1096.33 1459.03 Q1099.2 1459.03 1101.23 1460.16 Q1103.29 1461.27 1104.64 1463.59 M1090.12 1472.64 Q1090.12 1477.34 1092.04 1480.02 Q1093.99 1482.69 1097.37 1482.69 Q1100.75 1482.69 1102.69 1480.02 Q1104.64 1477.34 1104.64 1472.64 Q1104.64 1467.94 1102.69 1465.28 Q1100.75 1462.59 1097.37 1462.59 Q1093.99 1462.59 1092.04 1465.28 Q1090.12 1467.94 1090.12 1472.64 Z\" fill=\"#000000\" fill-rule=\"nonzero\" fill-opacity=\"1\" /><path clip-path=\"url(#clip600)\" d=\"M1158.8 1453.68 L1158.8 1458.61 Q1156.44 1456.41 1153.76 1455.33 Q1151.09 1454.24 1148.08 1454.24 Q1142.16 1454.24 1139.01 1457.87 Q1135.86 1461.48 1135.86 1468.33 Q1135.86 1475.16 1139.01 1478.8 Q1142.16 1482.41 1148.08 1482.41 Q1151.09 1482.41 1153.76 1481.32 Q1156.44 1480.23 1158.8 1478.03 L1158.8 1482.92 Q1156.35 1484.58 1153.59 1485.42 Q1150.86 1486.25 1147.81 1486.25 Q1139.96 1486.25 1135.45 1481.46 Q1130.93 1476.64 1130.93 1468.33 Q1130.93 1460 1135.45 1455.21 Q1139.96 1450.39 1147.81 1450.39 Q1150.91 1450.39 1153.64 1451.23 Q1156.39 1452.04 1158.8 1453.68 Z\" fill=\"#000000\" fill-rule=\"nonzero\" fill-opacity=\"1\" /><path clip-path=\"url(#clip600)\" d=\"M1189.59 1480.65 L1189.59 1471.37 L1181.95 1471.37 L1181.95 1467.52 L1194.22 1467.52 L1194.22 1482.36 Q1191.51 1484.28 1188.25 1485.28 Q1184.98 1486.25 1181.28 1486.25 Q1173.18 1486.25 1168.59 1481.53 Q1164.03 1476.78 1164.03 1468.33 Q1164.03 1459.86 1168.59 1455.14 Q1173.18 1450.39 1181.28 1450.39 Q1184.66 1450.39 1187.69 1451.23 Q1190.75 1452.06 1193.32 1453.68 L1193.32 1458.66 Q1190.72 1456.46 1187.81 1455.35 Q1184.89 1454.24 1181.67 1454.24 Q1175.33 1454.24 1172.14 1457.78 Q1168.96 1461.32 1168.96 1468.33 Q1168.96 1475.33 1172.14 1478.87 Q1175.33 1482.41 1181.67 1482.41 Q1184.15 1482.41 1186.09 1481.99 Q1188.04 1481.55 1189.59 1480.65 Z\" fill=\"#000000\" fill-rule=\"nonzero\" fill-opacity=\"1\" /><path clip-path=\"url(#clip600)\" d=\"M1302.43 1475.35 L1302.43 1459.65 L1306.69 1459.65 L1306.69 1475.19 Q1306.69 1478.87 1308.13 1480.72 Q1309.56 1482.55 1312.43 1482.55 Q1315.88 1482.55 1317.87 1480.35 Q1319.89 1478.15 1319.89 1474.35 L1319.89 1459.65 L1324.14 1459.65 L1324.14 1485.58 L1319.89 1485.58 L1319.89 1481.6 Q1318.33 1483.96 1316.27 1485.12 Q1314.24 1486.25 1311.53 1486.25 Q1307.06 1486.25 1304.75 1483.47 Q1302.43 1480.7 1302.43 1475.35 M1313.15 1459.03 L1313.15 1459.03 Z\" fill=\"#000000\" fill-rule=\"nonzero\" fill-opacity=\"1\" /><path clip-path=\"url(#clip600)\" d=\"M1354.47 1469.93 L1354.47 1485.58 L1350.21 1485.58 L1350.21 1470.07 Q1350.21 1466.39 1348.77 1464.56 Q1347.34 1462.73 1344.47 1462.73 Q1341.02 1462.73 1339.03 1464.93 Q1337.04 1467.13 1337.04 1470.93 L1337.04 1485.58 L1332.76 1485.58 L1332.76 1459.65 L1337.04 1459.65 L1337.04 1463.68 Q1338.57 1461.34 1340.63 1460.19 Q1342.71 1459.03 1345.42 1459.03 Q1349.89 1459.03 1352.18 1461.81 Q1354.47 1464.56 1354.47 1469.93 Z\" fill=\"#000000\" fill-rule=\"nonzero\" fill-opacity=\"1\" /><path clip-path=\"url(#clip600)\" d=\"M1379.49 1460.42 L1379.49 1464.45 Q1377.69 1463.52 1375.74 1463.06 Q1373.8 1462.59 1371.71 1462.59 Q1368.54 1462.59 1366.95 1463.57 Q1365.37 1464.54 1365.37 1466.48 Q1365.37 1467.96 1366.51 1468.82 Q1367.64 1469.65 1371.07 1470.42 L1372.52 1470.74 Q1377.06 1471.71 1378.96 1473.5 Q1380.88 1475.26 1380.88 1478.43 Q1380.88 1482.04 1378.01 1484.14 Q1375.16 1486.25 1370.16 1486.25 Q1368.08 1486.25 1365.81 1485.83 Q1363.57 1485.44 1361.07 1484.63 L1361.07 1480.23 Q1363.43 1481.46 1365.72 1482.08 Q1368.01 1482.69 1370.26 1482.69 Q1373.26 1482.69 1374.89 1481.67 Q1376.51 1480.63 1376.51 1478.75 Q1376.51 1477.02 1375.33 1476.09 Q1374.17 1475.16 1370.21 1474.31 L1368.73 1473.96 Q1364.77 1473.13 1363.01 1471.41 Q1361.25 1469.68 1361.25 1466.67 Q1361.25 1463.01 1363.84 1461.02 Q1366.44 1459.03 1371.2 1459.03 Q1373.57 1459.03 1375.65 1459.38 Q1377.73 1459.72 1379.49 1460.42 Z\" fill=\"#000000\" fill-rule=\"nonzero\" fill-opacity=\"1\" /><path clip-path=\"url(#clip600)\" d=\"M1387.22 1475.35 L1387.22 1459.65 L1391.48 1459.65 L1391.48 1475.19 Q1391.48 1478.87 1392.92 1480.72 Q1394.35 1482.55 1397.22 1482.55 Q1400.67 1482.55 1402.66 1480.35 Q1404.68 1478.15 1404.68 1474.35 L1404.68 1459.65 L1408.94 1459.65 L1408.94 1485.58 L1404.68 1485.58 L1404.68 1481.6 Q1403.13 1483.96 1401.07 1485.12 Q1399.03 1486.25 1396.32 1486.25 Q1391.85 1486.25 1389.54 1483.47 Q1387.22 1480.7 1387.22 1475.35 M1397.94 1459.03 L1397.94 1459.03 Z\" fill=\"#000000\" fill-rule=\"nonzero\" fill-opacity=\"1\" /><path clip-path=\"url(#clip600)\" d=\"M1421.83 1481.69 L1421.83 1495.44 L1417.55 1495.44 L1417.55 1459.65 L1421.83 1459.65 L1421.83 1463.59 Q1423.17 1461.27 1425.21 1460.16 Q1427.27 1459.03 1430.12 1459.03 Q1434.84 1459.03 1437.78 1462.78 Q1440.74 1466.53 1440.74 1472.64 Q1440.74 1478.75 1437.78 1482.5 Q1434.84 1486.25 1430.12 1486.25 Q1427.27 1486.25 1425.21 1485.14 Q1423.17 1484.01 1421.83 1481.69 M1436.32 1472.64 Q1436.32 1467.94 1434.38 1465.28 Q1432.45 1462.59 1429.07 1462.59 Q1425.7 1462.59 1423.75 1465.28 Q1421.83 1467.94 1421.83 1472.64 Q1421.83 1477.34 1423.75 1480.02 Q1425.7 1482.69 1429.07 1482.69 Q1432.45 1482.69 1434.38 1480.02 Q1436.32 1477.34 1436.32 1472.64 Z\" fill=\"#000000\" fill-rule=\"nonzero\" fill-opacity=\"1\" /><path clip-path=\"url(#clip600)\" d=\"M1469.98 1471.55 L1469.98 1473.64 L1450.39 1473.64 Q1450.67 1478.03 1453.03 1480.35 Q1455.42 1482.64 1459.65 1482.64 Q1462.11 1482.64 1464.4 1482.04 Q1466.71 1481.44 1468.98 1480.23 L1468.98 1484.26 Q1466.69 1485.23 1464.28 1485.74 Q1461.88 1486.25 1459.4 1486.25 Q1453.2 1486.25 1449.56 1482.64 Q1445.95 1479.03 1445.95 1472.87 Q1445.95 1466.51 1449.38 1462.78 Q1452.82 1459.03 1458.66 1459.03 Q1463.89 1459.03 1466.92 1462.41 Q1469.98 1465.77 1469.98 1471.55 M1465.72 1470.3 Q1465.67 1466.81 1463.75 1464.72 Q1461.85 1462.64 1458.7 1462.64 Q1455.14 1462.64 1452.99 1464.65 Q1450.86 1466.67 1450.53 1470.33 L1465.72 1470.3 Z\" fill=\"#000000\" fill-rule=\"nonzero\" fill-opacity=\"1\" /><path clip-path=\"url(#clip600)\" d=\"M1491.99 1463.64 Q1491.27 1463.22 1490.42 1463.03 Q1489.58 1462.83 1488.57 1462.83 Q1484.95 1462.83 1483.01 1465.19 Q1481.09 1467.52 1481.09 1471.92 L1481.09 1485.58 L1476.81 1485.58 L1476.81 1459.65 L1481.09 1459.65 L1481.09 1463.68 Q1482.43 1461.32 1484.58 1460.19 Q1486.74 1459.03 1489.82 1459.03 Q1490.26 1459.03 1490.79 1459.1 Q1491.32 1459.14 1491.97 1459.26 L1491.99 1463.64 Z\" fill=\"#000000\" fill-rule=\"nonzero\" fill-opacity=\"1\" /><path clip-path=\"url(#clip600)\" d=\"M1493.4 1459.65 L1497.92 1459.65 L1506.02 1481.41 L1514.12 1459.65 L1518.63 1459.65 L1508.91 1485.58 L1503.13 1485.58 L1493.4 1459.65 Z\" fill=\"#000000\" fill-rule=\"nonzero\" fill-opacity=\"1\" /><path clip-path=\"url(#clip600)\" d=\"M1524.51 1459.65 L1528.77 1459.65 L1528.77 1485.58 L1524.51 1485.58 L1524.51 1459.65 M1524.51 1449.56 L1528.77 1449.56 L1528.77 1454.96 L1524.51 1454.96 L1524.51 1449.56 Z\" fill=\"#000000\" fill-rule=\"nonzero\" fill-opacity=\"1\" /><path clip-path=\"url(#clip600)\" d=\"M1554.21 1460.42 L1554.21 1464.45 Q1552.41 1463.52 1550.46 1463.06 Q1548.52 1462.59 1546.44 1462.59 Q1543.26 1462.59 1541.67 1463.57 Q1540.09 1464.54 1540.09 1466.48 Q1540.09 1467.96 1541.23 1468.82 Q1542.36 1469.65 1545.79 1470.42 L1547.25 1470.74 Q1551.78 1471.71 1553.68 1473.5 Q1555.6 1475.26 1555.6 1478.43 Q1555.6 1482.04 1552.73 1484.14 Q1549.88 1486.25 1544.88 1486.25 Q1542.8 1486.25 1540.53 1485.83 Q1538.29 1485.44 1535.79 1484.63 L1535.79 1480.23 Q1538.15 1481.46 1540.44 1482.08 Q1542.73 1482.69 1544.98 1482.69 Q1547.99 1482.69 1549.61 1481.67 Q1551.23 1480.63 1551.23 1478.75 Q1551.23 1477.02 1550.05 1476.09 Q1548.89 1475.16 1544.93 1474.31 L1543.45 1473.96 Q1539.49 1473.13 1537.73 1471.41 Q1535.97 1469.68 1535.97 1466.67 Q1535.97 1463.01 1538.56 1461.02 Q1541.16 1459.03 1545.93 1459.03 Q1548.29 1459.03 1550.37 1459.38 Q1552.45 1459.72 1554.21 1460.42 Z\" fill=\"#000000\" fill-rule=\"nonzero\" fill-opacity=\"1\" /><path clip-path=\"url(#clip600)\" d=\"M1584.56 1471.55 L1584.56 1473.64 L1564.98 1473.64 Q1565.25 1478.03 1567.62 1480.35 Q1570 1482.64 1574.24 1482.64 Q1576.69 1482.64 1578.98 1482.04 Q1581.3 1481.44 1583.56 1480.23 L1583.56 1484.26 Q1581.27 1485.23 1578.87 1485.74 Q1576.46 1486.25 1573.98 1486.25 Q1567.78 1486.25 1564.14 1482.64 Q1560.53 1479.03 1560.53 1472.87 Q1560.53 1466.51 1563.96 1462.78 Q1567.41 1459.03 1573.24 1459.03 Q1578.47 1459.03 1581.5 1462.41 Q1584.56 1465.77 1584.56 1471.55 M1580.3 1470.3 Q1580.25 1466.81 1578.33 1464.72 Q1576.44 1462.64 1573.29 1462.64 Q1569.72 1462.64 1567.57 1464.65 Q1565.44 1466.67 1565.12 1470.33 L1580.3 1470.3 Z\" fill=\"#000000\" fill-rule=\"nonzero\" fill-opacity=\"1\" /><path clip-path=\"url(#clip600)\" d=\"M1608.61 1463.59 L1608.61 1449.56 L1612.87 1449.56 L1612.87 1485.58 L1608.61 1485.58 L1608.61 1481.69 Q1607.27 1484.01 1605.21 1485.14 Q1603.17 1486.25 1600.3 1486.25 Q1595.6 1486.25 1592.64 1482.5 Q1589.7 1478.75 1589.7 1472.64 Q1589.7 1466.53 1592.64 1462.78 Q1595.6 1459.03 1600.3 1459.03 Q1603.17 1459.03 1605.21 1460.16 Q1607.27 1461.27 1608.61 1463.59 M1594.1 1472.64 Q1594.1 1477.34 1596.02 1480.02 Q1597.96 1482.69 1601.34 1482.69 Q1604.72 1482.69 1606.67 1480.02 Q1608.61 1477.34 1608.61 1472.64 Q1608.61 1467.94 1606.67 1465.28 Q1604.72 1462.59 1601.34 1462.59 Q1597.96 1462.59 1596.02 1465.28 Q1594.1 1467.94 1594.1 1472.64 Z\" fill=\"#000000\" fill-rule=\"nonzero\" fill-opacity=\"1\" /><path clip-path=\"url(#clip600)\" d=\"M1641.57 1469.08 L1641.57 1481.74 L1649.07 1481.74 Q1652.85 1481.74 1654.65 1480.19 Q1656.48 1478.61 1656.48 1475.39 Q1656.48 1472.15 1654.65 1470.63 Q1652.85 1469.08 1649.07 1469.08 L1641.57 1469.08 M1641.57 1454.86 L1641.57 1465.28 L1648.49 1465.28 Q1651.92 1465.28 1653.59 1464.01 Q1655.28 1462.71 1655.28 1460.07 Q1655.28 1457.45 1653.59 1456.16 Q1651.92 1454.86 1648.49 1454.86 L1641.57 1454.86 M1636.9 1451.02 L1648.84 1451.02 Q1654.19 1451.02 1657.08 1453.24 Q1659.98 1455.46 1659.98 1459.56 Q1659.98 1462.73 1658.49 1464.61 Q1657.01 1466.48 1654.14 1466.95 Q1657.59 1467.69 1659.49 1470.05 Q1661.41 1472.39 1661.41 1475.9 Q1661.41 1480.53 1658.26 1483.06 Q1655.12 1485.58 1649.31 1485.58 L1636.9 1485.58 L1636.9 1451.02 Z\" fill=\"#000000\" fill-rule=\"nonzero\" fill-opacity=\"1\" /><path clip-path=\"url(#clip600)\" d=\"M1669.42 1451.02 L1689.28 1451.02 L1689.28 1454.96 L1674.1 1454.96 L1674.1 1465.14 L1687.8 1465.14 L1687.8 1469.08 L1674.1 1469.08 L1674.1 1485.58 L1669.42 1485.58 L1669.42 1451.02 Z\" fill=\"#000000\" fill-rule=\"nonzero\" fill-opacity=\"1\" /><path clip-path=\"url(#clip600)\" d=\"M1720.25 1480.65 L1720.25 1471.37 L1712.61 1471.37 L1712.61 1467.52 L1724.88 1467.52 L1724.88 1482.36 Q1722.18 1484.28 1718.91 1485.28 Q1715.65 1486.25 1711.94 1486.25 Q1703.84 1486.25 1699.26 1481.53 Q1694.7 1476.78 1694.7 1468.33 Q1694.7 1459.86 1699.26 1455.14 Q1703.84 1450.39 1711.94 1450.39 Q1715.32 1450.39 1718.36 1451.23 Q1721.41 1452.06 1723.98 1453.68 L1723.98 1458.66 Q1721.39 1456.46 1718.47 1455.35 Q1715.55 1454.24 1712.34 1454.24 Q1705.99 1454.24 1702.8 1457.78 Q1699.63 1461.32 1699.63 1468.33 Q1699.63 1475.33 1702.8 1478.87 Q1705.99 1482.41 1712.34 1482.41 Q1714.81 1482.41 1716.76 1481.99 Q1718.7 1481.55 1720.25 1480.65 Z\" fill=\"#000000\" fill-rule=\"nonzero\" fill-opacity=\"1\" /><path clip-path=\"url(#clip600)\" d=\"M1754.14 1452.15 L1754.14 1456.71 Q1751.48 1455.44 1749.12 1454.82 Q1746.76 1454.19 1744.56 1454.19 Q1740.74 1454.19 1738.66 1455.67 Q1736.6 1457.15 1736.6 1459.89 Q1736.6 1462.18 1737.96 1463.36 Q1739.35 1464.52 1743.19 1465.23 L1746.02 1465.81 Q1751.25 1466.81 1753.73 1469.33 Q1756.23 1471.83 1756.23 1476.04 Q1756.23 1481.07 1752.85 1483.66 Q1749.49 1486.25 1742.99 1486.25 Q1740.53 1486.25 1737.75 1485.7 Q1735 1485.14 1732.04 1484.05 L1732.04 1479.24 Q1734.88 1480.83 1737.61 1481.64 Q1740.35 1482.45 1742.99 1482.45 Q1746.99 1482.45 1749.17 1480.88 Q1751.34 1479.31 1751.34 1476.39 Q1751.34 1473.84 1749.77 1472.41 Q1748.22 1470.97 1744.65 1470.26 L1741.8 1469.7 Q1736.57 1468.66 1734.24 1466.44 Q1731.9 1464.21 1731.9 1460.26 Q1731.9 1455.67 1735.11 1453.03 Q1738.36 1450.39 1744.03 1450.39 Q1746.46 1450.39 1748.98 1450.83 Q1751.5 1451.27 1754.14 1452.15 Z\" fill=\"#000000\" fill-rule=\"nonzero\" fill-opacity=\"1\" /><path clip-path=\"url(#clip600)\" d=\"M1835.12 1475.35 L1835.12 1459.65 L1839.38 1459.65 L1839.38 1475.19 Q1839.38 1478.87 1840.82 1480.72 Q1842.25 1482.55 1845.12 1482.55 Q1848.57 1482.55 1850.56 1480.35 Q1852.58 1478.15 1852.58 1474.35 L1852.58 1459.65 L1856.84 1459.65 L1856.84 1485.58 L1852.58 1485.58 L1852.58 1481.6 Q1851.03 1483.96 1848.96 1485.12 Q1846.93 1486.25 1844.22 1486.25 Q1839.75 1486.25 1837.44 1483.47 Q1835.12 1480.7 1835.12 1475.35 M1845.84 1459.03 L1845.84 1459.03 Z\" fill=\"#000000\" fill-rule=\"nonzero\" fill-opacity=\"1\" /><path clip-path=\"url(#clip600)\" d=\"M1887.16 1469.93 L1887.16 1485.58 L1882.9 1485.58 L1882.9 1470.07 Q1882.9 1466.39 1881.46 1464.56 Q1880.03 1462.73 1877.16 1462.73 Q1873.71 1462.73 1871.72 1464.93 Q1869.73 1467.13 1869.73 1470.93 L1869.73 1485.58 L1865.45 1485.58 L1865.45 1459.65 L1869.73 1459.65 L1869.73 1463.68 Q1871.26 1461.34 1873.32 1460.19 Q1875.4 1459.03 1878.11 1459.03 Q1882.58 1459.03 1884.87 1461.81 Q1887.16 1464.56 1887.16 1469.93 Z\" fill=\"#000000\" fill-rule=\"nonzero\" fill-opacity=\"1\" /><path clip-path=\"url(#clip600)\" d=\"M1912.18 1460.42 L1912.18 1464.45 Q1910.38 1463.52 1908.43 1463.06 Q1906.49 1462.59 1904.4 1462.59 Q1901.23 1462.59 1899.64 1463.57 Q1898.06 1464.54 1898.06 1466.48 Q1898.06 1467.96 1899.2 1468.82 Q1900.33 1469.65 1903.76 1470.42 L1905.21 1470.74 Q1909.75 1471.71 1911.65 1473.5 Q1913.57 1475.26 1913.57 1478.43 Q1913.57 1482.04 1910.7 1484.14 Q1907.85 1486.25 1902.85 1486.25 Q1900.77 1486.25 1898.5 1485.83 Q1896.26 1485.44 1893.76 1484.63 L1893.76 1480.23 Q1896.12 1481.46 1898.41 1482.08 Q1900.7 1482.69 1902.95 1482.69 Q1905.96 1482.69 1907.58 1481.67 Q1909.2 1480.63 1909.2 1478.75 Q1909.2 1477.02 1908.02 1476.09 Q1906.86 1475.16 1902.9 1474.31 L1901.42 1473.96 Q1897.46 1473.13 1895.7 1471.41 Q1893.94 1469.68 1893.94 1466.67 Q1893.94 1463.01 1896.53 1461.02 Q1899.13 1459.03 1903.9 1459.03 Q1906.26 1459.03 1908.34 1459.38 Q1910.42 1459.72 1912.18 1460.42 Z\" fill=\"#000000\" fill-rule=\"nonzero\" fill-opacity=\"1\" /><path clip-path=\"url(#clip600)\" d=\"M1919.91 1475.35 L1919.91 1459.65 L1924.17 1459.65 L1924.17 1475.19 Q1924.17 1478.87 1925.61 1480.72 Q1927.04 1482.55 1929.91 1482.55 Q1933.36 1482.55 1935.35 1480.35 Q1937.37 1478.15 1937.37 1474.35 L1937.37 1459.65 L1941.63 1459.65 L1941.63 1485.58 L1937.37 1485.58 L1937.37 1481.6 Q1935.82 1483.96 1933.76 1485.12 Q1931.72 1486.25 1929.01 1486.25 Q1924.54 1486.25 1922.23 1483.47 Q1919.91 1480.7 1919.91 1475.35 M1930.63 1459.03 L1930.63 1459.03 Z\" fill=\"#000000\" fill-rule=\"nonzero\" fill-opacity=\"1\" /><path clip-path=\"url(#clip600)\" d=\"M1954.52 1481.69 L1954.52 1495.44 L1950.24 1495.44 L1950.24 1459.65 L1954.52 1459.65 L1954.52 1463.59 Q1955.86 1461.27 1957.9 1460.16 Q1959.96 1459.03 1962.81 1459.03 Q1967.53 1459.03 1970.47 1462.78 Q1973.43 1466.53 1973.43 1472.64 Q1973.43 1478.75 1970.47 1482.5 Q1967.53 1486.25 1962.81 1486.25 Q1959.96 1486.25 1957.9 1485.14 Q1955.86 1484.01 1954.52 1481.69 M1969.01 1472.64 Q1969.01 1467.94 1967.07 1465.28 Q1965.14 1462.59 1961.77 1462.59 Q1958.39 1462.59 1956.44 1465.28 Q1954.52 1467.94 1954.52 1472.64 Q1954.52 1477.34 1956.44 1480.02 Q1958.39 1482.69 1961.77 1482.69 Q1965.14 1482.69 1967.07 1480.02 Q1969.01 1477.34 1969.01 1472.64 Z\" fill=\"#000000\" fill-rule=\"nonzero\" fill-opacity=\"1\" /><path clip-path=\"url(#clip600)\" d=\"M2002.67 1471.55 L2002.67 1473.64 L1983.08 1473.64 Q1983.36 1478.03 1985.72 1480.35 Q1988.11 1482.64 1992.34 1482.64 Q1994.8 1482.64 1997.09 1482.04 Q1999.4 1481.44 2001.67 1480.23 L2001.67 1484.26 Q1999.38 1485.23 1996.97 1485.74 Q1994.57 1486.25 1992.09 1486.25 Q1985.89 1486.25 1982.25 1482.64 Q1978.64 1479.03 1978.64 1472.87 Q1978.64 1466.51 1982.07 1462.78 Q1985.52 1459.03 1991.35 1459.03 Q1996.58 1459.03 1999.61 1462.41 Q2002.67 1465.77 2002.67 1471.55 M1998.41 1470.3 Q1998.36 1466.81 1996.44 1464.72 Q1994.54 1462.64 1991.39 1462.64 Q1987.83 1462.64 1985.68 1464.65 Q1983.55 1466.67 1983.22 1470.33 L1998.41 1470.3 Z\" fill=\"#000000\" fill-rule=\"nonzero\" fill-opacity=\"1\" /><path clip-path=\"url(#clip600)\" d=\"M2024.68 1463.64 Q2023.96 1463.22 2023.11 1463.03 Q2022.27 1462.83 2021.26 1462.83 Q2017.64 1462.83 2015.7 1465.19 Q2013.78 1467.52 2013.78 1471.92 L2013.78 1485.58 L2009.5 1485.58 L2009.5 1459.65 L2013.78 1459.65 L2013.78 1463.68 Q2015.12 1461.32 2017.27 1460.19 Q2019.43 1459.03 2022.51 1459.03 Q2022.95 1459.03 2023.48 1459.1 Q2024.01 1459.14 2024.66 1459.26 L2024.68 1463.64 Z\" fill=\"#000000\" fill-rule=\"nonzero\" fill-opacity=\"1\" /><path clip-path=\"url(#clip600)\" d=\"M2026.09 1459.65 L2030.61 1459.65 L2038.71 1481.41 L2046.81 1459.65 L2051.32 1459.65 L2041.6 1485.58 L2035.82 1485.58 L2026.09 1459.65 Z\" fill=\"#000000\" fill-rule=\"nonzero\" fill-opacity=\"1\" /><path clip-path=\"url(#clip600)\" d=\"M2057.2 1459.65 L2061.46 1459.65 L2061.46 1485.58 L2057.2 1485.58 L2057.2 1459.65 M2057.2 1449.56 L2061.46 1449.56 L2061.46 1454.96 L2057.2 1454.96 L2057.2 1449.56 Z\" fill=\"#000000\" fill-rule=\"nonzero\" fill-opacity=\"1\" /><path clip-path=\"url(#clip600)\" d=\"M2086.9 1460.42 L2086.9 1464.45 Q2085.1 1463.52 2083.15 1463.06 Q2081.21 1462.59 2079.13 1462.59 Q2075.95 1462.59 2074.36 1463.57 Q2072.78 1464.54 2072.78 1466.48 Q2072.78 1467.96 2073.92 1468.82 Q2075.05 1469.65 2078.48 1470.42 L2079.94 1470.74 Q2084.47 1471.71 2086.37 1473.5 Q2088.29 1475.26 2088.29 1478.43 Q2088.29 1482.04 2085.42 1484.14 Q2082.57 1486.25 2077.57 1486.25 Q2075.49 1486.25 2073.22 1485.83 Q2070.98 1485.44 2068.48 1484.63 L2068.48 1480.23 Q2070.84 1481.46 2073.13 1482.08 Q2075.42 1482.69 2077.67 1482.69 Q2080.68 1482.69 2082.3 1481.67 Q2083.92 1480.63 2083.92 1478.75 Q2083.92 1477.02 2082.74 1476.09 Q2081.58 1475.16 2077.62 1474.31 L2076.14 1473.96 Q2072.18 1473.13 2070.42 1471.41 Q2068.66 1469.68 2068.66 1466.67 Q2068.66 1463.01 2071.26 1461.02 Q2073.85 1459.03 2078.62 1459.03 Q2080.98 1459.03 2083.06 1459.38 Q2085.14 1459.72 2086.9 1460.42 Z\" fill=\"#000000\" fill-rule=\"nonzero\" fill-opacity=\"1\" /><path clip-path=\"url(#clip600)\" d=\"M2117.25 1471.55 L2117.25 1473.64 L2097.67 1473.64 Q2097.95 1478.03 2100.31 1480.35 Q2102.69 1482.64 2106.93 1482.64 Q2109.38 1482.64 2111.67 1482.04 Q2113.99 1481.44 2116.26 1480.23 L2116.26 1484.26 Q2113.96 1485.23 2111.56 1485.74 Q2109.15 1486.25 2106.67 1486.25 Q2100.47 1486.25 2096.83 1482.64 Q2093.22 1479.03 2093.22 1472.87 Q2093.22 1466.51 2096.65 1462.78 Q2100.1 1459.03 2105.93 1459.03 Q2111.16 1459.03 2114.19 1462.41 Q2117.25 1465.77 2117.25 1471.55 M2112.99 1470.3 Q2112.94 1466.81 2111.02 1464.72 Q2109.13 1462.64 2105.98 1462.64 Q2102.41 1462.64 2100.26 1464.65 Q2098.13 1466.67 2097.81 1470.33 L2112.99 1470.3 Z\" fill=\"#000000\" fill-rule=\"nonzero\" fill-opacity=\"1\" /><path clip-path=\"url(#clip600)\" d=\"M2141.3 1463.59 L2141.3 1449.56 L2145.56 1449.56 L2145.56 1485.58 L2141.3 1485.58 L2141.3 1481.69 Q2139.96 1484.01 2137.9 1485.14 Q2135.86 1486.25 2132.99 1486.25 Q2128.29 1486.25 2125.33 1482.5 Q2122.39 1478.75 2122.39 1472.64 Q2122.39 1466.53 2125.33 1462.78 Q2128.29 1459.03 2132.99 1459.03 Q2135.86 1459.03 2137.9 1460.16 Q2139.96 1461.27 2141.3 1463.59 M2126.79 1472.64 Q2126.79 1477.34 2128.71 1480.02 Q2130.65 1482.69 2134.03 1482.69 Q2137.41 1482.69 2139.36 1480.02 Q2141.3 1477.34 2141.3 1472.64 Q2141.3 1467.94 2139.36 1465.28 Q2137.41 1462.59 2134.03 1462.59 Q2130.65 1462.59 2128.71 1465.28 Q2126.79 1467.94 2126.79 1472.64 Z\" fill=\"#000000\" fill-rule=\"nonzero\" fill-opacity=\"1\" /><path clip-path=\"url(#clip600)\" d=\"M2195.47 1453.68 L2195.47 1458.61 Q2193.11 1456.41 2190.42 1455.33 Q2187.76 1454.24 2184.75 1454.24 Q2178.82 1454.24 2175.68 1457.87 Q2172.53 1461.48 2172.53 1468.33 Q2172.53 1475.16 2175.68 1478.8 Q2178.82 1482.41 2184.75 1482.41 Q2187.76 1482.41 2190.42 1481.32 Q2193.11 1480.23 2195.47 1478.03 L2195.47 1482.92 Q2193.01 1484.58 2190.26 1485.42 Q2187.53 1486.25 2184.47 1486.25 Q2176.63 1486.25 2172.11 1481.46 Q2167.6 1476.64 2167.6 1468.33 Q2167.6 1460 2172.11 1455.21 Q2176.63 1450.39 2184.47 1450.39 Q2187.57 1450.39 2190.31 1451.23 Q2193.06 1452.04 2195.47 1453.68 Z\" fill=\"#000000\" fill-rule=\"nonzero\" fill-opacity=\"1\" /><path clip-path=\"url(#clip600)\" d=\"M2226.25 1480.65 L2226.25 1471.37 L2218.62 1471.37 L2218.62 1467.52 L2230.88 1467.52 L2230.88 1482.36 Q2228.18 1484.28 2224.91 1485.28 Q2221.65 1486.25 2217.94 1486.25 Q2209.84 1486.25 2205.26 1481.53 Q2200.7 1476.78 2200.7 1468.33 Q2200.7 1459.86 2205.26 1455.14 Q2209.84 1450.39 2217.94 1450.39 Q2221.32 1450.39 2224.36 1451.23 Q2227.41 1452.06 2229.98 1453.68 L2229.98 1458.66 Q2227.39 1456.46 2224.47 1455.35 Q2221.56 1454.24 2218.34 1454.24 Q2212 1454.24 2208.8 1457.78 Q2205.63 1461.32 2205.63 1468.33 Q2205.63 1475.33 2208.8 1478.87 Q2212 1482.41 2218.34 1482.41 Q2220.81 1482.41 2222.76 1481.99 Q2224.7 1481.55 2226.25 1480.65 Z\" fill=\"#000000\" fill-rule=\"nonzero\" fill-opacity=\"1\" /><path clip-path=\"url(#clip600)\" d=\"M1124.51 1526.86 L1115.79 1550.51 L1133.26 1550.51 L1124.51 1526.86 M1120.88 1520.52 L1128.17 1520.52 L1146.28 1568.04 L1139.59 1568.04 L1135.27 1555.85 L1113.85 1555.85 L1109.52 1568.04 L1102.74 1568.04 L1120.88 1520.52 Z\" fill=\"#000000\" fill-rule=\"nonzero\" fill-opacity=\"1\" /><path clip-path=\"url(#clip600)\" d=\"M1152.96 1518.52 L1158.82 1518.52 L1158.82 1568.04 L1152.96 1568.04 L1152.96 1518.52 Z\" fill=\"#000000\" fill-rule=\"nonzero\" fill-opacity=\"1\" /><path clip-path=\"url(#clip600)\" d=\"M1194.53 1549.81 Q1194.53 1543.44 1191.89 1539.94 Q1189.28 1536.44 1184.54 1536.44 Q1179.83 1536.44 1177.18 1539.94 Q1174.57 1543.44 1174.57 1549.81 Q1174.57 1556.14 1177.18 1559.64 Q1179.83 1563.14 1184.54 1563.14 Q1189.28 1563.14 1191.89 1559.64 Q1194.53 1556.14 1194.53 1549.81 M1200.39 1563.62 Q1200.39 1572.72 1196.34 1577.15 Q1192.3 1581.6 1183.96 1581.6 Q1180.88 1581.6 1178.14 1581.13 Q1175.4 1580.68 1172.82 1579.72 L1172.82 1574.03 Q1175.4 1575.43 1177.92 1576.1 Q1180.43 1576.76 1183.04 1576.76 Q1188.8 1576.76 1191.67 1573.74 Q1194.53 1570.75 1194.53 1564.67 L1194.53 1561.77 Q1192.72 1564.92 1189.88 1566.48 Q1187.05 1568.04 1183.1 1568.04 Q1176.55 1568.04 1172.54 1563.05 Q1168.53 1558.05 1168.53 1549.81 Q1168.53 1541.53 1172.54 1536.53 Q1176.55 1531.54 1183.1 1531.54 Q1187.05 1531.54 1189.88 1533.1 Q1192.72 1534.66 1194.53 1537.81 L1194.53 1532.4 L1200.39 1532.4 L1200.39 1563.62 Z\" fill=\"#000000\" fill-rule=\"nonzero\" fill-opacity=\"1\" /><path clip-path=\"url(#clip600)\" d=\"M1226.26 1536.5 Q1221.55 1536.5 1218.82 1540.19 Q1216.08 1543.85 1216.08 1550.25 Q1216.08 1556.65 1218.78 1560.34 Q1221.52 1564 1226.26 1564 Q1230.94 1564 1233.68 1560.31 Q1236.42 1556.62 1236.42 1550.25 Q1236.42 1543.92 1233.68 1540.23 Q1230.94 1536.5 1226.26 1536.5 M1226.26 1531.54 Q1233.9 1531.54 1238.26 1536.5 Q1242.62 1541.47 1242.62 1550.25 Q1242.62 1559 1238.26 1564 Q1233.9 1568.97 1226.26 1568.97 Q1218.59 1568.97 1214.23 1564 Q1209.9 1559 1209.9 1550.25 Q1209.9 1541.47 1214.23 1536.5 Q1218.59 1531.54 1226.26 1531.54 Z\" fill=\"#000000\" fill-rule=\"nonzero\" fill-opacity=\"1\" /><path clip-path=\"url(#clip600)\" d=\"M1272.99 1537.87 Q1272 1537.3 1270.82 1537.04 Q1269.68 1536.76 1268.28 1536.76 Q1263.31 1536.76 1260.64 1540 Q1258 1543.22 1258 1549.27 L1258 1568.04 L1252.11 1568.04 L1252.11 1532.4 L1258 1532.4 L1258 1537.93 Q1259.84 1534.69 1262.8 1533.13 Q1265.76 1531.54 1270 1531.54 Q1270.6 1531.54 1271.33 1531.63 Q1272.06 1531.7 1272.96 1531.85 L1272.99 1537.87 Z\" fill=\"#000000\" fill-rule=\"nonzero\" fill-opacity=\"1\" /><path clip-path=\"url(#clip600)\" d=\"M1279.13 1532.4 L1284.99 1532.4 L1284.99 1568.04 L1279.13 1568.04 L1279.13 1532.4 M1279.13 1518.52 L1284.99 1518.52 L1284.99 1525.93 L1279.13 1525.93 L1279.13 1518.52 Z\" fill=\"#000000\" fill-rule=\"nonzero\" fill-opacity=\"1\" /><path clip-path=\"url(#clip600)\" d=\"M1303.03 1522.27 L1303.03 1532.4 L1315.1 1532.4 L1315.1 1536.95 L1303.03 1536.95 L1303.03 1556.3 Q1303.03 1560.66 1304.21 1561.9 Q1305.42 1563.14 1309.08 1563.14 L1315.1 1563.14 L1315.1 1568.04 L1309.08 1568.04 Q1302.3 1568.04 1299.72 1565.53 Q1297.15 1562.98 1297.15 1556.3 L1297.15 1536.95 L1292.85 1536.95 L1292.85 1532.4 L1297.15 1532.4 L1297.15 1522.27 L1303.03 1522.27 Z\" fill=\"#000000\" fill-rule=\"nonzero\" fill-opacity=\"1\" /><path clip-path=\"url(#clip600)\" d=\"M1352.43 1546.53 L1352.43 1568.04 L1346.58 1568.04 L1346.58 1546.72 Q1346.58 1541.66 1344.6 1539.14 Q1342.63 1536.63 1338.68 1536.63 Q1333.94 1536.63 1331.2 1539.65 Q1328.47 1542.68 1328.47 1547.9 L1328.47 1568.04 L1322.58 1568.04 L1322.58 1518.52 L1328.47 1518.52 L1328.47 1537.93 Q1330.57 1534.72 1333.4 1533.13 Q1336.26 1531.54 1339.99 1531.54 Q1346.13 1531.54 1349.28 1535.36 Q1352.43 1539.14 1352.43 1546.53 Z\" fill=\"#000000\" fill-rule=\"nonzero\" fill-opacity=\"1\" /><path clip-path=\"url(#clip600)\" d=\"M1391.87 1539.24 Q1394.06 1535.29 1397.12 1533.41 Q1400.17 1531.54 1404.31 1531.54 Q1409.88 1531.54 1412.91 1535.45 Q1415.93 1539.33 1415.93 1546.53 L1415.93 1568.04 L1410.04 1568.04 L1410.04 1546.72 Q1410.04 1541.59 1408.23 1539.11 Q1406.41 1536.63 1402.69 1536.63 Q1398.14 1536.63 1395.5 1539.65 Q1392.85 1542.68 1392.85 1547.9 L1392.85 1568.04 L1386.97 1568.04 L1386.97 1546.72 Q1386.97 1541.56 1385.15 1539.11 Q1383.34 1536.63 1379.55 1536.63 Q1375.06 1536.63 1372.42 1539.68 Q1369.78 1542.71 1369.78 1547.9 L1369.78 1568.04 L1363.89 1568.04 L1363.89 1532.4 L1369.78 1532.4 L1369.78 1537.93 Q1371.78 1534.66 1374.58 1533.1 Q1377.39 1531.54 1381.24 1531.54 Q1385.12 1531.54 1387.83 1533.51 Q1390.56 1535.48 1391.87 1539.24 Z\" fill=\"#000000\" fill-rule=\"nonzero\" fill-opacity=\"1\" /><path clip-path=\"url(#clip600)\" d=\"M1450.34 1533.45 L1450.34 1538.98 Q1447.85 1537.71 1445.18 1537.07 Q1442.51 1536.44 1439.64 1536.44 Q1435.28 1536.44 1433.09 1537.77 Q1430.92 1539.11 1430.92 1541.79 Q1430.92 1543.82 1432.48 1545 Q1434.04 1546.15 1438.75 1547.2 L1440.76 1547.64 Q1446.99 1548.98 1449.6 1551.43 Q1452.25 1553.85 1452.25 1558.21 Q1452.25 1563.17 1448.3 1566.07 Q1444.38 1568.97 1437.51 1568.97 Q1434.65 1568.97 1431.53 1568.39 Q1428.44 1567.85 1425 1566.74 L1425 1560.69 Q1428.25 1562.38 1431.4 1563.24 Q1434.55 1564.07 1437.64 1564.07 Q1441.77 1564.07 1444 1562.66 Q1446.23 1561.23 1446.23 1558.65 Q1446.23 1556.27 1444.61 1554.99 Q1443.02 1553.72 1437.57 1552.54 L1435.54 1552.07 Q1430.09 1550.92 1427.67 1548.56 Q1425.26 1546.18 1425.26 1542.04 Q1425.26 1537.01 1428.82 1534.27 Q1432.39 1531.54 1438.94 1531.54 Q1442.19 1531.54 1445.05 1532.01 Q1447.92 1532.49 1450.34 1533.45 Z\" fill=\"#000000\" fill-rule=\"nonzero\" fill-opacity=\"1\" /><polyline clip-path=\"url(#clip602)\" style=\"stroke:#000000; stroke-linecap:round; stroke-linejoin:round; stroke-width:2; stroke-opacity:0.1; fill:none\" points=\"202.227,1423.18 2352.76,1423.18 \"/>\n",
       "<polyline clip-path=\"url(#clip602)\" style=\"stroke:#000000; stroke-linecap:round; stroke-linejoin:round; stroke-width:2; stroke-opacity:0.1; fill:none\" points=\"202.227,1235.98 2352.76,1235.98 \"/>\n",
       "<polyline clip-path=\"url(#clip602)\" style=\"stroke:#000000; stroke-linecap:round; stroke-linejoin:round; stroke-width:2; stroke-opacity:0.1; fill:none\" points=\"202.227,1048.77 2352.76,1048.77 \"/>\n",
       "<polyline clip-path=\"url(#clip602)\" style=\"stroke:#000000; stroke-linecap:round; stroke-linejoin:round; stroke-width:2; stroke-opacity:0.1; fill:none\" points=\"202.227,861.568 2352.76,861.568 \"/>\n",
       "<polyline clip-path=\"url(#clip602)\" style=\"stroke:#000000; stroke-linecap:round; stroke-linejoin:round; stroke-width:2; stroke-opacity:0.1; fill:none\" points=\"202.227,674.364 2352.76,674.364 \"/>\n",
       "<polyline clip-path=\"url(#clip602)\" style=\"stroke:#000000; stroke-linecap:round; stroke-linejoin:round; stroke-width:2; stroke-opacity:0.1; fill:none\" points=\"202.227,487.16 2352.76,487.16 \"/>\n",
       "<polyline clip-path=\"url(#clip602)\" style=\"stroke:#000000; stroke-linecap:round; stroke-linejoin:round; stroke-width:2; stroke-opacity:0.1; fill:none\" points=\"202.227,299.956 2352.76,299.956 \"/>\n",
       "<polyline clip-path=\"url(#clip600)\" style=\"stroke:#000000; stroke-linecap:round; stroke-linejoin:round; stroke-width:4; stroke-opacity:1; fill:none\" points=\"202.227,1423.18 202.227,123.472 \"/>\n",
       "<polyline clip-path=\"url(#clip600)\" style=\"stroke:#000000; stroke-linecap:round; stroke-linejoin:round; stroke-width:4; stroke-opacity:1; fill:none\" points=\"202.227,1423.18 221.125,1423.18 \"/>\n",
       "<polyline clip-path=\"url(#clip600)\" style=\"stroke:#000000; stroke-linecap:round; stroke-linejoin:round; stroke-width:4; stroke-opacity:1; fill:none\" points=\"202.227,1235.98 221.125,1235.98 \"/>\n",
       "<polyline clip-path=\"url(#clip600)\" style=\"stroke:#000000; stroke-linecap:round; stroke-linejoin:round; stroke-width:4; stroke-opacity:1; fill:none\" points=\"202.227,1048.77 221.125,1048.77 \"/>\n",
       "<polyline clip-path=\"url(#clip600)\" style=\"stroke:#000000; stroke-linecap:round; stroke-linejoin:round; stroke-width:4; stroke-opacity:1; fill:none\" points=\"202.227,861.568 221.125,861.568 \"/>\n",
       "<polyline clip-path=\"url(#clip600)\" style=\"stroke:#000000; stroke-linecap:round; stroke-linejoin:round; stroke-width:4; stroke-opacity:1; fill:none\" points=\"202.227,674.364 221.125,674.364 \"/>\n",
       "<polyline clip-path=\"url(#clip600)\" style=\"stroke:#000000; stroke-linecap:round; stroke-linejoin:round; stroke-width:4; stroke-opacity:1; fill:none\" points=\"202.227,487.16 221.125,487.16 \"/>\n",
       "<polyline clip-path=\"url(#clip600)\" style=\"stroke:#000000; stroke-linecap:round; stroke-linejoin:round; stroke-width:4; stroke-opacity:1; fill:none\" points=\"202.227,299.956 221.125,299.956 \"/>\n",
       "<path clip-path=\"url(#clip600)\" d=\"M154.283 1408.98 Q150.672 1408.98 148.843 1412.54 Q147.038 1416.08 147.038 1423.21 Q147.038 1430.32 148.843 1433.89 Q150.672 1437.43 154.283 1437.43 Q157.917 1437.43 159.723 1433.89 Q161.552 1430.32 161.552 1423.21 Q161.552 1416.08 159.723 1412.54 Q157.917 1408.98 154.283 1408.98 M154.283 1405.27 Q160.093 1405.27 163.149 1409.88 Q166.227 1414.46 166.227 1423.21 Q166.227 1431.94 163.149 1436.55 Q160.093 1441.13 154.283 1441.13 Q148.473 1441.13 145.394 1436.55 Q142.339 1431.94 142.339 1423.21 Q142.339 1414.46 145.394 1409.88 Q148.473 1405.27 154.283 1405.27 Z\" fill=\"#000000\" fill-rule=\"nonzero\" fill-opacity=\"1\" /><path clip-path=\"url(#clip600)\" d=\"M149.908 1249.32 L166.227 1249.32 L166.227 1253.26 L144.283 1253.26 L144.283 1249.32 Q146.945 1246.57 151.528 1241.94 Q156.135 1237.28 157.315 1235.94 Q159.561 1233.42 160.44 1231.68 Q161.343 1229.92 161.343 1228.23 Q161.343 1225.48 159.399 1223.74 Q157.478 1222.01 154.376 1222.01 Q152.177 1222.01 149.723 1222.77 Q147.292 1223.53 144.515 1225.08 L144.515 1220.36 Q147.339 1219.23 149.792 1218.65 Q152.246 1218.07 154.283 1218.07 Q159.653 1218.07 162.848 1220.76 Q166.042 1223.44 166.042 1227.93 Q166.042 1230.06 165.232 1231.98 Q164.445 1233.88 162.339 1236.47 Q161.76 1237.14 158.658 1240.36 Q155.556 1243.56 149.908 1249.32 Z\" fill=\"#000000\" fill-rule=\"nonzero\" fill-opacity=\"1\" /><path clip-path=\"url(#clip600)\" d=\"M156.644 1035.57 L144.839 1054.01 L156.644 1054.01 L156.644 1035.57 M155.417 1031.49 L161.297 1031.49 L161.297 1054.01 L166.227 1054.01 L166.227 1057.9 L161.297 1057.9 L161.297 1066.05 L156.644 1066.05 L156.644 1057.9 L141.042 1057.9 L141.042 1053.39 L155.417 1031.49 Z\" fill=\"#000000\" fill-rule=\"nonzero\" fill-opacity=\"1\" /><path clip-path=\"url(#clip600)\" d=\"M154.7 859.704 Q151.552 859.704 149.7 861.857 Q147.871 864.01 147.871 867.76 Q147.871 871.487 149.7 873.663 Q151.552 875.816 154.7 875.816 Q157.848 875.816 159.677 873.663 Q161.528 871.487 161.528 867.76 Q161.528 864.01 159.677 861.857 Q157.848 859.704 154.7 859.704 M163.982 845.052 L163.982 849.311 Q162.223 848.478 160.417 848.038 Q158.635 847.598 156.876 847.598 Q152.246 847.598 149.792 850.723 Q147.362 853.848 147.015 860.167 Q148.38 858.154 150.441 857.089 Q152.501 856.001 154.978 856.001 Q160.186 856.001 163.195 859.172 Q166.227 862.32 166.227 867.76 Q166.227 873.084 163.079 876.302 Q159.931 879.519 154.7 879.519 Q148.704 879.519 145.533 874.936 Q142.362 870.329 142.362 861.603 Q142.362 853.408 146.251 848.547 Q150.14 843.663 156.69 843.663 Q158.45 843.663 160.232 844.01 Q162.038 844.357 163.982 845.052 Z\" fill=\"#000000\" fill-rule=\"nonzero\" fill-opacity=\"1\" /><path clip-path=\"url(#clip600)\" d=\"M154.376 675.232 Q151.042 675.232 149.121 677.014 Q147.223 678.797 147.223 681.922 Q147.223 685.047 149.121 686.829 Q151.042 688.612 154.376 688.612 Q157.709 688.612 159.63 686.829 Q161.552 685.024 161.552 681.922 Q161.552 678.797 159.63 677.014 Q157.732 675.232 154.376 675.232 M149.7 673.241 Q146.691 672.501 145.001 670.44 Q143.334 668.38 143.334 665.417 Q143.334 661.274 146.274 658.866 Q149.237 656.459 154.376 656.459 Q159.538 656.459 162.477 658.866 Q165.417 661.274 165.417 665.417 Q165.417 668.38 163.727 670.44 Q162.061 672.501 159.075 673.241 Q162.454 674.028 164.329 676.32 Q166.227 678.612 166.227 681.922 Q166.227 686.945 163.149 689.63 Q160.093 692.315 154.376 692.315 Q148.658 692.315 145.579 689.63 Q142.524 686.945 142.524 681.922 Q142.524 678.612 144.422 676.32 Q146.32 674.028 149.7 673.241 M147.987 665.857 Q147.987 668.542 149.653 670.047 Q151.343 671.551 154.376 671.551 Q157.385 671.551 159.075 670.047 Q160.788 668.542 160.788 665.857 Q160.788 663.172 159.075 661.667 Q157.385 660.163 154.376 660.163 Q151.343 660.163 149.653 661.667 Q147.987 663.172 147.987 665.857 Z\" fill=\"#000000\" fill-rule=\"nonzero\" fill-opacity=\"1\" /><path clip-path=\"url(#clip600)\" d=\"M114.931 500.505 L122.57 500.505 L122.57 474.139 L114.26 475.806 L114.26 471.547 L122.524 469.88 L127.2 469.88 L127.2 500.505 L134.839 500.505 L134.839 504.44 L114.931 504.44 L114.931 500.505 Z\" fill=\"#000000\" fill-rule=\"nonzero\" fill-opacity=\"1\" /><path clip-path=\"url(#clip600)\" d=\"M154.283 472.959 Q150.672 472.959 148.843 476.523 Q147.038 480.065 147.038 487.195 Q147.038 494.301 148.843 497.866 Q150.672 501.408 154.283 501.408 Q157.917 501.408 159.723 497.866 Q161.552 494.301 161.552 487.195 Q161.552 480.065 159.723 476.523 Q157.917 472.959 154.283 472.959 M154.283 469.255 Q160.093 469.255 163.149 473.861 Q166.227 478.445 166.227 487.195 Q166.227 495.921 163.149 500.528 Q160.093 505.111 154.283 505.111 Q148.473 505.111 145.394 500.528 Q142.339 495.921 142.339 487.195 Q142.339 478.445 145.394 473.861 Q148.473 469.255 154.283 469.255 Z\" fill=\"#000000\" fill-rule=\"nonzero\" fill-opacity=\"1\" /><path clip-path=\"url(#clip600)\" d=\"M116.529 313.301 L124.168 313.301 L124.168 286.935 L115.857 288.602 L115.857 284.343 L124.121 282.676 L128.797 282.676 L128.797 313.301 L136.436 313.301 L136.436 317.236 L116.529 317.236 L116.529 313.301 Z\" fill=\"#000000\" fill-rule=\"nonzero\" fill-opacity=\"1\" /><path clip-path=\"url(#clip600)\" d=\"M149.908 313.301 L166.227 313.301 L166.227 317.236 L144.283 317.236 L144.283 313.301 Q146.945 310.546 151.528 305.917 Q156.135 301.264 157.315 299.921 Q159.561 297.398 160.44 295.662 Q161.343 293.903 161.343 292.213 Q161.343 289.458 159.399 287.722 Q157.478 285.986 154.376 285.986 Q152.177 285.986 149.723 286.75 Q147.292 287.514 144.515 289.065 L144.515 284.343 Q147.339 283.208 149.792 282.63 Q152.246 282.051 154.283 282.051 Q159.653 282.051 162.848 284.736 Q166.042 287.421 166.042 291.912 Q166.042 294.042 165.232 295.963 Q164.445 297.861 162.339 300.454 Q161.76 301.125 158.658 304.343 Q155.556 307.537 149.908 313.301 Z\" fill=\"#000000\" fill-rule=\"nonzero\" fill-opacity=\"1\" /><path clip-path=\"url(#clip600)\" d=\"M16.4842 1042.47 L16.4842 1032.89 L48.8219 1020.76 L16.4842 1008.57 L16.4842 998.99 L64.0042 998.99 L64.0042 1005.26 L22.277 1005.26 L54.8694 1017.51 L54.8694 1023.98 L22.277 1036.23 L64.0042 1036.23 L64.0042 1042.47 L16.4842 1042.47 Z\" fill=\"#000000\" fill-rule=\"nonzero\" fill-opacity=\"1\" /><path clip-path=\"url(#clip600)\" d=\"M28.3562 986.482 L28.3562 980.625 L64.0042 980.625 L64.0042 986.482 L28.3562 986.482 M14.479 986.482 L14.479 980.625 L21.895 980.625 L21.895 986.482 L14.479 986.482 Z\" fill=\"#000000\" fill-rule=\"nonzero\" fill-opacity=\"1\" /><path clip-path=\"url(#clip600)\" d=\"M42.4881 938.739 L64.0042 938.739 L64.0042 944.595 L42.679 944.595 Q37.6183 944.595 35.1038 946.569 Q32.5894 948.542 32.5894 952.489 Q32.5894 957.231 35.6131 959.969 Q38.6368 962.706 43.8567 962.706 L64.0042 962.706 L64.0042 968.594 L28.3562 968.594 L28.3562 962.706 L33.8944 962.706 Q30.6797 960.605 29.0883 957.772 Q27.4968 954.908 27.4968 951.184 Q27.4968 945.041 31.3163 941.89 Q35.1038 938.739 42.4881 938.739 Z\" fill=\"#000000\" fill-rule=\"nonzero\" fill-opacity=\"1\" /><path clip-path=\"url(#clip600)\" d=\"M16.4842 906.083 L16.4842 897.425 L56.238 876.355 L16.4842 876.355 L16.4842 870.117 L64.0042 870.117 L64.0042 878.774 L24.2503 899.844 L64.0042 899.844 L64.0042 906.083 L16.4842 906.083 Z\" fill=\"#000000\" fill-rule=\"nonzero\" fill-opacity=\"1\" /><path clip-path=\"url(#clip600)\" d=\"M32.4621 843.763 Q32.4621 848.473 36.1542 851.21 Q39.8145 853.948 46.212 853.948 Q52.6095 853.948 56.3017 851.242 Q59.9619 848.505 59.9619 843.763 Q59.9619 839.084 56.2698 836.346 Q52.5777 833.609 46.212 833.609 Q39.8781 833.609 36.186 836.346 Q32.4621 839.084 32.4621 843.763 M27.4968 843.763 Q27.4968 836.124 32.4621 831.763 Q37.4273 827.403 46.212 827.403 Q54.9649 827.403 59.9619 831.763 Q64.9272 836.124 64.9272 843.763 Q64.9272 851.433 59.9619 855.794 Q54.9649 860.122 46.212 860.122 Q37.4273 860.122 32.4621 855.794 Q27.4968 851.433 27.4968 843.763 Z\" fill=\"#000000\" fill-rule=\"nonzero\" fill-opacity=\"1\" /><path clip-path=\"url(#clip600)\" d=\"M33.8307 797.038 Q33.2578 798.025 33.0032 799.203 Q32.7167 800.348 32.7167 801.749 Q32.7167 806.714 35.9632 809.388 Q39.1779 812.029 45.2253 812.029 L64.0042 812.029 L64.0042 817.918 L28.3562 817.918 L28.3562 812.029 L33.8944 812.029 Q30.6479 810.183 29.0883 807.223 Q27.4968 804.263 27.4968 800.03 Q27.4968 799.425 27.5923 798.693 Q27.656 797.961 27.8151 797.07 L33.8307 797.038 Z\" fill=\"#000000\" fill-rule=\"nonzero\" fill-opacity=\"1\" /><path clip-path=\"url(#clip600)\" d=\"M35.1993 764.287 Q31.2526 762.091 29.3747 759.035 Q27.4968 755.979 27.4968 751.842 Q27.4968 746.272 31.4117 743.248 Q35.2948 740.224 42.4881 740.224 L64.0042 740.224 L64.0042 746.113 L42.679 746.113 Q37.5546 746.113 35.072 747.927 Q32.5894 749.741 32.5894 753.465 Q32.5894 758.016 35.6131 760.658 Q38.6368 763.3 43.8567 763.3 L64.0042 763.3 L64.0042 769.188 L42.679 769.188 Q37.5228 769.188 35.072 771.003 Q32.5894 772.817 32.5894 776.604 Q32.5894 781.092 35.6449 783.734 Q38.6686 786.376 43.8567 786.376 L64.0042 786.376 L64.0042 792.264 L28.3562 792.264 L28.3562 786.376 L33.8944 786.376 Q30.616 784.37 29.0564 781.57 Q27.4968 778.769 27.4968 774.917 Q27.4968 771.034 29.4702 768.329 Q31.4436 765.592 35.1993 764.287 Z\" fill=\"#000000\" fill-rule=\"nonzero\" fill-opacity=\"1\" /><path clip-path=\"url(#clip600)\" d=\"M64.0042 695.314 L16.4842 713.457 L16.4842 706.741 L56.4926 691.686 L16.4842 676.599 L16.4842 669.915 L64.0042 688.026 L64.0042 695.314 Z\" fill=\"#000000\" fill-rule=\"nonzero\" fill-opacity=\"1\" /><path clip-path=\"url(#clip600)\" d=\"M46.0847 652.091 Q46.0847 659.189 47.7079 661.926 Q49.3312 664.663 53.2461 664.663 Q56.3653 664.663 58.2114 662.626 Q60.0256 660.557 60.0256 657.025 Q60.0256 652.155 56.5881 649.227 Q53.1188 646.266 47.3897 646.266 L46.0847 646.266 L46.0847 652.091 M43.6657 640.41 L64.0042 640.41 L64.0042 646.266 L58.5933 646.266 Q61.8398 648.272 63.3994 651.264 Q64.9272 654.255 64.9272 658.584 Q64.9272 664.059 61.8716 667.305 Q58.7843 670.52 53.6281 670.52 Q47.6125 670.52 44.5569 666.509 Q41.5014 662.467 41.5014 654.478 L41.5014 646.266 L40.9285 646.266 Q36.8862 646.266 34.6901 648.94 Q32.4621 651.582 32.4621 656.388 Q32.4621 659.443 33.1941 662.34 Q33.9262 665.236 35.3903 667.91 L29.9795 667.91 Q28.7381 664.695 28.1334 661.671 Q27.4968 658.648 27.4968 655.783 Q27.4968 648.049 31.5072 644.229 Q35.5176 640.41 43.6657 640.41 Z\" fill=\"#000000\" fill-rule=\"nonzero\" fill-opacity=\"1\" /><path clip-path=\"url(#clip600)\" d=\"M14.479 628.347 L14.479 622.491 L64.0042 622.491 L64.0042 628.347 L14.479 628.347 Z\" fill=\"#000000\" fill-rule=\"nonzero\" fill-opacity=\"1\" /><path clip-path=\"url(#clip600)\" d=\"M49.9359 610.841 L28.3562 610.841 L28.3562 604.985 L49.7131 604.985 Q54.7739 604.985 57.3202 603.012 Q59.8346 601.038 59.8346 597.091 Q59.8346 592.349 56.8109 589.612 Q53.7872 586.843 48.5673 586.843 L28.3562 586.843 L28.3562 580.986 L64.0042 580.986 L64.0042 586.843 L58.5296 586.843 Q61.7762 588.975 63.3676 591.808 Q64.9272 594.609 64.9272 598.333 Q64.9272 604.476 61.1078 607.658 Q57.2883 610.841 49.9359 610.841 M27.4968 596.105 L27.4968 596.105 Z\" fill=\"#000000\" fill-rule=\"nonzero\" fill-opacity=\"1\" /><path clip-path=\"url(#clip600)\" d=\"M44.7161 538.431 L47.5806 538.431 L47.5806 565.358 Q53.6281 564.976 56.8109 561.73 Q59.9619 558.452 59.9619 552.627 Q59.9619 549.253 59.1344 546.102 Q58.3069 542.919 56.6518 539.8 L62.1899 539.8 Q63.5267 542.951 64.227 546.261 Q64.9272 549.571 64.9272 552.977 Q64.9272 561.507 59.9619 566.504 Q54.9967 571.469 46.5303 571.469 Q37.7774 571.469 32.6531 566.759 Q27.4968 562.016 27.4968 553.996 Q27.4968 546.802 32.1438 542.633 Q36.7589 538.431 44.7161 538.431 M42.9973 544.288 Q38.1912 544.352 35.3266 546.993 Q32.4621 549.603 32.4621 553.932 Q32.4621 558.833 35.2312 561.794 Q38.0002 564.722 43.0292 565.167 L42.9973 544.288 Z\" fill=\"#000000\" fill-rule=\"nonzero\" fill-opacity=\"1\" /><path clip-path=\"url(#clip600)\" d=\"M29.4065 506.094 L34.9447 506.094 Q33.6716 508.576 33.035 511.25 Q32.3984 513.923 32.3984 516.788 Q32.3984 521.149 33.7352 523.345 Q35.072 525.509 37.7456 525.509 Q39.7826 525.509 40.9603 523.949 Q42.1061 522.39 43.1565 517.679 L43.6021 515.674 Q44.9389 509.436 47.3897 506.826 Q49.8086 504.184 54.1691 504.184 Q59.1344 504.184 62.0308 508.131 Q64.9272 512.046 64.9272 518.921 Q64.9272 521.785 64.3543 524.904 Q63.8132 527.992 62.6992 531.429 L56.6518 531.429 Q58.3387 528.183 59.198 525.032 Q60.0256 521.881 60.0256 518.793 Q60.0256 514.655 58.6251 512.427 Q57.1929 510.2 54.6147 510.2 Q52.2276 510.2 50.9545 511.823 Q49.6813 513.414 48.5037 518.857 L48.0262 520.894 Q46.8804 526.337 44.5251 528.756 Q42.138 531.175 38.0002 531.175 Q32.9713 531.175 30.2341 527.61 Q27.4968 524.045 27.4968 517.488 Q27.4968 514.242 27.9743 511.377 Q28.4517 508.513 29.4065 506.094 Z\" fill=\"#000000\" fill-rule=\"nonzero\" fill-opacity=\"1\" /><path clip-path=\"url(#clip600)\" d=\"M436.22 12.096 L444.403 12.096 L444.403 72.576 L436.22 72.576 L436.22 12.096 Z\" fill=\"#000000\" fill-rule=\"nonzero\" fill-opacity=\"1\" /><path clip-path=\"url(#clip600)\" d=\"M495.687 35.9153 Q498.483 30.8922 502.371 28.5022 Q506.26 26.1121 511.526 26.1121 Q518.616 26.1121 522.464 31.0947 Q526.312 36.0368 526.312 45.1919 L526.312 72.576 L518.818 72.576 L518.818 45.4349 Q518.818 38.913 516.509 35.7533 Q514.2 32.5936 509.461 32.5936 Q503.668 32.5936 500.305 36.4419 Q496.943 40.2903 496.943 46.9338 L496.943 72.576 L489.449 72.576 L489.449 45.4349 Q489.449 38.8725 487.14 35.7533 Q484.831 32.5936 480.01 32.5936 Q474.299 32.5936 470.936 36.4824 Q467.574 40.3308 467.574 46.9338 L467.574 72.576 L460.08 72.576 L460.08 27.2059 L467.574 27.2059 L467.574 34.2544 Q470.126 30.082 473.691 28.0971 Q477.256 26.1121 482.157 26.1121 Q487.1 26.1121 490.543 28.6237 Q494.027 31.1352 495.687 35.9153 Z\" fill=\"#000000\" fill-rule=\"nonzero\" fill-opacity=\"1\" /><path clip-path=\"url(#clip600)\" d=\"M561.798 49.7694 Q552.765 49.7694 549.281 51.8354 Q545.797 53.9013 545.797 58.8839 Q545.797 62.8538 548.39 65.2034 Q551.023 67.5124 555.519 67.5124 Q561.717 67.5124 565.444 63.1374 Q569.211 58.7219 569.211 51.4303 L569.211 49.7694 L561.798 49.7694 M576.665 46.6907 L576.665 72.576 L569.211 72.576 L569.211 65.6895 Q566.659 69.8214 562.851 71.8063 Q559.044 73.7508 553.534 73.7508 Q546.567 73.7508 542.435 69.8619 Q538.343 65.9325 538.343 59.3701 Q538.343 51.7138 543.448 47.825 Q548.592 43.9361 558.76 43.9361 L569.211 43.9361 L569.211 43.2069 Q569.211 38.0623 565.809 35.2672 Q562.446 32.4315 556.329 32.4315 Q552.441 32.4315 548.754 33.3632 Q545.068 34.295 541.665 36.1584 L541.665 29.2718 Q545.757 27.692 549.605 26.9223 Q553.453 26.1121 557.099 26.1121 Q566.943 26.1121 571.804 31.2163 Q576.665 36.3204 576.665 46.6907 Z\" fill=\"#000000\" fill-rule=\"nonzero\" fill-opacity=\"1\" /><path clip-path=\"url(#clip600)\" d=\"M621.873 49.3643 Q621.873 41.2625 618.511 36.8065 Q615.189 32.3505 609.153 32.3505 Q603.158 32.3505 599.796 36.8065 Q596.474 41.2625 596.474 49.3643 Q596.474 57.4256 599.796 61.8816 Q603.158 66.3376 609.153 66.3376 Q615.189 66.3376 618.511 61.8816 Q621.873 57.4256 621.873 49.3643 M629.327 66.9452 Q629.327 78.5308 624.182 84.1616 Q619.037 89.8329 608.424 89.8329 Q604.495 89.8329 601.011 89.2252 Q597.527 88.6581 594.246 87.4428 L594.246 80.1917 Q597.527 81.9741 600.727 82.8248 Q603.928 83.6755 607.249 83.6755 Q614.581 83.6755 618.227 79.8271 Q621.873 76.0193 621.873 68.282 L621.873 64.5957 Q619.564 68.6061 615.959 70.5911 Q612.353 72.576 607.33 72.576 Q598.985 72.576 593.881 66.2161 Q588.777 59.8562 588.777 49.3643 Q588.777 38.832 593.881 32.472 Q598.985 26.1121 607.33 26.1121 Q612.353 26.1121 615.959 28.0971 Q619.564 30.082 621.873 34.0924 L621.873 27.2059 L629.327 27.2059 L629.327 66.9452 Z\" fill=\"#000000\" fill-rule=\"nonzero\" fill-opacity=\"1\" /><path clip-path=\"url(#clip600)\" d=\"M683.487 48.0275 L683.487 51.6733 L649.217 51.6733 Q649.703 59.3701 653.835 63.421 Q658.007 67.4314 665.42 67.4314 Q669.714 67.4314 673.725 66.3781 Q677.776 65.3249 681.745 63.2184 L681.745 70.267 Q677.735 71.9684 673.522 72.8596 Q669.309 73.7508 664.975 73.7508 Q654.118 73.7508 647.758 67.4314 Q641.439 61.1119 641.439 50.3365 Q641.439 39.1965 647.434 32.6746 Q653.47 26.1121 663.678 26.1121 Q672.833 26.1121 678.14 32.0264 Q683.487 37.9003 683.487 48.0275 M676.034 45.84 Q675.953 39.7232 672.59 36.0774 Q669.269 32.4315 663.759 32.4315 Q657.521 32.4315 653.754 35.9558 Q650.027 39.4801 649.46 45.8805 L676.034 45.84 Z\" fill=\"#000000\" fill-rule=\"nonzero\" fill-opacity=\"1\" /><path clip-path=\"url(#clip600)\" d=\"M730.599 18.8205 L730.599 65.8515 L740.484 65.8515 Q753.001 65.8515 758.794 60.1802 Q764.627 54.509 764.627 42.2752 Q764.627 30.1225 758.794 24.4918 Q753.001 18.8205 740.484 18.8205 L730.599 18.8205 M722.417 12.096 L739.228 12.096 Q756.809 12.096 765.032 19.4281 Q773.255 26.7198 773.255 42.2752 Q773.255 57.9117 764.992 65.2439 Q756.728 72.576 739.228 72.576 L722.417 72.576 L722.417 12.096 Z\" fill=\"#000000\" fill-rule=\"nonzero\" fill-opacity=\"1\" /><path clip-path=\"url(#clip600)\" d=\"M824.783 48.0275 L824.783 51.6733 L790.512 51.6733 Q790.998 59.3701 795.13 63.421 Q799.303 67.4314 806.716 67.4314 Q811.01 67.4314 815.02 66.3781 Q819.071 65.3249 823.041 63.2184 L823.041 70.267 Q819.031 71.9684 814.818 72.8596 Q810.605 73.7508 806.27 73.7508 Q795.414 73.7508 789.054 67.4314 Q782.735 61.1119 782.735 50.3365 Q782.735 39.1965 788.73 32.6746 Q794.766 26.1121 804.974 26.1121 Q814.129 26.1121 819.436 32.0264 Q824.783 37.9003 824.783 48.0275 M817.329 45.84 Q817.248 39.7232 813.886 36.0774 Q810.564 32.4315 805.055 32.4315 Q798.817 32.4315 795.049 35.9558 Q791.322 39.4801 790.755 45.8805 L817.329 45.84 Z\" fill=\"#000000\" fill-rule=\"nonzero\" fill-opacity=\"1\" /><path clip-path=\"url(#clip600)\" d=\"M874.731 45.1919 L874.731 72.576 L867.277 72.576 L867.277 45.4349 Q867.277 38.994 864.765 35.7938 Q862.254 32.5936 857.231 32.5936 Q851.195 32.5936 847.711 36.4419 Q844.227 40.2903 844.227 46.9338 L844.227 72.576 L836.733 72.576 L836.733 27.2059 L844.227 27.2059 L844.227 34.2544 Q846.901 30.163 850.506 28.1376 Q854.152 26.1121 858.892 26.1121 Q866.71 26.1121 870.72 30.9732 Q874.731 35.7938 874.731 45.1919 Z\" fill=\"#000000\" fill-rule=\"nonzero\" fill-opacity=\"1\" /><path clip-path=\"url(#clip600)\" d=\"M907.178 32.4315 Q901.183 32.4315 897.699 37.1306 Q894.215 41.7891 894.215 49.9314 Q894.215 58.0738 897.659 62.7728 Q901.142 67.4314 907.178 67.4314 Q913.133 67.4314 916.617 62.7323 Q920.101 58.0333 920.101 49.9314 Q920.101 41.8701 916.617 37.1711 Q913.133 32.4315 907.178 32.4315 M907.178 26.1121 Q916.9 26.1121 922.45 32.4315 Q928 38.7509 928 49.9314 Q928 61.0714 922.45 67.4314 Q916.9 73.7508 907.178 73.7508 Q897.416 73.7508 891.866 67.4314 Q886.357 61.0714 886.357 49.9314 Q886.357 38.7509 891.866 32.4315 Q897.416 26.1121 907.178 26.1121 Z\" fill=\"#000000\" fill-rule=\"nonzero\" fill-opacity=\"1\" /><path clip-path=\"url(#clip600)\" d=\"M940.355 27.2059 L947.809 27.2059 L947.809 72.576 L940.355 72.576 L940.355 27.2059 M940.355 9.54393 L947.809 9.54393 L947.809 18.9825 L940.355 18.9825 L940.355 9.54393 Z\" fill=\"#000000\" fill-rule=\"nonzero\" fill-opacity=\"1\" /><path clip-path=\"url(#clip600)\" d=\"M992.328 28.5427 L992.328 35.5912 Q989.169 33.9709 985.766 33.1607 Q982.363 32.3505 978.717 32.3505 Q973.168 32.3505 970.372 34.0519 Q967.618 35.7533 967.618 39.156 Q967.618 41.7486 969.603 43.2475 Q971.588 44.7058 977.583 46.0426 L980.135 46.6097 Q988.075 48.3111 991.397 51.4303 Q994.759 54.509 994.759 60.0587 Q994.759 66.3781 989.736 70.0644 Q984.753 73.7508 976.003 73.7508 Q972.357 73.7508 968.387 73.0216 Q964.458 72.3329 960.083 70.9151 L960.083 63.2184 Q964.215 65.3654 968.225 66.4591 Q972.236 67.5124 976.165 67.5124 Q981.431 67.5124 984.267 65.73 Q987.103 63.9071 987.103 60.6258 Q987.103 57.5877 985.037 55.9673 Q983.011 54.3469 976.084 52.8481 L973.492 52.2405 Q966.565 50.7821 963.486 47.7845 Q960.407 44.7463 960.407 39.4801 Q960.407 33.0797 964.944 29.5959 Q969.481 26.1121 977.826 26.1121 Q981.958 26.1121 985.604 26.7198 Q989.25 27.3274 992.328 28.5427 Z\" fill=\"#000000\" fill-rule=\"nonzero\" fill-opacity=\"1\" /><path clip-path=\"url(#clip600)\" d=\"M1006.63 27.2059 L1014.08 27.2059 L1014.08 72.576 L1006.63 72.576 L1006.63 27.2059 M1006.63 9.54393 L1014.08 9.54393 L1014.08 18.9825 L1006.63 18.9825 L1006.63 9.54393 Z\" fill=\"#000000\" fill-rule=\"nonzero\" fill-opacity=\"1\" /><path clip-path=\"url(#clip600)\" d=\"M1067.39 45.1919 L1067.39 72.576 L1059.94 72.576 L1059.94 45.4349 Q1059.94 38.994 1057.43 35.7938 Q1054.91 32.5936 1049.89 32.5936 Q1043.86 32.5936 1040.37 36.4419 Q1036.89 40.2903 1036.89 46.9338 L1036.89 72.576 L1029.39 72.576 L1029.39 27.2059 L1036.89 27.2059 L1036.89 34.2544 Q1039.56 30.163 1043.17 28.1376 Q1046.81 26.1121 1051.55 26.1121 Q1059.37 26.1121 1063.38 30.9732 Q1067.39 35.7938 1067.39 45.1919 Z\" fill=\"#000000\" fill-rule=\"nonzero\" fill-opacity=\"1\" /><path clip-path=\"url(#clip600)\" d=\"M1112.11 49.3643 Q1112.11 41.2625 1108.75 36.8065 Q1105.43 32.3505 1099.39 32.3505 Q1093.4 32.3505 1090.04 36.8065 Q1086.71 41.2625 1086.71 49.3643 Q1086.71 57.4256 1090.04 61.8816 Q1093.4 66.3376 1099.39 66.3376 Q1105.43 66.3376 1108.75 61.8816 Q1112.11 57.4256 1112.11 49.3643 M1119.57 66.9452 Q1119.57 78.5308 1114.42 84.1616 Q1109.28 89.8329 1098.66 89.8329 Q1094.74 89.8329 1091.25 89.2252 Q1087.77 88.6581 1084.49 87.4428 L1084.49 80.1917 Q1087.77 81.9741 1090.97 82.8248 Q1094.17 83.6755 1097.49 83.6755 Q1104.82 83.6755 1108.47 79.8271 Q1112.11 76.0193 1112.11 68.282 L1112.11 64.5957 Q1109.8 68.6061 1106.2 70.5911 Q1102.59 72.576 1097.57 72.576 Q1089.23 72.576 1084.12 66.2161 Q1079.02 59.8562 1079.02 49.3643 Q1079.02 38.832 1084.12 32.472 Q1089.23 26.1121 1097.57 26.1121 Q1102.59 26.1121 1106.2 28.0971 Q1109.8 30.082 1112.11 34.0924 L1112.11 27.2059 L1119.57 27.2059 L1119.57 66.9452 Z\" fill=\"#000000\" fill-rule=\"nonzero\" fill-opacity=\"1\" /><path clip-path=\"url(#clip600)\" d=\"M1186.16 17.6457 Q1177.25 17.6457 1171.99 24.2892 Q1166.76 30.9327 1166.76 42.3968 Q1166.76 53.8203 1171.99 60.4638 Q1177.25 67.1073 1186.16 67.1073 Q1195.08 67.1073 1200.26 60.4638 Q1205.49 53.8203 1205.49 42.3968 Q1205.49 30.9327 1200.26 24.2892 Q1195.08 17.6457 1186.16 17.6457 M1186.16 11.0023 Q1198.88 11.0023 1206.5 19.5497 Q1214.12 28.0566 1214.12 42.3968 Q1214.12 56.6965 1206.5 65.2439 Q1198.88 73.7508 1186.16 73.7508 Q1173.4 73.7508 1165.75 65.2439 Q1158.13 56.737 1158.13 42.3968 Q1158.13 28.0566 1165.75 19.5497 Q1173.4 11.0023 1186.16 11.0023 Z\" fill=\"#000000\" fill-rule=\"nonzero\" fill-opacity=\"1\" /><path clip-path=\"url(#clip600)\" d=\"M1233.8 65.7705 L1233.8 89.8329 L1226.31 89.8329 L1226.31 27.2059 L1233.8 27.2059 L1233.8 34.0924 Q1236.15 30.0415 1239.72 28.0971 Q1243.32 26.1121 1248.3 26.1121 Q1256.57 26.1121 1261.71 32.6746 Q1266.9 39.2371 1266.9 49.9314 Q1266.9 60.6258 1261.71 67.1883 Q1256.57 73.7508 1248.3 73.7508 Q1243.32 73.7508 1239.72 71.8063 Q1236.15 69.8214 1233.8 65.7705 M1259.16 49.9314 Q1259.16 41.7081 1255.76 37.0496 Q1252.4 32.3505 1246.48 32.3505 Q1240.57 32.3505 1237.16 37.0496 Q1233.8 41.7081 1233.8 49.9314 Q1233.8 58.1548 1237.16 62.8538 Q1240.57 67.5124 1246.48 67.5124 Q1252.4 67.5124 1255.76 62.8538 Q1259.16 58.1548 1259.16 49.9314 Z\" fill=\"#000000\" fill-rule=\"nonzero\" fill-opacity=\"1\" /><path clip-path=\"url(#clip600)\" d=\"M1286.63 14.324 L1286.63 27.2059 L1301.98 27.2059 L1301.98 32.9987 L1286.63 32.9987 L1286.63 57.6282 Q1286.63 63.1779 1288.13 64.7578 Q1289.66 66.3376 1294.32 66.3376 L1301.98 66.3376 L1301.98 72.576 L1294.32 72.576 Q1285.69 72.576 1282.41 69.3758 Q1279.13 66.1351 1279.13 57.6282 L1279.13 32.9987 L1273.66 32.9987 L1273.66 27.2059 L1279.13 27.2059 L1279.13 14.324 L1286.63 14.324 Z\" fill=\"#000000\" fill-rule=\"nonzero\" fill-opacity=\"1\" /><path clip-path=\"url(#clip600)\" d=\"M1311.78 27.2059 L1319.24 27.2059 L1319.24 72.576 L1311.78 72.576 L1311.78 27.2059 M1311.78 9.54393 L1319.24 9.54393 L1319.24 18.9825 L1311.78 18.9825 L1311.78 9.54393 Z\" fill=\"#000000\" fill-rule=\"nonzero\" fill-opacity=\"1\" /><path clip-path=\"url(#clip600)\" d=\"M1370.16 35.9153 Q1372.95 30.8922 1376.84 28.5022 Q1380.73 26.1121 1386 26.1121 Q1393.08 26.1121 1396.93 31.0947 Q1400.78 36.0368 1400.78 45.1919 L1400.78 72.576 L1393.29 72.576 L1393.29 45.4349 Q1393.29 38.913 1390.98 35.7533 Q1388.67 32.5936 1383.93 32.5936 Q1378.14 32.5936 1374.77 36.4419 Q1371.41 40.2903 1371.41 46.9338 L1371.41 72.576 L1363.92 72.576 L1363.92 45.4349 Q1363.92 38.8725 1361.61 35.7533 Q1359.3 32.5936 1354.48 32.5936 Q1348.77 32.5936 1345.41 36.4824 Q1342.04 40.3308 1342.04 46.9338 L1342.04 72.576 L1334.55 72.576 L1334.55 27.2059 L1342.04 27.2059 L1342.04 34.2544 Q1344.59 30.082 1348.16 28.0971 Q1351.72 26.1121 1356.63 26.1121 Q1361.57 26.1121 1365.01 28.6237 Q1368.5 31.1352 1370.16 35.9153 Z\" fill=\"#000000\" fill-rule=\"nonzero\" fill-opacity=\"1\" /><path clip-path=\"url(#clip600)\" d=\"M1415.65 27.2059 L1423.1 27.2059 L1423.1 72.576 L1415.65 72.576 L1415.65 27.2059 M1415.65 9.54393 L1423.1 9.54393 L1423.1 18.9825 L1415.65 18.9825 L1415.65 9.54393 Z\" fill=\"#000000\" fill-rule=\"nonzero\" fill-opacity=\"1\" /><path clip-path=\"url(#clip600)\" d=\"M1435.46 27.2059 L1470.86 27.2059 L1470.86 34.0114 L1442.83 66.6212 L1470.86 66.6212 L1470.86 72.576 L1434.44 72.576 L1434.44 65.7705 L1462.48 33.1607 L1435.46 33.1607 L1435.46 27.2059 Z\" fill=\"#000000\" fill-rule=\"nonzero\" fill-opacity=\"1\" /><path clip-path=\"url(#clip600)\" d=\"M1482.24 27.2059 L1489.7 27.2059 L1489.7 72.576 L1482.24 72.576 L1482.24 27.2059 M1482.24 9.54393 L1489.7 9.54393 L1489.7 18.9825 L1482.24 18.9825 L1482.24 9.54393 Z\" fill=\"#000000\" fill-rule=\"nonzero\" fill-opacity=\"1\" /><path clip-path=\"url(#clip600)\" d=\"M1543.01 45.1919 L1543.01 72.576 L1535.55 72.576 L1535.55 45.4349 Q1535.55 38.994 1533.04 35.7938 Q1530.53 32.5936 1525.51 32.5936 Q1519.47 32.5936 1515.99 36.4419 Q1512.5 40.2903 1512.5 46.9338 L1512.5 72.576 L1505.01 72.576 L1505.01 27.2059 L1512.5 27.2059 L1512.5 34.2544 Q1515.18 30.163 1518.78 28.1376 Q1522.43 26.1121 1527.17 26.1121 Q1534.99 26.1121 1539 30.9732 Q1543.01 35.7938 1543.01 45.1919 Z\" fill=\"#000000\" fill-rule=\"nonzero\" fill-opacity=\"1\" /><path clip-path=\"url(#clip600)\" d=\"M1587.73 49.3643 Q1587.73 41.2625 1584.37 36.8065 Q1581.05 32.3505 1575.01 32.3505 Q1569.02 32.3505 1565.65 36.8065 Q1562.33 41.2625 1562.33 49.3643 Q1562.33 57.4256 1565.65 61.8816 Q1569.02 66.3376 1575.01 66.3376 Q1581.05 66.3376 1584.37 61.8816 Q1587.73 57.4256 1587.73 49.3643 M1595.18 66.9452 Q1595.18 78.5308 1590.04 84.1616 Q1584.89 89.8329 1574.28 89.8329 Q1570.35 89.8329 1566.87 89.2252 Q1563.38 88.6581 1560.1 87.4428 L1560.1 80.1917 Q1563.38 81.9741 1566.58 82.8248 Q1569.78 83.6755 1573.11 83.6755 Q1580.44 83.6755 1584.08 79.8271 Q1587.73 76.0193 1587.73 68.282 L1587.73 64.5957 Q1585.42 68.6061 1581.82 70.5911 Q1578.21 72.576 1573.19 72.576 Q1564.84 72.576 1559.74 66.2161 Q1554.63 59.8562 1554.63 49.3643 Q1554.63 38.832 1559.74 32.472 Q1564.84 26.1121 1573.19 26.1121 Q1578.21 26.1121 1581.82 28.0971 Q1585.42 30.082 1587.73 34.0924 L1587.73 27.2059 L1595.18 27.2059 L1595.18 66.9452 Z\" fill=\"#000000\" fill-rule=\"nonzero\" fill-opacity=\"1\" /><path clip-path=\"url(#clip600)\" d=\"M1682.52 16.7545 L1682.52 25.383 Q1678.39 21.5346 1673.69 19.6307 Q1669.03 17.7268 1663.77 17.7268 Q1653.4 17.7268 1647.89 24.0867 Q1642.38 30.4061 1642.38 42.3968 Q1642.38 54.3469 1647.89 60.7069 Q1653.4 67.0263 1663.77 67.0263 Q1669.03 67.0263 1673.69 65.1223 Q1678.39 63.2184 1682.52 59.3701 L1682.52 67.9175 Q1678.23 70.8341 1673.41 72.2924 Q1668.63 73.7508 1663.28 73.7508 Q1649.55 73.7508 1641.65 65.3654 Q1633.75 56.9395 1633.75 42.3968 Q1633.75 27.8135 1641.65 19.4281 Q1649.55 11.0023 1663.28 11.0023 Q1668.71 11.0023 1673.49 12.4606 Q1678.31 13.8784 1682.52 16.7545 Z\" fill=\"#000000\" fill-rule=\"nonzero\" fill-opacity=\"1\" /><path clip-path=\"url(#clip600)\" d=\"M1712.42 32.4315 Q1706.42 32.4315 1702.94 37.1306 Q1699.45 41.7891 1699.45 49.9314 Q1699.45 58.0738 1702.9 62.7728 Q1706.38 67.4314 1712.42 67.4314 Q1718.37 67.4314 1721.86 62.7323 Q1725.34 58.0333 1725.34 49.9314 Q1725.34 41.8701 1721.86 37.1711 Q1718.37 32.4315 1712.42 32.4315 M1712.42 26.1121 Q1722.14 26.1121 1727.69 32.4315 Q1733.24 38.7509 1733.24 49.9314 Q1733.24 61.0714 1727.69 67.4314 Q1722.14 73.7508 1712.42 73.7508 Q1702.65 73.7508 1697.1 67.4314 Q1691.6 61.0714 1691.6 49.9314 Q1691.6 38.7509 1697.1 32.4315 Q1702.65 26.1121 1712.42 26.1121 Z\" fill=\"#000000\" fill-rule=\"nonzero\" fill-opacity=\"1\" /><path clip-path=\"url(#clip600)\" d=\"M1780.92 35.9153 Q1783.71 30.8922 1787.6 28.5022 Q1791.49 26.1121 1796.76 26.1121 Q1803.85 26.1121 1807.69 31.0947 Q1811.54 36.0368 1811.54 45.1919 L1811.54 72.576 L1804.05 72.576 L1804.05 45.4349 Q1804.05 38.913 1801.74 35.7533 Q1799.43 32.5936 1794.69 32.5936 Q1788.9 32.5936 1785.54 36.4419 Q1782.17 40.2903 1782.17 46.9338 L1782.17 72.576 L1774.68 72.576 L1774.68 45.4349 Q1774.68 38.8725 1772.37 35.7533 Q1770.06 32.5936 1765.24 32.5936 Q1759.53 32.5936 1756.17 36.4824 Q1752.8 40.3308 1752.8 46.9338 L1752.8 72.576 L1745.31 72.576 L1745.31 27.2059 L1752.8 27.2059 L1752.8 34.2544 Q1755.36 30.082 1758.92 28.0971 Q1762.49 26.1121 1767.39 26.1121 Q1772.33 26.1121 1775.77 28.6237 Q1779.26 31.1352 1780.92 35.9153 Z\" fill=\"#000000\" fill-rule=\"nonzero\" fill-opacity=\"1\" /><path clip-path=\"url(#clip600)\" d=\"M1833.62 65.7705 L1833.62 89.8329 L1826.13 89.8329 L1826.13 27.2059 L1833.62 27.2059 L1833.62 34.0924 Q1835.97 30.0415 1839.53 28.0971 Q1843.14 26.1121 1848.12 26.1121 Q1856.39 26.1121 1861.53 32.6746 Q1866.72 39.2371 1866.72 49.9314 Q1866.72 60.6258 1861.53 67.1883 Q1856.39 73.7508 1848.12 73.7508 Q1843.14 73.7508 1839.53 71.8063 Q1835.97 69.8214 1833.62 65.7705 M1858.98 49.9314 Q1858.98 41.7081 1855.58 37.0496 Q1852.21 32.3505 1846.3 32.3505 Q1840.39 32.3505 1836.98 37.0496 Q1833.62 41.7081 1833.62 49.9314 Q1833.62 58.1548 1836.98 62.8538 Q1840.39 67.5124 1846.3 67.5124 Q1852.21 67.5124 1855.58 62.8538 Q1858.98 58.1548 1858.98 49.9314 Z\" fill=\"#000000\" fill-rule=\"nonzero\" fill-opacity=\"1\" /><path clip-path=\"url(#clip600)\" d=\"M1899.69 49.7694 Q1890.66 49.7694 1887.17 51.8354 Q1883.69 53.9013 1883.69 58.8839 Q1883.69 62.8538 1886.28 65.2034 Q1888.91 67.5124 1893.41 67.5124 Q1899.61 67.5124 1903.34 63.1374 Q1907.1 58.7219 1907.1 51.4303 L1907.1 49.7694 L1899.69 49.7694 M1914.56 46.6907 L1914.56 72.576 L1907.1 72.576 L1907.1 65.6895 Q1904.55 69.8214 1900.74 71.8063 Q1896.94 73.7508 1891.43 73.7508 Q1884.46 73.7508 1880.33 69.8619 Q1876.24 65.9325 1876.24 59.3701 Q1876.24 51.7138 1881.34 47.825 Q1886.48 43.9361 1896.65 43.9361 L1907.1 43.9361 L1907.1 43.2069 Q1907.1 38.0623 1903.7 35.2672 Q1900.34 32.4315 1894.22 32.4315 Q1890.33 32.4315 1886.65 33.3632 Q1882.96 34.295 1879.56 36.1584 L1879.56 29.2718 Q1883.65 27.692 1887.5 26.9223 Q1891.35 26.1121 1894.99 26.1121 Q1904.83 26.1121 1909.7 31.2163 Q1914.56 36.3204 1914.56 46.6907 Z\" fill=\"#000000\" fill-rule=\"nonzero\" fill-opacity=\"1\" /><path clip-path=\"url(#clip600)\" d=\"M1956.2 34.1734 Q1954.94 33.4443 1953.45 33.1202 Q1951.99 32.7556 1950.21 32.7556 Q1943.89 32.7556 1940.48 36.8875 Q1937.12 40.9789 1937.12 48.6757 L1937.12 72.576 L1929.63 72.576 L1929.63 27.2059 L1937.12 27.2059 L1937.12 34.2544 Q1939.47 30.1225 1943.24 28.1376 Q1947 26.1121 1952.39 26.1121 Q1953.16 26.1121 1954.09 26.2337 Q1955.03 26.3147 1956.16 26.5172 L1956.2 34.1734 Z\" fill=\"#000000\" fill-rule=\"nonzero\" fill-opacity=\"1\" /><path clip-path=\"url(#clip600)\" d=\"M1964.02 27.2059 L1971.47 27.2059 L1971.47 72.576 L1964.02 72.576 L1964.02 27.2059 M1964.02 9.54393 L1971.47 9.54393 L1971.47 18.9825 L1964.02 18.9825 L1964.02 9.54393 Z\" fill=\"#000000\" fill-rule=\"nonzero\" fill-opacity=\"1\" /><path clip-path=\"url(#clip600)\" d=\"M2015.99 28.5427 L2015.99 35.5912 Q2012.83 33.9709 2009.43 33.1607 Q2006.03 32.3505 2002.38 32.3505 Q1996.83 32.3505 1994.04 34.0519 Q1991.28 35.7533 1991.28 39.156 Q1991.28 41.7486 1993.27 43.2475 Q1995.25 44.7058 2001.25 46.0426 L2003.8 46.6097 Q2011.74 48.3111 2015.06 51.4303 Q2018.42 54.509 2018.42 60.0587 Q2018.42 66.3781 2013.4 70.0644 Q2008.42 73.7508 1999.67 73.7508 Q1996.02 73.7508 1992.05 73.0216 Q1988.12 72.3329 1983.75 70.9151 L1983.75 63.2184 Q1987.88 65.3654 1991.89 66.4591 Q1995.9 67.5124 1999.83 67.5124 Q2005.09 67.5124 2007.93 65.73 Q2010.77 63.9071 2010.77 60.6258 Q2010.77 57.5877 2008.7 55.9673 Q2006.67 54.3469 1999.75 52.8481 L1997.16 52.2405 Q1990.23 50.7821 1987.15 47.7845 Q1984.07 44.7463 1984.07 39.4801 Q1984.07 33.0797 1988.61 29.5959 Q1993.14 26.1121 2001.49 26.1121 Q2005.62 26.1121 2009.27 26.7198 Q2012.91 27.3274 2015.99 28.5427 Z\" fill=\"#000000\" fill-rule=\"nonzero\" fill-opacity=\"1\" /><path clip-path=\"url(#clip600)\" d=\"M2047.87 32.4315 Q2041.88 32.4315 2038.39 37.1306 Q2034.91 41.7891 2034.91 49.9314 Q2034.91 58.0738 2038.35 62.7728 Q2041.84 67.4314 2047.87 67.4314 Q2053.83 67.4314 2057.31 62.7323 Q2060.79 58.0333 2060.79 49.9314 Q2060.79 41.8701 2057.31 37.1711 Q2053.83 32.4315 2047.87 32.4315 M2047.87 26.1121 Q2057.59 26.1121 2063.14 32.4315 Q2068.69 38.7509 2068.69 49.9314 Q2068.69 61.0714 2063.14 67.4314 Q2057.59 73.7508 2047.87 73.7508 Q2038.11 73.7508 2032.56 67.4314 Q2027.05 61.0714 2027.05 49.9314 Q2027.05 38.7509 2032.56 32.4315 Q2038.11 26.1121 2047.87 26.1121 Z\" fill=\"#000000\" fill-rule=\"nonzero\" fill-opacity=\"1\" /><path clip-path=\"url(#clip600)\" d=\"M2118.76 45.1919 L2118.76 72.576 L2111.31 72.576 L2111.31 45.4349 Q2111.31 38.994 2108.8 35.7938 Q2106.29 32.5936 2101.26 32.5936 Q2095.23 32.5936 2091.74 36.4419 Q2088.26 40.2903 2088.26 46.9338 L2088.26 72.576 L2080.77 72.576 L2080.77 27.2059 L2088.26 27.2059 L2088.26 34.2544 Q2090.93 30.163 2094.54 28.1376 Q2098.18 26.1121 2102.92 26.1121 Q2110.74 26.1121 2114.75 30.9732 Q2118.76 35.7938 2118.76 45.1919 Z\" fill=\"#000000\" fill-rule=\"nonzero\" fill-opacity=\"1\" /><path clip-path=\"url(#clip602)\" d=\"M320.51 123.472 L320.51 1423.18 L723.45 1423.18 L723.45 123.472 L320.51 123.472 L320.51 123.472  Z\" fill=\"#0000ff\" fill-rule=\"evenodd\" fill-opacity=\"1\"/>\n",
       "<polyline clip-path=\"url(#clip602)\" style=\"stroke:#000000; stroke-linecap:round; stroke-linejoin:round; stroke-width:4; stroke-opacity:1; fill:none\" points=\"320.51,123.472 320.51,1423.18 723.45,1423.18 723.45,123.472 320.51,123.472 \"/>\n",
       "<path clip-path=\"url(#clip602)\" d=\"M824.185 1091.56 L824.185 1423.18 L1227.12 1423.18 L1227.12 1091.56 L824.185 1091.56 L824.185 1091.56  Z\" fill=\"#ffa500\" fill-rule=\"evenodd\" fill-opacity=\"1\"/>\n",
       "<polyline clip-path=\"url(#clip602)\" style=\"stroke:#000000; stroke-linecap:round; stroke-linejoin:round; stroke-width:4; stroke-opacity:1; fill:none\" points=\"824.185,1091.56 824.185,1423.18 1227.12,1423.18 1227.12,1091.56 824.185,1091.56 \"/>\n",
       "<path clip-path=\"url(#clip602)\" d=\"M1327.86 1126.02 L1327.86 1423.18 L1730.8 1423.18 L1730.8 1126.02 L1327.86 1126.02 L1327.86 1126.02  Z\" fill=\"#0000ff\" fill-rule=\"evenodd\" fill-opacity=\"1\"/>\n",
       "<polyline clip-path=\"url(#clip602)\" style=\"stroke:#000000; stroke-linecap:round; stroke-linejoin:round; stroke-width:4; stroke-opacity:1; fill:none\" points=\"1327.86,1126.02 1327.86,1423.18 1730.8,1423.18 1730.8,1126.02 1327.86,1126.02 \"/>\n",
       "<path clip-path=\"url(#clip602)\" d=\"M1831.53 1141.37 L1831.53 1423.18 L2234.47 1423.18 L2234.47 1141.37 L1831.53 1141.37 L1831.53 1141.37  Z\" fill=\"#ffa500\" fill-rule=\"evenodd\" fill-opacity=\"1\"/>\n",
       "<polyline clip-path=\"url(#clip602)\" style=\"stroke:#000000; stroke-linecap:round; stroke-linejoin:round; stroke-width:4; stroke-opacity:1; fill:none\" points=\"1831.53,1141.37 1831.53,1423.18 2234.47,1423.18 2234.47,1141.37 1831.53,1141.37 \"/>\n",
       "<circle clip-path=\"url(#clip602)\" style=\"fill:#009af9; stroke:none; fill-opacity:0\" cx=\"521.98\" cy=\"123.472\" r=\"2\"/>\n",
       "<circle clip-path=\"url(#clip602)\" style=\"fill:#009af9; stroke:none; fill-opacity:0\" cx=\"1025.65\" cy=\"1091.56\" r=\"2\"/>\n",
       "<circle clip-path=\"url(#clip602)\" style=\"fill:#009af9; stroke:none; fill-opacity:0\" cx=\"1529.33\" cy=\"1126.02\" r=\"2\"/>\n",
       "<circle clip-path=\"url(#clip602)\" style=\"fill:#009af9; stroke:none; fill-opacity:0\" cx=\"2033\" cy=\"1141.37\" r=\"2\"/>\n",
       "<path clip-path=\"url(#clip600)\" d=\"M2013.59 270.476 L2281.07 270.476 L2281.07 166.796 L2013.59 166.796  Z\" fill=\"#ffffff\" fill-rule=\"evenodd\" fill-opacity=\"1\"/>\n",
       "<polyline clip-path=\"url(#clip600)\" style=\"stroke:#000000; stroke-linecap:round; stroke-linejoin:round; stroke-width:4; stroke-opacity:1; fill:none\" points=\"2013.59,270.476 2281.07,270.476 2281.07,166.796 2013.59,166.796 2013.59,270.476 \"/>\n",
       "<path clip-path=\"url(#clip600)\" d=\"M2037.48 239.372 L2180.85 239.372 L2180.85 197.9 L2037.48 197.9 L2037.48 239.372  Z\" fill=\"#0000ff\" fill-rule=\"evenodd\" fill-opacity=\"1\"/>\n",
       "<polyline clip-path=\"url(#clip600)\" style=\"stroke:#000000; stroke-linecap:round; stroke-linejoin:round; stroke-width:4; stroke-opacity:1; fill:none\" points=\"2037.48,239.372 2180.85,239.372 2180.85,197.9 2037.48,197.9 2037.48,239.372 \"/>\n",
       "<path clip-path=\"url(#clip600)\" d=\"M2218.59 238.323 Q2216.78 242.953 2215.07 244.365 Q2213.36 245.777 2210.49 245.777 L2207.08 245.777 L2207.08 242.212 L2209.58 242.212 Q2211.34 242.212 2212.32 241.379 Q2213.29 240.545 2214.47 237.443 L2215.23 235.499 L2204.75 209.99 L2209.26 209.99 L2217.36 230.268 L2225.46 209.99 L2229.98 209.99 L2218.59 238.323 Z\" fill=\"#000000\" fill-rule=\"nonzero\" fill-opacity=\"1\" /><path clip-path=\"url(#clip600)\" d=\"M2237.27 231.981 L2244.91 231.981 L2244.91 205.615 L2236.6 207.282 L2236.6 203.022 L2244.86 201.356 L2249.54 201.356 L2249.54 231.981 L2257.18 231.981 L2257.18 235.916 L2237.27 235.916 L2237.27 231.981 Z\" fill=\"#000000\" fill-rule=\"nonzero\" fill-opacity=\"1\" /></svg>\n"
      ]
     },
     "execution_count": 328,
     "metadata": {},
     "output_type": "execute_result"
    }
   ],
   "source": [
    "# Define the data\n",
    "values = [er1, er2, er3, er4]\n",
    "\n",
    "# Define the labels for the bars\n",
    "labels = [\"supervised BFGS\", \"supervised CG\", \"unsupervised BFGS\", \"unsupervised CG\"]\n",
    "# Specify custom colors for the bars\n",
    "colors = [\"blue\", \"orange\", \"blue\", \"orange\"]\n",
    "\n",
    "# Create the bar graph\n",
    "bar(labels, values, xlabel=\"Algorithms\", ylabel=\"Min Norm Values\", title=\"Image Denoising Optimizing Comparison\", fillcolor=colors)"
   ]
  }
 ],
 "metadata": {
  "kernelspec": {
   "display_name": "Julia 1.10.0",
   "language": "julia",
   "name": "julia-1.10"
  },
  "language_info": {
   "file_extension": ".jl",
   "mimetype": "application/julia",
   "name": "julia",
   "version": "1.10.0"
  }
 },
 "nbformat": 4,
 "nbformat_minor": 5
}
